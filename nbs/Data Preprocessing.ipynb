{
 "cells": [
  {
   "cell_type": "markdown",
   "id": "e0b01f5c",
   "metadata": {},
   "source": [
    "# Data Preprocessing"
   ]
  },
  {
   "cell_type": "code",
   "execution_count": 2,
   "id": "73730f8f",
   "metadata": {},
   "outputs": [],
   "source": [
    "import re"
   ]
  },
  {
   "cell_type": "code",
   "execution_count": 3,
   "id": "f32b8544",
   "metadata": {},
   "outputs": [],
   "source": [
    "def remove_urls(text):\n",
    "    \"\"\"Remove URLs from a text string\"\"\"\n",
    "    return re.sub(r'http\\S+', '', text)"
   ]
  },
  {
   "cell_type": "code",
   "execution_count": 4,
   "id": "3f67f21f",
   "metadata": {},
   "outputs": [],
   "source": [
    "def remove_usernames(text):\n",
    "    \"\"\"Remove usernames placeholders from a text string\"\"\"\n",
    "    return text.replace('<user>', '').strip()"
   ]
  },
  {
   "cell_type": "code",
   "execution_count": 5,
   "id": "db02d1b7",
   "metadata": {},
   "outputs": [],
   "source": [
    "def remove_rt(text):\n",
    "    \"\"\"Remove retweet indications from a text string\"\"\"\n",
    "    return text.replace('RT :', '').strip()"
   ]
  },
  {
   "cell_type": "code",
   "execution_count": 6,
   "id": "43fef3de",
   "metadata": {},
   "outputs": [],
   "source": [
    "def remove_hashtags_and_mentions(text, retain_text=False):\n",
    "    \"\"\"Remove hashtags and mentions. If retain_text=True, retains the text without # and @ symbols\"\"\"\n",
    "    if retain_text:\n",
    "        text = re.sub(r'#', '', text)\n",
    "        return text\n",
    "    else:\n",
    "        text = re.sub(r'#\\S+', '', text)\n",
    "        return re.sub(r'@\\S+', '', text)"
   ]
  },
  {
   "cell_type": "code",
   "execution_count": 7,
   "id": "9bab9595",
   "metadata": {},
   "outputs": [],
   "source": [
    "def handle_emojis(text, remove=False):\n",
    "    \"\"\"Handle emojis. If remove=True, removes all emojis.\"\"\"\n",
    "    if remove:\n",
    "        # This pattern matches most common emojis. Depending on the specific dataset, it might need adjustments.\n",
    "        emoji_pattern = re.compile(\"[\"\n",
    "                               u\"\\U0001F600-\\U0001F64F\"  # emoticons\n",
    "                               u\"\\U0001F300-\\U0001F5FF\"  # symbols & pictographs\n",
    "                               u\"\\U0001F680-\\U0001F6FF\"  # transport & map symbols\n",
    "                               u\"\\U0001F700-\\U0001F77F\"  # alchemical symbols\n",
    "                               u\"\\U0001F780-\\U0001F7FF\"  # Geometric Shapes Extended\n",
    "                               u\"\\U0001F800-\\U0001F8FF\"  # Supplemental Arrows-C\n",
    "                               u\"\\U0001F900-\\U0001F9FF\"  # Supplemental Symbols and Pictographs\n",
    "                               u\"\\U0001FA00-\\U0001FA6F\"  # Chess Symbols\n",
    "                               u\"\\U0001FA70-\\U0001FAFF\"  # Symbols and Pictographs Extended-A\n",
    "                               u\"\\U00002702-\\U000027B0\"  # Dingbats\n",
    "                               u\"\\U000024C2-\\U0001F251\"  # flags (iOS)\n",
    "                               \"]+\", flags=re.UNICODE)\n",
    "        return emoji_pattern.sub(r'', text)\n",
    "    else:\n",
    "        # You can expand this to convert specific emojis to text if needed\n",
    "        return text"
   ]
  },
  {
   "cell_type": "code",
   "execution_count": null,
   "id": "1eb05a94",
   "metadata": {},
   "outputs": [],
   "source": [
    "def remove_non_alpha(text):\n",
    "    \"\"\"Remove all non-alphabetical characters  from a text string.\"\"\"\n",
    "    # Use regular expression to replace all non-alphabet characters with an empty string\n",
    "    return re.sub('[^a-zA-Z\\s]', '', text)"
   ]
  },
  {
   "cell_type": "code",
   "execution_count": 8,
   "id": "ecd5c226",
   "metadata": {},
   "outputs": [],
   "source": [
    "def standardize_punctuation(text):\n",
    "    \"\"\"Standardize punctuation marks within the text\"\"\"\n",
    "    text = re.sub(r'!+', '!', text)\n",
    "    text = re.sub(r'\\.+', '.', text)\n",
    "    return re.sub(r'\\?+', '?', text)"
   ]
  },
  {
   "cell_type": "code",
   "execution_count": 9,
   "id": "d3225a7e",
   "metadata": {},
   "outputs": [],
   "source": [
    "def to_lowercase(text):\n",
    "    \"\"\"Convert text to lowercase\"\"\"\n",
    "    return text.lower()"
   ]
  },
  {
   "cell_type": "code",
   "execution_count": 10,
   "id": "c3f5d652",
   "metadata": {},
   "outputs": [],
   "source": [
    "def trim_extra_spaces(text):\n",
    "    \"\"\"Trim leading, trailing, and extra spaces within the text\"\"\"\n",
    "    return ' '.join(text.split())"
   ]
  },
  {
   "cell_type": "code",
   "execution_count": 11,
   "id": "0c313a5b",
   "metadata": {},
   "outputs": [],
   "source": [
    "def clean_text(text, retain_hashtag_text=False, remove_emoji=False):\n",
    "    \"\"\"Aggregate function to clean the provided text based on individual cleaning functions\"\"\"\n",
    "    text = remove_urls(text)\n",
    "    text = remove_usernames(text)\n",
    "    text = remove_rt(text)\n",
    "    text = remove_hashtags_and_mentions(text, retain_hashtag_text)\n",
    "    text = handle_emojis(text, remove_emoji)\n",
    "    text = remove_non_alpha(text)\n",
    "    text = standardize_punctuation(text)\n",
    "    text = to_lowercase(text)\n",
    "    text = trim_extra_spaces(text)\n",
    "    return text"
   ]
  },
  {
   "cell_type": "code",
   "execution_count": 12,
   "id": "e661558e",
   "metadata": {},
   "outputs": [
    {
     "name": "stdout",
     "output_type": "stream",
     "text": [
      "rt : when u walk straight . thanksgivingwithhispanics\n",
      "nena queee . lamarasssh\n",
      "simple things//miguel * mi nueva obsecion *\n",
      "quiero panda express\n"
     ]
    }
   ],
   "source": [
    "if __name__ == '__main__':\n",
    "    # Sample Data\n",
    "    data_sample = [\n",
    "        'RT <user> : When u walk straight ... #ThanksgivingWithHispanics https://...',\n",
    "        '<user> Nena queee ... #lamarasssh',\n",
    "        'Simple Things//Miguel * mi nueva obsecion *',\n",
    "        'quiero Panda Express 👅'\n",
    "    ]\n",
    "    \n",
    "    # Clean Data\n",
    "    cleaned_data = [clean_text(line, retain_hashtag_text=True, remove_emoji=True) for line in data_sample]\n",
    "    for line in cleaned_data:\n",
    "        print(line)"
   ]
  },
  {
   "cell_type": "code",
   "execution_count": null,
   "id": "fd0f790b",
   "metadata": {},
   "outputs": [],
   "source": []
  }
 ],
 "metadata": {
  "kernelspec": {
   "display_name": "Python 3 (ipykernel)",
   "language": "python",
   "name": "python3"
  },
  "language_info": {
   "codemirror_mode": {
    "name": "ipython",
    "version": 3
   },
   "file_extension": ".py",
   "mimetype": "text/x-python",
   "name": "python",
   "nbconvert_exporter": "python",
   "pygments_lexer": "ipython3",
   "version": "3.11.5"
  }
 },
 "nbformat": 4,
 "nbformat_minor": 5
}

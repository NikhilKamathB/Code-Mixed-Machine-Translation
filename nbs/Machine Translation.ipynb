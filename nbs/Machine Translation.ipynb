{
 "cells": [
  {
   "cell_type": "markdown",
   "id": "a797b411-ba32-4a49-8254-fd3b57caf76c",
   "metadata": {},
   "source": [
    "## Importing libraries and modules"
   ]
  },
  {
   "cell_type": "code",
   "execution_count": null,
   "id": "1bd2df09-6a25-4686-b1ff-392d729c4030",
   "metadata": {},
   "outputs": [],
   "source": [
    "# Enable auto-reload\n",
    "%load_ext autoreload\n",
    "%autoreload 2"
   ]
  },
  {
   "cell_type": "code",
   "execution_count": null,
   "id": "ddc02188-33e9-4af6-877e-7b343c69de5f",
   "metadata": {},
   "outputs": [],
   "source": [
    "# Suppress warnings\n",
    "import warnings\n",
    "warnings.filterwarnings(\"ignore\")\n",
    "\n",
    "# Add one level up directory to the path\n",
    "import sys\n",
    "sys.path.append(\"..\")\n",
    "\n",
    "# Import libraries\n",
    "import torch\n",
    "import random\n",
    "\n",
    "# Import custom modules\n",
    "from src.data import *\n",
    "from src.machine_translation import *\n",
    "from src.data.utils import get_dataset\n",
    "from src.data.preprocess import clean_text\n",
    "from src.data.tokenizer import CustomBartTokenizer\n",
    "from src.machine_translation.net import CodeMixedModel\n",
    "from src.machine_translation.utils import get_data_loader_models\n",
    "from src.machine_translation.models.bart_conditional import BartForConditionalGeneration"
   ]
  },
  {
   "cell_type": "markdown",
   "id": "7afb9724-cdf5-458c-9ba9-854da0b39806",
   "metadata": {},
   "source": [
    "## Data acquisition, cleaning and processing"
   ]
  },
  {
   "cell_type": "code",
   "execution_count": null,
   "id": "c22ec356-0bbb-4f7b-8aa7-b7d5d7ba8879",
   "metadata": {},
   "outputs": [],
   "source": [
    "%%time\n",
    "train_df, validation_df, test_df = get_dataset()"
   ]
  },
  {
   "cell_type": "code",
   "execution_count": null,
   "id": "d51e7d88-8c0b-4417-a25c-426591eb691f",
   "metadata": {},
   "outputs": [],
   "source": [
    "train_df.en.info()"
   ]
  },
  {
   "cell_type": "code",
   "execution_count": null,
   "id": "65e76ede-e303-4558-8f66-810de6ef9330",
   "metadata": {},
   "outputs": [],
   "source": [
    "train_df"
   ]
  },
  {
   "cell_type": "code",
   "execution_count": null,
   "id": "b4136fec-19ad-4643-83c6-3301a0388e2f",
   "metadata": {},
   "outputs": [],
   "source": [
    "validation_df"
   ]
  },
  {
   "cell_type": "code",
   "execution_count": null,
   "id": "8f002715-2359-4b51-b7b9-13e0c2738b21",
   "metadata": {},
   "outputs": [],
   "source": [
    "test_df"
   ]
  },
  {
   "cell_type": "code",
   "execution_count": null,
   "id": "9e93f1af-c168-4d30-8d38-f08a1245b594",
   "metadata": {},
   "outputs": [],
   "source": [
    "%%time\n",
    "train_df = train_df.applymap(clean_text)\n",
    "train_df"
   ]
  },
  {
   "cell_type": "code",
   "execution_count": null,
   "id": "1016d417-f744-4caa-9773-e968eafc35c8",
   "metadata": {},
   "outputs": [],
   "source": [
    "%%time\n",
    "validation_df = validation_df.applymap(clean_text)\n",
    "validation_df"
   ]
  },
  {
   "cell_type": "code",
   "execution_count": null,
   "id": "46573bf4-a9cc-49d5-9659-3966fc9a80b9",
   "metadata": {},
   "outputs": [],
   "source": [
    "%%time\n",
    "test_df = test_df.applymap(clean_text)\n",
    "test_df"
   ]
  },
  {
   "cell_type": "markdown",
   "id": "6815fbe5-c088-40b5-9406-2c942a6d09f8",
   "metadata": {},
   "source": [
    "## Data tokenization"
   ]
  },
  {
   "cell_type": "code",
   "execution_count": null,
   "id": "5a5dbb69-5bde-412d-9071-9e6c3ef6a25e",
   "metadata": {},
   "outputs": [],
   "source": [
    "bart_tokenizer = CustomBartTokenizer().build()\n",
    "bart_tokenizer_scratch = CustomBartTokenizer().build(data=train_df[\"hi_en\"], tokenizer_style=STYLE.SCRATCH.value)\n",
    "bart_tokenizer_append = CustomBartTokenizer().build(data=train_df[\"hi_en\"], tokenizer_style=STYLE.APPEND.value)"
   ]
  },
  {
   "cell_type": "code",
   "execution_count": null,
   "id": "d8d171f9-4ec2-4458-bd87-70cd7d7a280a",
   "metadata": {},
   "outputs": [],
   "source": [
    "query = \"Hello! Ye CSCI 544 ka project he. Ye project Code-Mixed Machine Translation ke bara me he. Hamane hamari khoon bahahe.\"\n",
    "query = clean_text(text=query)"
   ]
  },
  {
   "cell_type": "code",
   "execution_count": null,
   "id": "8049c0ea-6b74-428f-8ec9-f9b578641d53",
   "metadata": {},
   "outputs": [],
   "source": [
    "token_idx = bart_tokenizer.encode(query, add_special_tokens=True)\n",
    "token_word = bart_tokenizer.convert_ids_to_tokens(token_idx)\n",
    "print('#'*100)\n",
    "print(\"This is an example of using the default Bart Tokenizer.\\n\")\n",
    "print(f\"Sentence: {query}\\n\")\n",
    "print(f\"Tokenized word: {token_word}\\n\")\n",
    "print(f\"Tokenized idx: {token_idx}\")\n",
    "print('#'*100)"
   ]
  },
  {
   "cell_type": "code",
   "execution_count": null,
   "id": "983d5c73-96b4-4c61-af57-46ecd0891993",
   "metadata": {},
   "outputs": [],
   "source": [
    "token_idx = bart_tokenizer_scratch.encode(query, add_special_tokens=True)\n",
    "token_word = bart_tokenizer_scratch.convert_ids_to_tokens(token_idx)\n",
    "print('#'*100)\n",
    "print(\"This is an example of the Bart Tokenizer that is trained from scratch.\\n\")\n",
    "print(f\"Sentence: {query}\\n\")\n",
    "print(f\"Tokenized word: {token_word}\\n\")\n",
    "print(f\"Tokenized idx: {token_idx}\")\n",
    "print('#'*100)"
   ]
  },
  {
   "cell_type": "code",
   "execution_count": null,
   "id": "122936f1-df9e-4342-9492-9dec2cb289bc",
   "metadata": {},
   "outputs": [],
   "source": [
    "token_idx = bart_tokenizer_append.encode(query, add_special_tokens=True)\n",
    "token_word = bart_tokenizer_append.convert_ids_to_tokens(token_idx)\n",
    "print('#'*100)\n",
    "print(\"This is an example of the Bart Tokenizer to which we append our new data.\\n\")\n",
    "print(f\"Sentence: {query}\\n\")\n",
    "print(f\"Tokenized word: {token_word}\\n\")\n",
    "print(f\"Tokenized idx: {token_idx}\")\n",
    "print('#'*100)"
   ]
  },
  {
   "cell_type": "code",
   "execution_count": null,
   "id": "390d4005-a4fe-4187-8a41-a987029417b1",
   "metadata": {},
   "outputs": [],
   "source": [
    "# Now that we know how to get a BART-Tokenizer - default, appeded and scratch, let us get the tokenizer for our code-mixed language\n",
    "# and the target language.\n",
    "# Code-Mixed Language - Build a Bart-Tokenizer from scratch.\n",
    "# Target Language (English) - Use the default Bart-Tokenizer.\n",
    "hi_en_bart_tokenizer = CustomBartTokenizer().build(\n",
    "    data=train_df[\"hi_en\"],\n",
    "    tokenizer_style=MBART_TOKENIZER_BPE_BINDING_BART_TOKENIZER_ENCODER_STYLE,\n",
    "    tokenizer_bart_from_pretrained_path=MBART_TOKENIZER_BPE_BINDING_BART_TOKENIZER_ENCODER_FROM_PRETRAINED\n",
    ")\n",
    "en_bart_tokenizer = CustomBartTokenizer().build(\n",
    "    tokenizer_style=MBART_TOKENIZER_BPE_BINDING_BART_TOKENIZER_DECODER_STYLE,\n",
    "    tokenizer_bart_from_pretrained_path=MBART_TOKENIZER_BPE_BINDING_BART_TOKENIZER_DECODER_FROM_PRETRAINED\n",
    ")"
   ]
  },
  {
   "cell_type": "code",
   "execution_count": null,
   "id": "e43157d2-c90a-4a82-a8fd-f4c9256ca9fe",
   "metadata": {},
   "outputs": [],
   "source": [
    "print(f\"Hinglish tokenizer vocab size: {hi_en_bart_tokenizer.vocab_size}\")\n",
    "print(f\"English tokenizer vocab size: {en_bart_tokenizer.vocab_size}\")"
   ]
  },
  {
   "cell_type": "markdown",
   "id": "ea448cc8-4d09-40e8-a793-db3b7c6d59d7",
   "metadata": {},
   "source": [
    "## Dataset and Data Loaders"
   ]
  },
  {
   "cell_type": "raw",
   "id": "06950526-374c-4bb2-834d-db2e62f06e56",
   "metadata": {},
   "source": [
    "# Get the data loaders for denoising\n",
    "__data_loaders__ = get_data_loader_models(\n",
    "    train_df=train_df,\n",
    "    validation_df=validation_df,\n",
    "    test_df=test_df,\n",
    "    train_batch_size=4, \n",
    "    validation_batch_size=4, \n",
    "    test_batch_size=4,\n",
    "    encoder_tokenizer=hi_en_bart_tokenizer,\n",
    "    decoder_tokenizer=hi_en_bart_tokenizer,\n",
    "    denoising_stage=True\n",
    ")"
   ]
  },
  {
   "cell_type": "raw",
   "id": "a5d60d63-290c-4fae-8662-4249e472539d",
   "metadata": {},
   "source": [
    "__data_loaders__"
   ]
  },
  {
   "cell_type": "raw",
   "id": "7551a750-02fd-4bb8-9bc9-a174a17c1f19",
   "metadata": {},
   "source": [
    "__data_loader__, __train_data_loader__, __validation_data_loader__, __test_data_loader__ = __data_loaders__[\"hi_en__en\"].values()"
   ]
  },
  {
   "cell_type": "raw",
   "id": "22fa8491-7d4e-4f9b-ac91-27b4528b9ccc",
   "metadata": {},
   "source": [
    "__data_loader__.visualize()"
   ]
  },
  {
   "cell_type": "raw",
   "id": "c4b0e9c2-655f-4a08-909e-59a8fea598e0",
   "metadata": {},
   "source": [
    "# Get the data loaders for translation\n",
    "__data_loaders__ = get_data_loader_models(\n",
    "    train_df=train_df,\n",
    "    validation_df=validation_df,\n",
    "    test_df=test_df,\n",
    "    train_batch_size=4, \n",
    "    validation_batch_size=4, \n",
    "    test_batch_size=4,\n",
    "    encoder_tokenizer=hi_en_bart_tokenizer,\n",
    "    decoder_tokenizer=en_bart_tokenizer\n",
    ")"
   ]
  },
  {
   "cell_type": "raw",
   "id": "96a12e0b-62e6-44c1-9219-229aa51bc57d",
   "metadata": {},
   "source": [
    "__data_loaders__"
   ]
  },
  {
   "cell_type": "raw",
   "id": "e22633de-1352-482e-b8eb-8d450200b318",
   "metadata": {},
   "source": [
    "__data_loader__, __train_data_loader__, __validation_data_loader__, __test_data_loader__ = __data_loaders__[\"hi_en__en\"].values()"
   ]
  },
  {
   "cell_type": "raw",
   "id": "8268f86f-3b58-412c-bb5d-8d540c7b6365",
   "metadata": {},
   "source": [
    "__data_loader__.visualize()"
   ]
  },
  {
   "cell_type": "markdown",
   "id": "f96d610c-39a2-4c44-8356-3cae031dc975",
   "metadata": {},
   "source": [
    "## Model definition"
   ]
  },
  {
   "cell_type": "code",
   "execution_count": null,
   "id": "e8fa45c5-e36f-40ac-8739-d05f225a40a0",
   "metadata": {},
   "outputs": [],
   "source": [
    "__model__ = BartForConditionalGeneration()\n",
    "__model__.model"
   ]
  },
  {
   "cell_type": "code",
   "execution_count": null,
   "id": "39520ff4-165a-42e8-af2d-cc0b7d958c51",
   "metadata": {},
   "outputs": [],
   "source": [
    "__batch_size__ = 8\n",
    "__en_seq_length__ = random.randint(13, 23)\n",
    "__de_seq_length__ = random.randint(13, 23)\n",
    "__encoder_input__ = torch.randint(low=0, high=hi_en_bart_tokenizer.vocab_size, size=(__batch_size__, __en_seq_length__)).to(MBART_MODEL_CONDITIONAL_GENERATION_DEVICE)\n",
    "__decoder_input__ = torch.randint(low=0, high=en_bart_tokenizer.vocab_size, size=(__batch_size__, __de_seq_length__)).to(MBART_MODEL_CONDITIONAL_GENERATION_DEVICE)\n",
    "__out__ = __model__.model(input_ids=__encoder_input__, decoder_input_ids=__decoder_input__, return_dict=True)\n",
    "print(f\"Model has a total of {__model__.model.num_parameters()} number of parameters\")\n",
    "print(\"Model encoder input size: \", __encoder_input__.size())\n",
    "print(\"Model decoder input size: \", __decoder_input__.size())\n",
    "print(\"Model output type: \", type(__out__))\n",
    "print(\"Model output size: \", __out__.logits.size())\n",
    "print(\"Model output:\\n\", __out__.logits)"
   ]
  },
  {
   "cell_type": "markdown",
   "id": "2680e45e-feb9-470d-ab00-5c2fd79f12a5",
   "metadata": {},
   "source": [
    "## Model Training"
   ]
  },
  {
   "cell_type": "code",
   "execution_count": null,
   "id": "7f53f7d8-b0c1-4708-86b6-392c96199678",
   "metadata": {},
   "outputs": [],
   "source": [
    "data_loaders = get_data_loader_models(\n",
    "    train_df=train_df,\n",
    "    validation_df=validation_df,\n",
    "    test_df=test_df,\n",
    "    encoder_tokenizer=hi_en_bart_tokenizer,\n",
    "    decoder_tokenizer=en_bart_tokenizer\n",
    ")\n",
    "data_loaders"
   ]
  },
  {
   "cell_type": "code",
   "execution_count": null,
   "id": "aa40f729-86df-420c-8ca4-0db91a27efb7",
   "metadata": {},
   "outputs": [],
   "source": [
    "data_loader, train_data_laoder, validation_data_loader, test_data_loader = data_loaders[\"hi_en__en\"].values()"
   ]
  },
  {
   "cell_type": "code",
   "execution_count": null,
   "id": "e78bebb2-7b98-488a-9652-00312f4ae784",
   "metadata": {},
   "outputs": [],
   "source": [
    "mt_model = CodeMixedModel(\n",
    "    train_data_loader=train_data_laoder,\n",
    "    validation_data_loader=validation_data_loader,\n",
    "    test_data_loader=test_data_loader,\n",
    "    encoder_tokenizer=hi_en_bart_tokenizer,\n",
    "    decoder_tokenizer=en_bart_tokenizer,\n",
    "    trainable_layers=[\n",
    "        \"model.shared.weight\",\n",
    "        # \"model.encoder.embed_positions.weight\",\n",
    "        # \"model.decoder.embed_positions.weight\"\n",
    "    ]\n",
    ")"
   ]
  },
  {
   "cell_type": "code",
   "execution_count": null,
   "id": "552df5e7-e547-4ce2-b432-587345d072fd",
   "metadata": {},
   "outputs": [],
   "source": [
    "# Fit/train the model\n",
    "trained_mt_model, best_trained_mt_model = mt_model.fit()"
   ]
  },
  {
   "cell_type": "code",
   "execution_count": null,
   "id": "e5da08b4-bcf0-4947-9dfe-7b748c8f1f1a",
   "metadata": {},
   "outputs": [],
   "source": [
    "mt_model.test()"
   ]
  },
  {
   "cell_type": "code",
   "execution_count": null,
   "id": "e5729da8-ca71-4e7b-8c82-026931cc87b6",
   "metadata": {},
   "outputs": [],
   "source": [
    "mt_model.infer(\n",
    "    # model=mt_model.model,\n",
    "    src = [\"hi, tum kaise ho!\"]\n",
    ")"
   ]
  }
 ],
 "metadata": {
  "kernelspec": {
   "display_name": "Python 3 (ipykernel)",
   "language": "python",
   "name": "python3"
  },
  "language_info": {
   "codemirror_mode": {
    "name": "ipython",
    "version": 3
   },
   "file_extension": ".py",
   "mimetype": "text/x-python",
   "name": "python",
   "nbconvert_exporter": "python",
   "pygments_lexer": "ipython3",
   "version": "3.9.18"
  }
 },
 "nbformat": 4,
 "nbformat_minor": 5
}

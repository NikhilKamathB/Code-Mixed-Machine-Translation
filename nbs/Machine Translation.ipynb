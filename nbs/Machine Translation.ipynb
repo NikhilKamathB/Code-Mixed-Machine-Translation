{
 "cells": [
  {
   "cell_type": "markdown",
   "id": "a797b411-ba32-4a49-8254-fd3b57caf76c",
   "metadata": {},
   "source": [
    "## Importing libraries and modules"
   ]
  },
  {
   "cell_type": "code",
   "execution_count": 1,
   "id": "1bd2df09-6a25-4686-b1ff-392d729c4030",
   "metadata": {},
   "outputs": [],
   "source": [
    "# Enable auto-reload\n",
    "%load_ext autoreload\n",
    "%autoreload 2"
   ]
  },
  {
   "cell_type": "code",
   "execution_count": 2,
   "id": "ddc02188-33e9-4af6-877e-7b343c69de5f",
   "metadata": {},
   "outputs": [],
   "source": [
    "# Suppress warnings\n",
    "import warnings\n",
    "warnings.filterwarnings(\"ignore\")\n",
    "\n",
    "# Add one level up directory to the path\n",
    "import sys\n",
    "sys.path.append(\"..\")\n",
    "\n",
    "# Import libraries\n",
    "import torch\n",
    "import random\n",
    "\n",
    "# Import custom modules\n",
    "from src.data import *\n",
    "from src.machine_translation import *\n",
    "from src.data.utils import get_dataset\n",
    "from src.data.preprocess import clean_text\n",
    "from src.data.tokenizer import CustomBartTokenizer\n",
    "from src.machine_translation.net import CodeMixedModel, CodeMixedModelHGTrainer\n",
    "from src.machine_translation.models.bart_conditional import BartForConditionalGeneration\n",
    "from src.machine_translation.utils import get_tokenized_dataset_models, get_data_loader_models"
   ]
  },
  {
   "cell_type": "markdown",
   "id": "7afb9724-cdf5-458c-9ba9-854da0b39806",
   "metadata": {},
   "source": [
    "## Data acquisition, cleaning and processing"
   ]
  },
  {
   "cell_type": "code",
   "execution_count": 3,
   "id": "c22ec356-0bbb-4f7b-8aa7-b7d5d7ba8879",
   "metadata": {},
   "outputs": [
    {
     "name": "stdout",
     "output_type": "stream",
     "text": [
      "CPU times: user 4.58 s, sys: 192 ms, total: 4.77 s\n",
      "Wall time: 8.04 s\n"
     ]
    }
   ],
   "source": [
    "%%time\n",
    "train_df, validation_df, test_df = get_dataset()"
   ]
  },
  {
   "cell_type": "code",
   "execution_count": 4,
   "id": "65e76ede-e303-4558-8f66-810de6ef9330",
   "metadata": {},
   "outputs": [
    {
     "data": {
      "text/html": [
       "<div>\n",
       "<style scoped>\n",
       "    .dataframe tbody tr th:only-of-type {\n",
       "        vertical-align: middle;\n",
       "    }\n",
       "\n",
       "    .dataframe tbody tr th {\n",
       "        vertical-align: top;\n",
       "    }\n",
       "\n",
       "    .dataframe thead th {\n",
       "        text-align: right;\n",
       "    }\n",
       "</style>\n",
       "<table border=\"1\" class=\"dataframe\">\n",
       "  <thead>\n",
       "    <tr style=\"text-align: right;\">\n",
       "      <th></th>\n",
       "      <th>hi_en</th>\n",
       "      <th>en</th>\n",
       "    </tr>\n",
       "  </thead>\n",
       "  <tbody>\n",
       "    <tr>\n",
       "      <th>0</th>\n",
       "      <td>film ka kya naam hai</td>\n",
       "      <td>What's the name of the movie</td>\n",
       "    </tr>\n",
       "    <tr>\n",
       "      <th>1</th>\n",
       "      <td>namaste, sada hua tomatoes score mahaan hai, l...</td>\n",
       "      <td>Hi, the rotten tomatoes score is great but the...</td>\n",
       "    </tr>\n",
       "    <tr>\n",
       "      <th>2</th>\n",
       "      <td>kya aapako lagata hai ki aapako film pasand aa...</td>\n",
       "      <td>Do you think you will like the movie</td>\n",
       "    </tr>\n",
       "    <tr>\n",
       "      <th>3</th>\n",
       "      <td>yah kis tarah kee philm hai</td>\n",
       "      <td>What kind of movie is it</td>\n",
       "    </tr>\n",
       "    <tr>\n",
       "      <th>4</th>\n",
       "      <td>film  kab banee thee?</td>\n",
       "      <td>when was the movie made?</td>\n",
       "    </tr>\n",
       "    <tr>\n",
       "      <th>...</th>\n",
       "      <td>...</td>\n",
       "      <td>...</td>\n",
       "    </tr>\n",
       "    <tr>\n",
       "      <th>8055</th>\n",
       "      <td>Thik hai\\n</td>\n",
       "      <td>Ok.</td>\n",
       "    </tr>\n",
       "    <tr>\n",
       "      <th>8056</th>\n",
       "      <td>Thik hai bhai\\n</td>\n",
       "      <td>ok bro</td>\n",
       "    </tr>\n",
       "    <tr>\n",
       "      <th>8057</th>\n",
       "      <td>Kya ham chalu kar sakte hai?\\n</td>\n",
       "      <td>shall we continue?</td>\n",
       "    </tr>\n",
       "    <tr>\n",
       "      <th>8058</th>\n",
       "      <td>Kya aapko pasand hai hamare saath\\n</td>\n",
       "      <td>do you like we can</td>\n",
       "    </tr>\n",
       "    <tr>\n",
       "      <th>8059</th>\n",
       "      <td>Haa mere pass pandrah thanks hai\\n</td>\n",
       "      <td>Yeah I have fifteen thanks.</td>\n",
       "    </tr>\n",
       "  </tbody>\n",
       "</table>\n",
       "<p>174443 rows × 2 columns</p>\n",
       "</div>"
      ],
      "text/plain": [
       "                                                  hi_en  \\\n",
       "0                                  film ka kya naam hai   \n",
       "1     namaste, sada hua tomatoes score mahaan hai, l...   \n",
       "2     kya aapako lagata hai ki aapako film pasand aa...   \n",
       "3                           yah kis tarah kee philm hai   \n",
       "4                                 film  kab banee thee?   \n",
       "...                                                 ...   \n",
       "8055                                         Thik hai\\n   \n",
       "8056                                    Thik hai bhai\\n   \n",
       "8057                     Kya ham chalu kar sakte hai?\\n   \n",
       "8058                Kya aapko pasand hai hamare saath\\n   \n",
       "8059                 Haa mere pass pandrah thanks hai\\n   \n",
       "\n",
       "                                                     en  \n",
       "0                          What's the name of the movie  \n",
       "1     Hi, the rotten tomatoes score is great but the...  \n",
       "2                  Do you think you will like the movie  \n",
       "3                              What kind of movie is it  \n",
       "4                              when was the movie made?  \n",
       "...                                                 ...  \n",
       "8055                                                Ok.  \n",
       "8056                                             ok bro  \n",
       "8057                                 shall we continue?  \n",
       "8058                                 do you like we can  \n",
       "8059                        Yeah I have fifteen thanks.  \n",
       "\n",
       "[174443 rows x 2 columns]"
      ]
     },
     "execution_count": 4,
     "metadata": {},
     "output_type": "execute_result"
    }
   ],
   "source": [
    "train_df"
   ]
  },
  {
   "cell_type": "code",
   "execution_count": 5,
   "id": "b4136fec-19ad-4643-83c6-3301a0388e2f",
   "metadata": {
    "scrolled": true
   },
   "outputs": [
    {
     "data": {
      "text/html": [
       "<div>\n",
       "<style scoped>\n",
       "    .dataframe tbody tr th:only-of-type {\n",
       "        vertical-align: middle;\n",
       "    }\n",
       "\n",
       "    .dataframe tbody tr th {\n",
       "        vertical-align: top;\n",
       "    }\n",
       "\n",
       "    .dataframe thead th {\n",
       "        text-align: right;\n",
       "    }\n",
       "</style>\n",
       "<table border=\"1\" class=\"dataframe\">\n",
       "  <thead>\n",
       "    <tr style=\"text-align: right;\">\n",
       "      <th></th>\n",
       "      <th>hi_en</th>\n",
       "      <th>en</th>\n",
       "    </tr>\n",
       "  </thead>\n",
       "  <tbody>\n",
       "    <tr>\n",
       "      <th>0</th>\n",
       "      <td>movie kis baare me hai?</td>\n",
       "      <td>What is the movie about?</td>\n",
       "    </tr>\n",
       "    <tr>\n",
       "      <th>1</th>\n",
       "      <td>Movie ek chhote bacche Kevin k baare me hai ji...</td>\n",
       "      <td>the movie is about a young child named Kevin w...</td>\n",
       "    </tr>\n",
       "    <tr>\n",
       "      <th>2</th>\n",
       "      <td>Kya wo jaan bhuj k abandon karte hai?</td>\n",
       "      <td>Did they abandon him on purpose?</td>\n",
       "    </tr>\n",
       "    <tr>\n",
       "      <th>3</th>\n",
       "      <td>nahi, wo uska track lose kardete hai kyuki bah...</td>\n",
       "      <td>no they had lost track of him since they had m...</td>\n",
       "    </tr>\n",
       "    <tr>\n",
       "      <th>4</th>\n",
       "      <td>Kya wo realize karte hai k wo chhut gaya aur u...</td>\n",
       "      <td>Did they realize they lost track of him and co...</td>\n",
       "    </tr>\n",
       "    <tr>\n",
       "      <th>...</th>\n",
       "      <td>...</td>\n",
       "      <td>...</td>\n",
       "    </tr>\n",
       "    <tr>\n",
       "      <th>936</th>\n",
       "      <td>Sunkar good movie hai. Kya ham finish kar skat...</td>\n",
       "      <td>Sounds like a good movie. Can we finish now?</td>\n",
       "    </tr>\n",
       "    <tr>\n",
       "      <th>937</th>\n",
       "      <td>Yep. Thanks baat karne ke liye\\n</td>\n",
       "      <td>Yep. Thanks for chatting</td>\n",
       "    </tr>\n",
       "    <tr>\n",
       "      <th>938</th>\n",
       "      <td>Thanks, mei dekhati hui. Achi baat hai\\n</td>\n",
       "      <td>thanks, I will watch it. SOunds good</td>\n",
       "    </tr>\n",
       "    <tr>\n",
       "      <th>940</th>\n",
       "      <td>kya tumhe movie Despicable Me pasand hai?\\n</td>\n",
       "      <td>Did you like the movie Despicable Me?</td>\n",
       "    </tr>\n",
       "    <tr>\n",
       "      <th>941</th>\n",
       "      <td>mujhe nahi lagta ki ye movie 2010 me aayi thi,...</td>\n",
       "      <td>I did not realize this movie came out in 2010,...</td>\n",
       "    </tr>\n",
       "  </tbody>\n",
       "</table>\n",
       "<p>3243 rows × 2 columns</p>\n",
       "</div>"
      ],
      "text/plain": [
       "                                                 hi_en  \\\n",
       "0                              movie kis baare me hai?   \n",
       "1    Movie ek chhote bacche Kevin k baare me hai ji...   \n",
       "2                Kya wo jaan bhuj k abandon karte hai?   \n",
       "3    nahi, wo uska track lose kardete hai kyuki bah...   \n",
       "4    Kya wo realize karte hai k wo chhut gaya aur u...   \n",
       "..                                                 ...   \n",
       "936  Sunkar good movie hai. Kya ham finish kar skat...   \n",
       "937                   Yep. Thanks baat karne ke liye\\n   \n",
       "938           Thanks, mei dekhati hui. Achi baat hai\\n   \n",
       "940        kya tumhe movie Despicable Me pasand hai?\\n   \n",
       "941  mujhe nahi lagta ki ye movie 2010 me aayi thi,...   \n",
       "\n",
       "                                                    en  \n",
       "0                             What is the movie about?  \n",
       "1    the movie is about a young child named Kevin w...  \n",
       "2                     Did they abandon him on purpose?  \n",
       "3    no they had lost track of him since they had m...  \n",
       "4    Did they realize they lost track of him and co...  \n",
       "..                                                 ...  \n",
       "936       Sounds like a good movie. Can we finish now?  \n",
       "937                           Yep. Thanks for chatting  \n",
       "938               thanks, I will watch it. SOunds good  \n",
       "940              Did you like the movie Despicable Me?  \n",
       "941  I did not realize this movie came out in 2010,...  \n",
       "\n",
       "[3243 rows x 2 columns]"
      ]
     },
     "execution_count": 5,
     "metadata": {},
     "output_type": "execute_result"
    }
   ],
   "source": [
    "validation_df"
   ]
  },
  {
   "cell_type": "code",
   "execution_count": 6,
   "id": "8f002715-2359-4b51-b7b9-13e0c2738b21",
   "metadata": {},
   "outputs": [
    {
     "data": {
      "text/html": [
       "<div>\n",
       "<style scoped>\n",
       "    .dataframe tbody tr th:only-of-type {\n",
       "        vertical-align: middle;\n",
       "    }\n",
       "\n",
       "    .dataframe tbody tr th {\n",
       "        vertical-align: top;\n",
       "    }\n",
       "\n",
       "    .dataframe thead th {\n",
       "        text-align: right;\n",
       "    }\n",
       "</style>\n",
       "<table border=\"1\" class=\"dataframe\">\n",
       "  <thead>\n",
       "    <tr style=\"text-align: right;\">\n",
       "      <th></th>\n",
       "      <th>hi_en</th>\n",
       "      <th>en</th>\n",
       "    </tr>\n",
       "  </thead>\n",
       "  <tbody>\n",
       "    <tr>\n",
       "      <th>0</th>\n",
       "      <td>oye ledki kitni mazakiya movie dekh rhi ho ?</td>\n",
       "      <td>ah mean girls. such a funny movie. have you se...</td>\n",
       "    </tr>\n",
       "    <tr>\n",
       "      <th>1</th>\n",
       "      <td>ha muje bhi hassi mazak ki movies pasand par y...</td>\n",
       "      <td>Yeah, even though I love comedies, this wasn't...</td>\n",
       "    </tr>\n",
       "    <tr>\n",
       "      <th>2</th>\n",
       "      <td>kese tina ka jhuti writing isme achi the usne ...</td>\n",
       "      <td>how come. thought tina fey's writing was fanta...</td>\n",
       "    </tr>\n",
       "    <tr>\n",
       "      <th>3</th>\n",
       "      <td>muje kahani bhute achi lagi aur unhone ise dac...</td>\n",
       "      <td>I loved the story &amp; how true they made it in h...</td>\n",
       "    </tr>\n",
       "    <tr>\n",
       "      <th>4</th>\n",
       "      <td>ab samja muje nhi pta tha ki aap sahi admi hai...</td>\n",
       "      <td>I see. i didn't realize it was 14 years ago. y...</td>\n",
       "    </tr>\n",
       "    <tr>\n",
       "      <th>...</th>\n",
       "      <td>...</td>\n",
       "      <td>...</td>\n",
       "    </tr>\n",
       "    <tr>\n",
       "      <th>6508</th>\n",
       "      <td>alarm ko abhi stop kare</td>\n",
       "      <td>Stop alarm now</td>\n",
       "    </tr>\n",
       "    <tr>\n",
       "      <th>6509</th>\n",
       "      <td>Har ghante ke liye alarm set kare</td>\n",
       "      <td>set alarm every hour</td>\n",
       "    </tr>\n",
       "    <tr>\n",
       "      <th>6510</th>\n",
       "      <td>Bobby ko text kare</td>\n",
       "      <td>text Bobby</td>\n",
       "    </tr>\n",
       "    <tr>\n",
       "      <th>6511</th>\n",
       "      <td>Muje shaam 6 baje laundry ko pick up karne ke ...</td>\n",
       "      <td>remind me to pick up laundry at 6 pm</td>\n",
       "    </tr>\n",
       "    <tr>\n",
       "      <th>6512</th>\n",
       "      <td>Kya aap muje har subah 6 baje apne baccho ko j...</td>\n",
       "      <td>Can you remind me to wake my kids up every mor...</td>\n",
       "    </tr>\n",
       "  </tbody>\n",
       "</table>\n",
       "<p>7072 rows × 2 columns</p>\n",
       "</div>"
      ],
      "text/plain": [
       "                                                  hi_en  \\\n",
       "0          oye ledki kitni mazakiya movie dekh rhi ho ?   \n",
       "1     ha muje bhi hassi mazak ki movies pasand par y...   \n",
       "2     kese tina ka jhuti writing isme achi the usne ...   \n",
       "3     muje kahani bhute achi lagi aur unhone ise dac...   \n",
       "4     ab samja muje nhi pta tha ki aap sahi admi hai...   \n",
       "...                                                 ...   \n",
       "6508                            alarm ko abhi stop kare   \n",
       "6509                  Har ghante ke liye alarm set kare   \n",
       "6510                                 Bobby ko text kare   \n",
       "6511  Muje shaam 6 baje laundry ko pick up karne ke ...   \n",
       "6512  Kya aap muje har subah 6 baje apne baccho ko j...   \n",
       "\n",
       "                                                     en  \n",
       "0     ah mean girls. such a funny movie. have you se...  \n",
       "1     Yeah, even though I love comedies, this wasn't...  \n",
       "2     how come. thought tina fey's writing was fanta...  \n",
       "3     I loved the story & how true they made it in h...  \n",
       "4     I see. i didn't realize it was 14 years ago. y...  \n",
       "...                                                 ...  \n",
       "6508                                     Stop alarm now  \n",
       "6509                               set alarm every hour  \n",
       "6510                                         text Bobby  \n",
       "6511               remind me to pick up laundry at 6 pm  \n",
       "6512  Can you remind me to wake my kids up every mor...  \n",
       "\n",
       "[7072 rows x 2 columns]"
      ]
     },
     "execution_count": 6,
     "metadata": {},
     "output_type": "execute_result"
    }
   ],
   "source": [
    "test_df"
   ]
  },
  {
   "cell_type": "code",
   "execution_count": 7,
   "id": "9e93f1af-c168-4d30-8d38-f08a1245b594",
   "metadata": {},
   "outputs": [
    {
     "name": "stdout",
     "output_type": "stream",
     "text": [
      "CPU times: user 2.14 s, sys: 2.03 ms, total: 2.14 s\n",
      "Wall time: 2.14 s\n"
     ]
    },
    {
     "data": {
      "text/html": [
       "<div>\n",
       "<style scoped>\n",
       "    .dataframe tbody tr th:only-of-type {\n",
       "        vertical-align: middle;\n",
       "    }\n",
       "\n",
       "    .dataframe tbody tr th {\n",
       "        vertical-align: top;\n",
       "    }\n",
       "\n",
       "    .dataframe thead th {\n",
       "        text-align: right;\n",
       "    }\n",
       "</style>\n",
       "<table border=\"1\" class=\"dataframe\">\n",
       "  <thead>\n",
       "    <tr style=\"text-align: right;\">\n",
       "      <th></th>\n",
       "      <th>hi_en</th>\n",
       "      <th>en</th>\n",
       "    </tr>\n",
       "  </thead>\n",
       "  <tbody>\n",
       "    <tr>\n",
       "      <th>0</th>\n",
       "      <td>film ka kya naam hai</td>\n",
       "      <td>what's the name of the movie</td>\n",
       "    </tr>\n",
       "    <tr>\n",
       "      <th>1</th>\n",
       "      <td>namaste, sada hua tomatoes score mahaan hai, l...</td>\n",
       "      <td>hi, the rotten tomatoes score is great but the...</td>\n",
       "    </tr>\n",
       "    <tr>\n",
       "      <th>2</th>\n",
       "      <td>kya aapako lagata hai ki aapako film pasand aa...</td>\n",
       "      <td>do you think you will like the movie</td>\n",
       "    </tr>\n",
       "    <tr>\n",
       "      <th>3</th>\n",
       "      <td>yah kis tarah kee philm hai</td>\n",
       "      <td>what kind of movie is it</td>\n",
       "    </tr>\n",
       "    <tr>\n",
       "      <th>4</th>\n",
       "      <td>film kab banee thee?</td>\n",
       "      <td>when was the movie made?</td>\n",
       "    </tr>\n",
       "    <tr>\n",
       "      <th>...</th>\n",
       "      <td>...</td>\n",
       "      <td>...</td>\n",
       "    </tr>\n",
       "    <tr>\n",
       "      <th>8055</th>\n",
       "      <td>thik hai</td>\n",
       "      <td>ok.</td>\n",
       "    </tr>\n",
       "    <tr>\n",
       "      <th>8056</th>\n",
       "      <td>thik hai bhai</td>\n",
       "      <td>ok bro</td>\n",
       "    </tr>\n",
       "    <tr>\n",
       "      <th>8057</th>\n",
       "      <td>kya ham chalu kar sakte hai?</td>\n",
       "      <td>shall we continue?</td>\n",
       "    </tr>\n",
       "    <tr>\n",
       "      <th>8058</th>\n",
       "      <td>kya aapko pasand hai hamare saath</td>\n",
       "      <td>do you like we can</td>\n",
       "    </tr>\n",
       "    <tr>\n",
       "      <th>8059</th>\n",
       "      <td>haa mere pass pandrah thanks hai</td>\n",
       "      <td>yeah i have fifteen thanks.</td>\n",
       "    </tr>\n",
       "  </tbody>\n",
       "</table>\n",
       "<p>174443 rows × 2 columns</p>\n",
       "</div>"
      ],
      "text/plain": [
       "                                                  hi_en  \\\n",
       "0                                  film ka kya naam hai   \n",
       "1     namaste, sada hua tomatoes score mahaan hai, l...   \n",
       "2     kya aapako lagata hai ki aapako film pasand aa...   \n",
       "3                           yah kis tarah kee philm hai   \n",
       "4                                  film kab banee thee?   \n",
       "...                                                 ...   \n",
       "8055                                           thik hai   \n",
       "8056                                      thik hai bhai   \n",
       "8057                       kya ham chalu kar sakte hai?   \n",
       "8058                  kya aapko pasand hai hamare saath   \n",
       "8059                   haa mere pass pandrah thanks hai   \n",
       "\n",
       "                                                     en  \n",
       "0                          what's the name of the movie  \n",
       "1     hi, the rotten tomatoes score is great but the...  \n",
       "2                  do you think you will like the movie  \n",
       "3                              what kind of movie is it  \n",
       "4                              when was the movie made?  \n",
       "...                                                 ...  \n",
       "8055                                                ok.  \n",
       "8056                                             ok bro  \n",
       "8057                                 shall we continue?  \n",
       "8058                                 do you like we can  \n",
       "8059                        yeah i have fifteen thanks.  \n",
       "\n",
       "[174443 rows x 2 columns]"
      ]
     },
     "execution_count": 7,
     "metadata": {},
     "output_type": "execute_result"
    }
   ],
   "source": [
    "%%time\n",
    "train_df = train_df.applymap(clean_text)\n",
    "train_df"
   ]
  },
  {
   "cell_type": "code",
   "execution_count": 8,
   "id": "1016d417-f744-4caa-9773-e968eafc35c8",
   "metadata": {},
   "outputs": [
    {
     "name": "stdout",
     "output_type": "stream",
     "text": [
      "CPU times: user 42.4 ms, sys: 1.08 ms, total: 43.5 ms\n",
      "Wall time: 43 ms\n"
     ]
    },
    {
     "data": {
      "text/html": [
       "<div>\n",
       "<style scoped>\n",
       "    .dataframe tbody tr th:only-of-type {\n",
       "        vertical-align: middle;\n",
       "    }\n",
       "\n",
       "    .dataframe tbody tr th {\n",
       "        vertical-align: top;\n",
       "    }\n",
       "\n",
       "    .dataframe thead th {\n",
       "        text-align: right;\n",
       "    }\n",
       "</style>\n",
       "<table border=\"1\" class=\"dataframe\">\n",
       "  <thead>\n",
       "    <tr style=\"text-align: right;\">\n",
       "      <th></th>\n",
       "      <th>hi_en</th>\n",
       "      <th>en</th>\n",
       "    </tr>\n",
       "  </thead>\n",
       "  <tbody>\n",
       "    <tr>\n",
       "      <th>0</th>\n",
       "      <td>movie kis baare me hai?</td>\n",
       "      <td>what is the movie about?</td>\n",
       "    </tr>\n",
       "    <tr>\n",
       "      <th>1</th>\n",
       "      <td>movie ek chhote bacche kevin k baare me hai ji...</td>\n",
       "      <td>the movie is about a young child named kevin w...</td>\n",
       "    </tr>\n",
       "    <tr>\n",
       "      <th>2</th>\n",
       "      <td>kya wo jaan bhuj k abandon karte hai?</td>\n",
       "      <td>did they abandon him on purpose?</td>\n",
       "    </tr>\n",
       "    <tr>\n",
       "      <th>3</th>\n",
       "      <td>nahi, wo uska track lose kardete hai kyuki bah...</td>\n",
       "      <td>no they had lost track of him since they had m...</td>\n",
       "    </tr>\n",
       "    <tr>\n",
       "      <th>4</th>\n",
       "      <td>kya wo realize karte hai k wo chhut gaya aur u...</td>\n",
       "      <td>did they realize they lost track of him and co...</td>\n",
       "    </tr>\n",
       "    <tr>\n",
       "      <th>...</th>\n",
       "      <td>...</td>\n",
       "      <td>...</td>\n",
       "    </tr>\n",
       "    <tr>\n",
       "      <th>936</th>\n",
       "      <td>sunkar good movie hai. kya ham finish kar skat...</td>\n",
       "      <td>sounds like a good movie. can we finish now?</td>\n",
       "    </tr>\n",
       "    <tr>\n",
       "      <th>937</th>\n",
       "      <td>yep. thanks baat karne ke liye</td>\n",
       "      <td>yep. thanks for chatting</td>\n",
       "    </tr>\n",
       "    <tr>\n",
       "      <th>938</th>\n",
       "      <td>thanks, mei dekhati hui. achi baat hai</td>\n",
       "      <td>thanks, i will watch it. sounds good</td>\n",
       "    </tr>\n",
       "    <tr>\n",
       "      <th>940</th>\n",
       "      <td>kya tumhe movie despicable me pasand hai?</td>\n",
       "      <td>did you like the movie despicable me?</td>\n",
       "    </tr>\n",
       "    <tr>\n",
       "      <th>941</th>\n",
       "      <td>mujhe nahi lagta ki ye movie 2010 me aayi thi,...</td>\n",
       "      <td>i did not realize this movie came out in 2010,...</td>\n",
       "    </tr>\n",
       "  </tbody>\n",
       "</table>\n",
       "<p>3243 rows × 2 columns</p>\n",
       "</div>"
      ],
      "text/plain": [
       "                                                 hi_en  \\\n",
       "0                              movie kis baare me hai?   \n",
       "1    movie ek chhote bacche kevin k baare me hai ji...   \n",
       "2                kya wo jaan bhuj k abandon karte hai?   \n",
       "3    nahi, wo uska track lose kardete hai kyuki bah...   \n",
       "4    kya wo realize karte hai k wo chhut gaya aur u...   \n",
       "..                                                 ...   \n",
       "936  sunkar good movie hai. kya ham finish kar skat...   \n",
       "937                     yep. thanks baat karne ke liye   \n",
       "938             thanks, mei dekhati hui. achi baat hai   \n",
       "940          kya tumhe movie despicable me pasand hai?   \n",
       "941  mujhe nahi lagta ki ye movie 2010 me aayi thi,...   \n",
       "\n",
       "                                                    en  \n",
       "0                             what is the movie about?  \n",
       "1    the movie is about a young child named kevin w...  \n",
       "2                     did they abandon him on purpose?  \n",
       "3    no they had lost track of him since they had m...  \n",
       "4    did they realize they lost track of him and co...  \n",
       "..                                                 ...  \n",
       "936       sounds like a good movie. can we finish now?  \n",
       "937                           yep. thanks for chatting  \n",
       "938               thanks, i will watch it. sounds good  \n",
       "940              did you like the movie despicable me?  \n",
       "941  i did not realize this movie came out in 2010,...  \n",
       "\n",
       "[3243 rows x 2 columns]"
      ]
     },
     "execution_count": 8,
     "metadata": {},
     "output_type": "execute_result"
    }
   ],
   "source": [
    "%%time\n",
    "validation_df = validation_df.applymap(clean_text)\n",
    "validation_df"
   ]
  },
  {
   "cell_type": "code",
   "execution_count": 9,
   "id": "46573bf4-a9cc-49d5-9659-3966fc9a80b9",
   "metadata": {},
   "outputs": [
    {
     "name": "stdout",
     "output_type": "stream",
     "text": [
      "CPU times: user 85.6 ms, sys: 572 µs, total: 86.1 ms\n",
      "Wall time: 85.7 ms\n"
     ]
    },
    {
     "data": {
      "text/html": [
       "<div>\n",
       "<style scoped>\n",
       "    .dataframe tbody tr th:only-of-type {\n",
       "        vertical-align: middle;\n",
       "    }\n",
       "\n",
       "    .dataframe tbody tr th {\n",
       "        vertical-align: top;\n",
       "    }\n",
       "\n",
       "    .dataframe thead th {\n",
       "        text-align: right;\n",
       "    }\n",
       "</style>\n",
       "<table border=\"1\" class=\"dataframe\">\n",
       "  <thead>\n",
       "    <tr style=\"text-align: right;\">\n",
       "      <th></th>\n",
       "      <th>hi_en</th>\n",
       "      <th>en</th>\n",
       "    </tr>\n",
       "  </thead>\n",
       "  <tbody>\n",
       "    <tr>\n",
       "      <th>0</th>\n",
       "      <td>oye ledki kitni mazakiya movie dekh rhi ho ?</td>\n",
       "      <td>ah mean girls. such a funny movie. have you se...</td>\n",
       "    </tr>\n",
       "    <tr>\n",
       "      <th>1</th>\n",
       "      <td>ha muje bhi hassi mazak ki movies pasand par y...</td>\n",
       "      <td>yeah, even though i love comedies, this wasn't...</td>\n",
       "    </tr>\n",
       "    <tr>\n",
       "      <th>2</th>\n",
       "      <td>kese tina ka jhuti writing isme achi the usne ...</td>\n",
       "      <td>how come. thought tina fey's writing was fanta...</td>\n",
       "    </tr>\n",
       "    <tr>\n",
       "      <th>3</th>\n",
       "      <td>muje kahani bhute achi lagi aur unhone ise dac...</td>\n",
       "      <td>i loved the story &amp; how true they made it in h...</td>\n",
       "    </tr>\n",
       "    <tr>\n",
       "      <th>4</th>\n",
       "      <td>ab samja muje nhi pta tha ki aap sahi admi hai...</td>\n",
       "      <td>i see. i didn't realize it was 14 years ago. y...</td>\n",
       "    </tr>\n",
       "    <tr>\n",
       "      <th>...</th>\n",
       "      <td>...</td>\n",
       "      <td>...</td>\n",
       "    </tr>\n",
       "    <tr>\n",
       "      <th>6508</th>\n",
       "      <td>alarm ko abhi stop kare</td>\n",
       "      <td>stop alarm now</td>\n",
       "    </tr>\n",
       "    <tr>\n",
       "      <th>6509</th>\n",
       "      <td>har ghante ke liye alarm set kare</td>\n",
       "      <td>set alarm every hour</td>\n",
       "    </tr>\n",
       "    <tr>\n",
       "      <th>6510</th>\n",
       "      <td>bobby ko text kare</td>\n",
       "      <td>text bobby</td>\n",
       "    </tr>\n",
       "    <tr>\n",
       "      <th>6511</th>\n",
       "      <td>muje shaam 6 baje laundry ko pick up karne ke ...</td>\n",
       "      <td>remind me to pick up laundry at 6 pm</td>\n",
       "    </tr>\n",
       "    <tr>\n",
       "      <th>6512</th>\n",
       "      <td>kya aap muje har subah 6 baje apne baccho ko j...</td>\n",
       "      <td>can you remind me to wake my kids up every mor...</td>\n",
       "    </tr>\n",
       "  </tbody>\n",
       "</table>\n",
       "<p>7072 rows × 2 columns</p>\n",
       "</div>"
      ],
      "text/plain": [
       "                                                  hi_en  \\\n",
       "0          oye ledki kitni mazakiya movie dekh rhi ho ?   \n",
       "1     ha muje bhi hassi mazak ki movies pasand par y...   \n",
       "2     kese tina ka jhuti writing isme achi the usne ...   \n",
       "3     muje kahani bhute achi lagi aur unhone ise dac...   \n",
       "4     ab samja muje nhi pta tha ki aap sahi admi hai...   \n",
       "...                                                 ...   \n",
       "6508                            alarm ko abhi stop kare   \n",
       "6509                  har ghante ke liye alarm set kare   \n",
       "6510                                 bobby ko text kare   \n",
       "6511  muje shaam 6 baje laundry ko pick up karne ke ...   \n",
       "6512  kya aap muje har subah 6 baje apne baccho ko j...   \n",
       "\n",
       "                                                     en  \n",
       "0     ah mean girls. such a funny movie. have you se...  \n",
       "1     yeah, even though i love comedies, this wasn't...  \n",
       "2     how come. thought tina fey's writing was fanta...  \n",
       "3     i loved the story & how true they made it in h...  \n",
       "4     i see. i didn't realize it was 14 years ago. y...  \n",
       "...                                                 ...  \n",
       "6508                                     stop alarm now  \n",
       "6509                               set alarm every hour  \n",
       "6510                                         text bobby  \n",
       "6511               remind me to pick up laundry at 6 pm  \n",
       "6512  can you remind me to wake my kids up every mor...  \n",
       "\n",
       "[7072 rows x 2 columns]"
      ]
     },
     "execution_count": 9,
     "metadata": {},
     "output_type": "execute_result"
    }
   ],
   "source": [
    "%%time\n",
    "test_df = test_df.applymap(clean_text)\n",
    "test_df"
   ]
  },
  {
   "cell_type": "markdown",
   "id": "6815fbe5-c088-40b5-9406-2c942a6d09f8",
   "metadata": {},
   "source": [
    "## Data tokenization"
   ]
  },
  {
   "cell_type": "raw",
   "id": "84273fde-a3d0-4084-ae7d-80180ae1f2bd",
   "metadata": {},
   "source": [
    "bart_tokenizer = CustomBartTokenizer().build()\n",
    "bart_tokenizer_scratch = CustomBartTokenizer().build(data=train_df[\"hi_en\"], tokenizer_style=STYLE.SCRATCH.value)\n",
    "bart_tokenizer_append = CustomBartTokenizer().build(data=train_df[\"hi_en\"], tokenizer_style=STYLE.APPEND.value)"
   ]
  },
  {
   "cell_type": "raw",
   "id": "bd922131-b116-4986-a631-82c6669eb5d1",
   "metadata": {},
   "source": [
    "query = \"Hello! Ye CSCI 544 ka project he. Ye project Code-Mixed Machine Translation ke bara me he. Hamane hamari khoon bahahe.\"\n",
    "query = clean_text(text=query)"
   ]
  },
  {
   "cell_type": "raw",
   "id": "b9185c2e-8064-40d0-9989-b46a8ca2c0b9",
   "metadata": {},
   "source": [
    "token_idx = bart_tokenizer.encode(query, add_special_tokens=True)\n",
    "token_word = bart_tokenizer.convert_ids_to_tokens(token_idx)\n",
    "print('#'*100)\n",
    "print(\"This is an example of using the default Bart Tokenizer.\\n\")\n",
    "print(f\"Sentence: {query}\\n\")\n",
    "print(f\"Tokenized word: {token_word}\\n\")\n",
    "print(f\"Tokenized idx: {token_idx}\")\n",
    "print('#'*100)"
   ]
  },
  {
   "cell_type": "raw",
   "id": "70b57e78-57ec-4015-afd3-84e4420e4023",
   "metadata": {},
   "source": [
    "token_idx = bart_tokenizer_scratch.encode(query, add_special_tokens=True)\n",
    "token_word = bart_tokenizer_scratch.convert_ids_to_tokens(token_idx)\n",
    "print('#'*100)\n",
    "print(\"This is an example of the Bart Tokenizer that is trained from scratch.\\n\")\n",
    "print(f\"Sentence: {query}\\n\")\n",
    "print(f\"Tokenized word: {token_word}\\n\")\n",
    "print(f\"Tokenized idx: {token_idx}\")\n",
    "print('#'*100)"
   ]
  },
  {
   "cell_type": "raw",
   "id": "2cd0f989-0630-4bf1-b563-962ab9a78b4e",
   "metadata": {},
   "source": [
    "token_idx = bart_tokenizer_append.encode(query, add_special_tokens=True)\n",
    "token_word = bart_tokenizer_append.convert_ids_to_tokens(token_idx)\n",
    "print('#'*100)\n",
    "print(\"This is an example of the Bart Tokenizer to which we append our new data.\\n\")\n",
    "print(f\"Sentence: {query}\\n\")\n",
    "print(f\"Tokenized word: {token_word}\\n\")\n",
    "print(f\"Tokenized idx: {token_idx}\")\n",
    "print('#'*100)"
   ]
  },
  {
   "cell_type": "code",
   "execution_count": 10,
   "id": "390d4005-a4fe-4187-8a41-a987029417b1",
   "metadata": {},
   "outputs": [
    {
     "name": "stdout",
     "output_type": "stream",
     "text": [
      "\n",
      "\n",
      "\n"
     ]
    }
   ],
   "source": [
    "# Now that we know how to get a BART-Tokenizer - default, appeded and scratch, let us get the tokenizer for our code-mixed language\n",
    "# and the target language.\n",
    "# Code-Mixed Language - Build a Bart-Tokenizer from scratch.\n",
    "# Target Language (English) - Use the default Bart-Tokenizer.\n",
    "hi_en_bart_tokenizer = CustomBartTokenizer().build(\n",
    "    data=train_df[\"hi_en\"],\n",
    "    tokenizer_style=MBART_TOKENIZER_BPE_BINDING_BART_TOKENIZER_ENCODER_STYLE,\n",
    "    tokenizer_bart_from_pretrained_path=MBART_TOKENIZER_BPE_BINDING_BART_TOKENIZER_ENCODER_FROM_PRETRAINED\n",
    ")\n",
    "en_bart_tokenizer = CustomBartTokenizer().build(\n",
    "    tokenizer_style=MBART_TOKENIZER_BPE_BINDING_BART_TOKENIZER_DECODER_STYLE,\n",
    "    tokenizer_bart_from_pretrained_path=MBART_TOKENIZER_BPE_BINDING_BART_TOKENIZER_DECODER_FROM_PRETRAINED\n",
    ")"
   ]
  },
  {
   "cell_type": "code",
   "execution_count": 11,
   "id": "e43157d2-c90a-4a82-a8fd-f4c9256ca9fe",
   "metadata": {},
   "outputs": [
    {
     "name": "stdout",
     "output_type": "stream",
     "text": [
      "Hinglish tokenizer vocab size: 50265\n",
      "English tokenizer vocab size: 50265\n"
     ]
    }
   ],
   "source": [
    "print(f\"Hinglish tokenizer vocab size: {hi_en_bart_tokenizer.vocab_size}\")\n",
    "print(f\"English tokenizer vocab size: {en_bart_tokenizer.vocab_size}\")"
   ]
  },
  {
   "cell_type": "markdown",
   "id": "ea448cc8-4d09-40e8-a793-db3b7c6d59d7",
   "metadata": {},
   "source": [
    "## Dataset and Data Loaders"
   ]
  },
  {
   "cell_type": "raw",
   "id": "03785b62-828f-4942-a18b-dcdcc109c462",
   "metadata": {},
   "source": [
    "# Get the tokenized dataset for visualization\n",
    "__tokenized_datasets__ = get_tokenized_dataset_models(\n",
    "    train_df=train_df,\n",
    "    validation_df=validation_df,\n",
    "    test_df=test_df,\n",
    "    encoder_tokenizer=hi_en_bart_tokenizer,\n",
    "    decoder_tokenizer=en_bart_tokenizer\n",
    ")\n",
    "__tokenized_datasets__"
   ]
  },
  {
   "cell_type": "raw",
   "id": "30bdf850-a9ed-44d8-a949-17565541094d",
   "metadata": {},
   "source": [
    "__train_dataset__, __validation_dataset__, __test_dataset__ = __tokenized_datasets__[\"hi_en__en\"].values()"
   ]
  },
  {
   "cell_type": "raw",
   "id": "61006ef9-bac9-4352-898d-ae825b23976f",
   "metadata": {},
   "source": [
    "__train_dataset__.visualize()"
   ]
  },
  {
   "cell_type": "raw",
   "id": "06950526-374c-4bb2-834d-db2e62f06e56",
   "metadata": {},
   "source": [
    "# Get the data loaders for denoising\n",
    "__data_loaders__ = get_data_loader_models(\n",
    "    train_df=train_df,\n",
    "    validation_df=validation_df,\n",
    "    test_df=test_df,\n",
    "    train_batch_size=4, \n",
    "    validation_batch_size=4, \n",
    "    test_batch_size=4,\n",
    "    encoder_tokenizer=hi_en_bart_tokenizer,\n",
    "    decoder_tokenizer=hi_en_bart_tokenizer,\n",
    "    denoising_stage=True\n",
    ")"
   ]
  },
  {
   "cell_type": "raw",
   "id": "a5d60d63-290c-4fae-8662-4249e472539d",
   "metadata": {},
   "source": [
    "__data_loaders__"
   ]
  },
  {
   "cell_type": "raw",
   "id": "7551a750-02fd-4bb8-9bc9-a174a17c1f19",
   "metadata": {},
   "source": [
    "__data_loader__, __train_data_loader__, __validation_data_loader__, __test_data_loader__ = __data_loaders__[\"hi_en__en\"].values()"
   ]
  },
  {
   "cell_type": "raw",
   "id": "22fa8491-7d4e-4f9b-ac91-27b4528b9ccc",
   "metadata": {},
   "source": [
    "__data_loader__.visualize()"
   ]
  },
  {
   "cell_type": "raw",
   "id": "c4b0e9c2-655f-4a08-909e-59a8fea598e0",
   "metadata": {},
   "source": [
    "# Get the data loaders for translation\n",
    "__data_loaders__ = get_data_loader_models(\n",
    "    train_df=train_df,\n",
    "    validation_df=validation_df,\n",
    "    test_df=test_df,\n",
    "    train_batch_size=4, \n",
    "    validation_batch_size=4, \n",
    "    test_batch_size=4,\n",
    "    encoder_tokenizer=hi_en_bart_tokenizer,\n",
    "    decoder_tokenizer=en_bart_tokenizer\n",
    ")"
   ]
  },
  {
   "cell_type": "raw",
   "id": "96a12e0b-62e6-44c1-9219-229aa51bc57d",
   "metadata": {},
   "source": [
    "__data_loaders__"
   ]
  },
  {
   "cell_type": "raw",
   "id": "e22633de-1352-482e-b8eb-8d450200b318",
   "metadata": {},
   "source": [
    "__data_loader__, __train_data_loader__, __validation_data_loader__, __test_data_loader__ = __data_loaders__[\"hi_en__en\"].values()"
   ]
  },
  {
   "cell_type": "raw",
   "id": "8268f86f-3b58-412c-bb5d-8d540c7b6365",
   "metadata": {},
   "source": [
    "__data_loader__.visualize()"
   ]
  },
  {
   "cell_type": "markdown",
   "id": "f96d610c-39a2-4c44-8356-3cae031dc975",
   "metadata": {},
   "source": [
    "## Model definition"
   ]
  },
  {
   "cell_type": "raw",
   "id": "4c0ad3c5-945e-457d-bc03-8b89942f16e4",
   "metadata": {},
   "source": [
    "__model__ = BartForConditionalGeneration()\n",
    "__model__.model"
   ]
  },
  {
   "cell_type": "raw",
   "id": "128ffbac-32f0-41d5-a819-ecd3f14ef6c5",
   "metadata": {},
   "source": [
    "__batch_size__ = 8\n",
    "__en_seq_length__ = random.randint(13, 23)\n",
    "__de_seq_length__ = random.randint(13, 23)\n",
    "__encoder_input__ = torch.randint(low=0, high=hi_en_bart_tokenizer.vocab_size, size=(__batch_size__, __en_seq_length__))\n",
    "__decoder_input__ = torch.randint(low=0, high=en_bart_tokenizer.vocab_size, size=(__batch_size__, __de_seq_length__))\n",
    "__encoder_input__ = __encoder_input__.to(MBART_MODEL_CONDITIONAL_GENERATION_DEVICE)\n",
    "__decoder_input__ = __decoder_input__.to(MBART_MODEL_CONDITIONAL_GENERATION_DEVICE)\n",
    "__out__ = __model__.model(input_ids=__encoder_input__, decoder_input_ids=__decoder_input__, return_dict=True)\n",
    "print(f\"Model has a total of {__model__.model.num_parameters()} number of parameters\")\n",
    "print(\"Model encoder input size: \", __encoder_input__.size())\n",
    "print(\"Model decoder input size: \", __decoder_input__.size())\n",
    "print(\"Model output type: \", type(__out__))\n",
    "print(\"Model output size: \", __out__.logits.size())\n",
    "print(\"Model output:\\n\", __out__.logits)"
   ]
  },
  {
   "cell_type": "markdown",
   "id": "bb6ce641-5ae2-449e-82cc-275bad2b07e0",
   "metadata": {},
   "source": [
    "## Model Training"
   ]
  },
  {
   "cell_type": "code",
   "execution_count": 12,
   "id": "a9a30ba9",
   "metadata": {},
   "outputs": [],
   "source": [
    "dataset = get_tokenized_dataset_models(\n",
    "    train_df=train_df,\n",
    "    validation_df=validation_df,\n",
    "    test_df=test_df,\n",
    "    encoder_tokenizer=hi_en_bart_tokenizer,\n",
    "    decoder_tokenizer=en_bart_tokenizer\n",
    ")\n",
    "train_dataset, validation_dataset, test_dataset = dataset[\"hi_en__en\"].values()"
   ]
  },
  {
   "cell_type": "code",
   "execution_count": 17,
   "id": "58d22ea7",
   "metadata": {},
   "outputs": [
    {
     "name": "stdout",
     "output_type": "stream",
     "text": [
      "Getting the model...\n",
      "\n",
      "Configuring optimizer and scheduler...\n",
      "\n",
      "Configuring collator...\n",
      "\n",
      "Configuring trainer...\n",
      "\n",
      "Configuring training arguments...\n",
      "\n",
      "Configuring generate config...\n"
     ]
    }
   ],
   "source": [
    "mt_hg_model = CodeMixedModelHGTrainer(\n",
    "    train_dataset = train_dataset,\n",
    "    validation_dataset = validation_dataset,\n",
    "    test_dataset = test_dataset,\n",
    "    encoder_tokenizer=hi_en_bart_tokenizer,\n",
    "    decoder_tokenizer=en_bart_tokenizer\n",
    ")"
   ]
  },
  {
   "cell_type": "code",
   "execution_count": 18,
   "id": "cc99b92d-fa72-4565-a23f-d9c9a54fab68",
   "metadata": {
    "scrolled": true
   },
   "outputs": [
    {
     "name": "stdout",
     "output_type": "stream",
     "text": [
      "\n",
      "Training the model...\n"
     ]
    },
    {
     "name": "stderr",
     "output_type": "stream",
     "text": [
      "There were missing keys in the checkpoint model loaded: ['model.encoder.embed_tokens.weight', 'model.decoder.embed_tokens.weight', 'lm_head.weight'].\n"
     ]
    },
    {
     "data": {
      "text/html": [
       "\n",
       "    <div>\n",
       "      \n",
       "      <progress value='501' max='273' style='width:300px; height:20px; vertical-align: middle;'></progress>\n",
       "      [273/273 00:00, Epoch 0/1]\n",
       "    </div>\n",
       "    <table border=\"1\" class=\"dataframe\">\n",
       "  <thead>\n",
       " <tr style=\"text-align: left;\">\n",
       "      <th>Step</th>\n",
       "      <th>Training Loss</th>\n",
       "      <th>Validation Loss</th>\n",
       "    </tr>\n",
       "  </thead>\n",
       "  <tbody>\n",
       "  </tbody>\n",
       "</table><p>"
      ],
      "text/plain": [
       "<IPython.core.display.HTML object>"
      ]
     },
     "metadata": {},
     "output_type": "display_data"
    },
    {
     "name": "stdout",
     "output_type": "stream",
     "text": [
      "***** train metrics *****\n",
      "  epoch                    =       0.09\n",
      "  total_flos               =   789964GF\n",
      "  train_loss               =     0.0004\n",
      "  train_runtime            = 0:00:01.12\n",
      "  train_samples            =     174443\n",
      "  train_samples_per_second =   7762.959\n",
      "  train_steps_per_second   =    242.978\n",
      "\n",
      "Validating the model...\n"
     ]
    },
    {
     "data": {
      "text/html": [
       "\n",
       "    <div>\n",
       "      \n",
       "      <progress value='102' max='102' style='width:300px; height:20px; vertical-align: middle;'></progress>\n",
       "      [102/102 00:17]\n",
       "    </div>\n",
       "    "
      ],
      "text/plain": [
       "<IPython.core.display.HTML object>"
      ]
     },
     "metadata": {},
     "output_type": "display_data"
    },
    {
     "name": "stderr",
     "output_type": "stream",
     "text": [
      "Evaluating bleu score: 100%|█| 102/102 [00"
     ]
    },
    {
     "name": "stdout",
     "output_type": "stream",
     "text": [
      "***** validation metrics *****\n",
      "  bleu               = 0.8301\n",
      "  validation_samples =   3243\n"
     ]
    },
    {
     "name": "stderr",
     "output_type": "stream",
     "text": [
      "\n"
     ]
    }
   ],
   "source": [
    "mt_hg_model.fit()"
   ]
  },
  {
   "cell_type": "code",
   "execution_count": 19,
   "id": "6f4787a0-30b6-47b0-a5fc-76616f4c7f05",
   "metadata": {},
   "outputs": [
    {
     "name": "stdout",
     "output_type": "stream",
     "text": [
      "\n",
      "Generating translations...\n",
      "\n"
     ]
    },
    {
     "name": "stderr",
     "output_type": "stream",
     "text": [
      "Predicting strings: 100%|█| 221/221 [00:40"
     ]
    },
    {
     "name": "stdout",
     "output_type": "stream",
     "text": [
      "BLEU Score on the test data:  0.9181546059233954\n"
     ]
    },
    {
     "name": "stderr",
     "output_type": "stream",
     "text": [
      "\n"
     ]
    }
   ],
   "source": [
    "mt_hg_model.predict()"
   ]
  }
 ],
 "metadata": {
  "kernelspec": {
   "display_name": "Python 3 (ipykernel)",
   "language": "python",
   "name": "python3"
  },
  "language_info": {
   "codemirror_mode": {
    "name": "ipython",
    "version": 3
   },
   "file_extension": ".py",
   "mimetype": "text/x-python",
   "name": "python",
   "nbconvert_exporter": "python",
   "pygments_lexer": "ipython3",
   "version": "3.9.18"
  }
 },
 "nbformat": 4,
 "nbformat_minor": 5
}

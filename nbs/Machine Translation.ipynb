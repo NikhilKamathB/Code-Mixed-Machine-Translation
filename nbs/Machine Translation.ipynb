{
 "cells": [
  {
   "cell_type": "markdown",
   "id": "a797b411-ba32-4a49-8254-fd3b57caf76c",
   "metadata": {},
   "source": [
    "## Importing libraries and modules"
   ]
  },
  {
   "cell_type": "code",
   "execution_count": 1,
   "id": "1bd2df09-6a25-4686-b1ff-392d729c4030",
   "metadata": {},
   "outputs": [],
   "source": [
    "# Enable auto-reload\n",
    "%load_ext autoreload\n",
    "%autoreload 2"
   ]
  },
  {
   "cell_type": "code",
   "execution_count": 2,
   "id": "ddc02188-33e9-4af6-877e-7b343c69de5f",
   "metadata": {},
   "outputs": [],
   "source": [
    "# Suppress warnings\n",
    "import warnings\n",
    "warnings.filterwarnings(\"ignore\")\n",
    "\n",
    "# Add one level up directory to the path\n",
    "import sys\n",
    "sys.path.append(\"..\")\n",
    "\n",
    "# Import libraries\n",
    "import torch\n",
    "import random\n",
    "import pandas as pd\n",
    "\n",
    "# Import custom modules\n",
    "from src.data import *\n",
    "from src.machine_translation import *\n",
    "from src.data.utils import get_dataset\n",
    "from src.data.preprocess import clean_text\n",
    "from src.data.tokenizer import CustomBartTokenizer\n",
    "from src.machine_translation.translate import translate\n",
    "from src.machine_translation.net import CodeMixedModel, CodeMixedModelHGTrainer\n",
    "from src.machine_translation.models.bart_conditional import BartForConditionalGeneration\n",
    "from src.machine_translation.utils import get_tokenized_dataset_models, get_data_loader_models, calculate_sacrebleu_score, calculate_chrf_score, calculate_bert_score, calculate_tokens"
   ]
  },
  {
   "cell_type": "markdown",
   "id": "7afb9724-cdf5-458c-9ba9-854da0b39806",
   "metadata": {},
   "source": [
    "## Data acquisition, cleaning and processing"
   ]
  },
  {
   "cell_type": "code",
   "execution_count": 3,
   "id": "c22ec356-0bbb-4f7b-8aa7-b7d5d7ba8879",
   "metadata": {},
   "outputs": [
    {
     "name": "stdout",
     "output_type": "stream",
     "text": [
      "CPU times: user 4.77 s, sys: 178 ms, total: 4.95 s\n",
      "Wall time: 8.12 s\n"
     ]
    }
   ],
   "source": [
    "%%time\n",
    "train_df, validation_df, test_df = get_dataset()"
   ]
  },
  {
   "cell_type": "code",
   "execution_count": 4,
   "id": "65e76ede-e303-4558-8f66-810de6ef9330",
   "metadata": {},
   "outputs": [
    {
     "data": {
      "text/html": [
       "<div>\n",
       "<style scoped>\n",
       "    .dataframe tbody tr th:only-of-type {\n",
       "        vertical-align: middle;\n",
       "    }\n",
       "\n",
       "    .dataframe tbody tr th {\n",
       "        vertical-align: top;\n",
       "    }\n",
       "\n",
       "    .dataframe thead th {\n",
       "        text-align: right;\n",
       "    }\n",
       "</style>\n",
       "<table border=\"1\" class=\"dataframe\">\n",
       "  <thead>\n",
       "    <tr style=\"text-align: right;\">\n",
       "      <th></th>\n",
       "      <th>hi_en</th>\n",
       "      <th>en</th>\n",
       "      <th>source</th>\n",
       "    </tr>\n",
       "  </thead>\n",
       "  <tbody>\n",
       "    <tr>\n",
       "      <th>0</th>\n",
       "      <td>film ka kya naam hai</td>\n",
       "      <td>What's the name of the movie</td>\n",
       "      <td>cmu_hinglish_dog</td>\n",
       "    </tr>\n",
       "    <tr>\n",
       "      <th>1</th>\n",
       "      <td>namaste, sada hua tomatoes score mahaan hai, l...</td>\n",
       "      <td>Hi, the rotten tomatoes score is great but the...</td>\n",
       "      <td>cmu_hinglish_dog</td>\n",
       "    </tr>\n",
       "    <tr>\n",
       "      <th>2</th>\n",
       "      <td>kya aapako lagata hai ki aapako film pasand aa...</td>\n",
       "      <td>Do you think you will like the movie</td>\n",
       "      <td>cmu_hinglish_dog</td>\n",
       "    </tr>\n",
       "    <tr>\n",
       "      <th>3</th>\n",
       "      <td>yah kis tarah kee philm hai</td>\n",
       "      <td>What kind of movie is it</td>\n",
       "      <td>cmu_hinglish_dog</td>\n",
       "    </tr>\n",
       "    <tr>\n",
       "      <th>4</th>\n",
       "      <td>film  kab banee thee?</td>\n",
       "      <td>when was the movie made?</td>\n",
       "      <td>cmu_hinglish_dog</td>\n",
       "    </tr>\n",
       "    <tr>\n",
       "      <th>...</th>\n",
       "      <td>...</td>\n",
       "      <td>...</td>\n",
       "      <td>...</td>\n",
       "    </tr>\n",
       "    <tr>\n",
       "      <th>174438</th>\n",
       "      <td>Thik hai\\n</td>\n",
       "      <td>Ok.</td>\n",
       "      <td>linc</td>\n",
       "    </tr>\n",
       "    <tr>\n",
       "      <th>174439</th>\n",
       "      <td>Thik hai bhai\\n</td>\n",
       "      <td>ok bro</td>\n",
       "      <td>linc</td>\n",
       "    </tr>\n",
       "    <tr>\n",
       "      <th>174440</th>\n",
       "      <td>Kya ham chalu kar sakte hai?\\n</td>\n",
       "      <td>shall we continue?</td>\n",
       "      <td>linc</td>\n",
       "    </tr>\n",
       "    <tr>\n",
       "      <th>174441</th>\n",
       "      <td>Kya aapko pasand hai hamare saath\\n</td>\n",
       "      <td>do you like we can</td>\n",
       "      <td>linc</td>\n",
       "    </tr>\n",
       "    <tr>\n",
       "      <th>174442</th>\n",
       "      <td>Haa mere pass pandrah thanks hai\\n</td>\n",
       "      <td>Yeah I have fifteen thanks.</td>\n",
       "      <td>linc</td>\n",
       "    </tr>\n",
       "  </tbody>\n",
       "</table>\n",
       "<p>174443 rows × 3 columns</p>\n",
       "</div>"
      ],
      "text/plain": [
       "                                                    hi_en  \\\n",
       "0                                    film ka kya naam hai   \n",
       "1       namaste, sada hua tomatoes score mahaan hai, l...   \n",
       "2       kya aapako lagata hai ki aapako film pasand aa...   \n",
       "3                             yah kis tarah kee philm hai   \n",
       "4                                   film  kab banee thee?   \n",
       "...                                                   ...   \n",
       "174438                                         Thik hai\\n   \n",
       "174439                                    Thik hai bhai\\n   \n",
       "174440                     Kya ham chalu kar sakte hai?\\n   \n",
       "174441                Kya aapko pasand hai hamare saath\\n   \n",
       "174442                 Haa mere pass pandrah thanks hai\\n   \n",
       "\n",
       "                                                       en            source  \n",
       "0                            What's the name of the movie  cmu_hinglish_dog  \n",
       "1       Hi, the rotten tomatoes score is great but the...  cmu_hinglish_dog  \n",
       "2                    Do you think you will like the movie  cmu_hinglish_dog  \n",
       "3                                What kind of movie is it  cmu_hinglish_dog  \n",
       "4                                when was the movie made?  cmu_hinglish_dog  \n",
       "...                                                   ...               ...  \n",
       "174438                                                Ok.              linc  \n",
       "174439                                             ok bro              linc  \n",
       "174440                                 shall we continue?              linc  \n",
       "174441                                 do you like we can              linc  \n",
       "174442                        Yeah I have fifteen thanks.              linc  \n",
       "\n",
       "[174443 rows x 3 columns]"
      ]
     },
     "execution_count": 4,
     "metadata": {},
     "output_type": "execute_result"
    }
   ],
   "source": [
    "train_df"
   ]
  },
  {
   "cell_type": "code",
   "execution_count": 5,
   "id": "b4136fec-19ad-4643-83c6-3301a0388e2f",
   "metadata": {
    "scrolled": true
   },
   "outputs": [
    {
     "data": {
      "text/html": [
       "<div>\n",
       "<style scoped>\n",
       "    .dataframe tbody tr th:only-of-type {\n",
       "        vertical-align: middle;\n",
       "    }\n",
       "\n",
       "    .dataframe tbody tr th {\n",
       "        vertical-align: top;\n",
       "    }\n",
       "\n",
       "    .dataframe thead th {\n",
       "        text-align: right;\n",
       "    }\n",
       "</style>\n",
       "<table border=\"1\" class=\"dataframe\">\n",
       "  <thead>\n",
       "    <tr style=\"text-align: right;\">\n",
       "      <th></th>\n",
       "      <th>hi_en</th>\n",
       "      <th>en</th>\n",
       "      <th>source</th>\n",
       "    </tr>\n",
       "  </thead>\n",
       "  <tbody>\n",
       "    <tr>\n",
       "      <th>0</th>\n",
       "      <td>movie kis baare me hai?</td>\n",
       "      <td>What is the movie about?</td>\n",
       "      <td>cmu_hinglish_dog</td>\n",
       "    </tr>\n",
       "    <tr>\n",
       "      <th>1</th>\n",
       "      <td>Movie ek chhote bacche Kevin k baare me hai ji...</td>\n",
       "      <td>the movie is about a young child named Kevin w...</td>\n",
       "      <td>cmu_hinglish_dog</td>\n",
       "    </tr>\n",
       "    <tr>\n",
       "      <th>2</th>\n",
       "      <td>Kya wo jaan bhuj k abandon karte hai?</td>\n",
       "      <td>Did they abandon him on purpose?</td>\n",
       "      <td>cmu_hinglish_dog</td>\n",
       "    </tr>\n",
       "    <tr>\n",
       "      <th>3</th>\n",
       "      <td>nahi, wo uska track lose kardete hai kyuki bah...</td>\n",
       "      <td>no they had lost track of him since they had m...</td>\n",
       "      <td>cmu_hinglish_dog</td>\n",
       "    </tr>\n",
       "    <tr>\n",
       "      <th>4</th>\n",
       "      <td>Kya wo realize karte hai k wo chhut gaya aur u...</td>\n",
       "      <td>Did they realize they lost track of him and co...</td>\n",
       "      <td>cmu_hinglish_dog</td>\n",
       "    </tr>\n",
       "    <tr>\n",
       "      <th>...</th>\n",
       "      <td>...</td>\n",
       "      <td>...</td>\n",
       "      <td>...</td>\n",
       "    </tr>\n",
       "    <tr>\n",
       "      <th>3238</th>\n",
       "      <td>Sunkar good movie hai. Kya ham finish kar skat...</td>\n",
       "      <td>Sounds like a good movie. Can we finish now?</td>\n",
       "      <td>linc</td>\n",
       "    </tr>\n",
       "    <tr>\n",
       "      <th>3239</th>\n",
       "      <td>Yep. Thanks baat karne ke liye\\n</td>\n",
       "      <td>Yep. Thanks for chatting</td>\n",
       "      <td>linc</td>\n",
       "    </tr>\n",
       "    <tr>\n",
       "      <th>3240</th>\n",
       "      <td>Thanks, mei dekhati hui. Achi baat hai\\n</td>\n",
       "      <td>thanks, I will watch it. SOunds good</td>\n",
       "      <td>linc</td>\n",
       "    </tr>\n",
       "    <tr>\n",
       "      <th>3241</th>\n",
       "      <td>kya tumhe movie Despicable Me pasand hai?\\n</td>\n",
       "      <td>Did you like the movie Despicable Me?</td>\n",
       "      <td>linc</td>\n",
       "    </tr>\n",
       "    <tr>\n",
       "      <th>3242</th>\n",
       "      <td>mujhe nahi lagta ki ye movie 2010 me aayi thi,...</td>\n",
       "      <td>I did not realize this movie came out in 2010,...</td>\n",
       "      <td>linc</td>\n",
       "    </tr>\n",
       "  </tbody>\n",
       "</table>\n",
       "<p>3243 rows × 3 columns</p>\n",
       "</div>"
      ],
      "text/plain": [
       "                                                  hi_en  \\\n",
       "0                               movie kis baare me hai?   \n",
       "1     Movie ek chhote bacche Kevin k baare me hai ji...   \n",
       "2                 Kya wo jaan bhuj k abandon karte hai?   \n",
       "3     nahi, wo uska track lose kardete hai kyuki bah...   \n",
       "4     Kya wo realize karte hai k wo chhut gaya aur u...   \n",
       "...                                                 ...   \n",
       "3238  Sunkar good movie hai. Kya ham finish kar skat...   \n",
       "3239                   Yep. Thanks baat karne ke liye\\n   \n",
       "3240           Thanks, mei dekhati hui. Achi baat hai\\n   \n",
       "3241        kya tumhe movie Despicable Me pasand hai?\\n   \n",
       "3242  mujhe nahi lagta ki ye movie 2010 me aayi thi,...   \n",
       "\n",
       "                                                     en            source  \n",
       "0                              What is the movie about?  cmu_hinglish_dog  \n",
       "1     the movie is about a young child named Kevin w...  cmu_hinglish_dog  \n",
       "2                      Did they abandon him on purpose?  cmu_hinglish_dog  \n",
       "3     no they had lost track of him since they had m...  cmu_hinglish_dog  \n",
       "4     Did they realize they lost track of him and co...  cmu_hinglish_dog  \n",
       "...                                                 ...               ...  \n",
       "3238       Sounds like a good movie. Can we finish now?              linc  \n",
       "3239                           Yep. Thanks for chatting              linc  \n",
       "3240               thanks, I will watch it. SOunds good              linc  \n",
       "3241              Did you like the movie Despicable Me?              linc  \n",
       "3242  I did not realize this movie came out in 2010,...              linc  \n",
       "\n",
       "[3243 rows x 3 columns]"
      ]
     },
     "execution_count": 5,
     "metadata": {},
     "output_type": "execute_result"
    }
   ],
   "source": [
    "validation_df"
   ]
  },
  {
   "cell_type": "code",
   "execution_count": 6,
   "id": "8f002715-2359-4b51-b7b9-13e0c2738b21",
   "metadata": {},
   "outputs": [
    {
     "data": {
      "text/html": [
       "<div>\n",
       "<style scoped>\n",
       "    .dataframe tbody tr th:only-of-type {\n",
       "        vertical-align: middle;\n",
       "    }\n",
       "\n",
       "    .dataframe tbody tr th {\n",
       "        vertical-align: top;\n",
       "    }\n",
       "\n",
       "    .dataframe thead th {\n",
       "        text-align: right;\n",
       "    }\n",
       "</style>\n",
       "<table border=\"1\" class=\"dataframe\">\n",
       "  <thead>\n",
       "    <tr style=\"text-align: right;\">\n",
       "      <th></th>\n",
       "      <th>hi_en</th>\n",
       "      <th>en</th>\n",
       "      <th>source</th>\n",
       "    </tr>\n",
       "  </thead>\n",
       "  <tbody>\n",
       "    <tr>\n",
       "      <th>0</th>\n",
       "      <td>oye ledki kitni mazakiya movie dekh rhi ho ?</td>\n",
       "      <td>ah mean girls. such a funny movie. have you se...</td>\n",
       "      <td>cmu_hinglish_dog</td>\n",
       "    </tr>\n",
       "    <tr>\n",
       "      <th>1</th>\n",
       "      <td>ha muje bhi hassi mazak ki movies pasand par y...</td>\n",
       "      <td>Yeah, even though I love comedies, this wasn't...</td>\n",
       "      <td>cmu_hinglish_dog</td>\n",
       "    </tr>\n",
       "    <tr>\n",
       "      <th>2</th>\n",
       "      <td>kese tina ka jhuti writing isme achi the usne ...</td>\n",
       "      <td>how come. thought tina fey's writing was fanta...</td>\n",
       "      <td>cmu_hinglish_dog</td>\n",
       "    </tr>\n",
       "    <tr>\n",
       "      <th>3</th>\n",
       "      <td>muje kahani bhute achi lagi aur unhone ise dac...</td>\n",
       "      <td>I loved the story &amp; how true they made it in h...</td>\n",
       "      <td>cmu_hinglish_dog</td>\n",
       "    </tr>\n",
       "    <tr>\n",
       "      <th>4</th>\n",
       "      <td>ab samja muje nhi pta tha ki aap sahi admi hai...</td>\n",
       "      <td>I see. i didn't realize it was 14 years ago. y...</td>\n",
       "      <td>cmu_hinglish_dog</td>\n",
       "    </tr>\n",
       "    <tr>\n",
       "      <th>...</th>\n",
       "      <td>...</td>\n",
       "      <td>...</td>\n",
       "      <td>...</td>\n",
       "    </tr>\n",
       "    <tr>\n",
       "      <th>7067</th>\n",
       "      <td>alarm ko abhi stop kare</td>\n",
       "      <td>Stop alarm now</td>\n",
       "      <td>top</td>\n",
       "    </tr>\n",
       "    <tr>\n",
       "      <th>7068</th>\n",
       "      <td>Har ghante ke liye alarm set kare</td>\n",
       "      <td>set alarm every hour</td>\n",
       "      <td>top</td>\n",
       "    </tr>\n",
       "    <tr>\n",
       "      <th>7069</th>\n",
       "      <td>Bobby ko text kare</td>\n",
       "      <td>text Bobby</td>\n",
       "      <td>top</td>\n",
       "    </tr>\n",
       "    <tr>\n",
       "      <th>7070</th>\n",
       "      <td>Muje shaam 6 baje laundry ko pick up karne ke ...</td>\n",
       "      <td>remind me to pick up laundry at 6 pm</td>\n",
       "      <td>top</td>\n",
       "    </tr>\n",
       "    <tr>\n",
       "      <th>7071</th>\n",
       "      <td>Kya aap muje har subah 6 baje apne baccho ko j...</td>\n",
       "      <td>Can you remind me to wake my kids up every mor...</td>\n",
       "      <td>top</td>\n",
       "    </tr>\n",
       "  </tbody>\n",
       "</table>\n",
       "<p>7072 rows × 3 columns</p>\n",
       "</div>"
      ],
      "text/plain": [
       "                                                  hi_en  \\\n",
       "0          oye ledki kitni mazakiya movie dekh rhi ho ?   \n",
       "1     ha muje bhi hassi mazak ki movies pasand par y...   \n",
       "2     kese tina ka jhuti writing isme achi the usne ...   \n",
       "3     muje kahani bhute achi lagi aur unhone ise dac...   \n",
       "4     ab samja muje nhi pta tha ki aap sahi admi hai...   \n",
       "...                                                 ...   \n",
       "7067                            alarm ko abhi stop kare   \n",
       "7068                  Har ghante ke liye alarm set kare   \n",
       "7069                                 Bobby ko text kare   \n",
       "7070  Muje shaam 6 baje laundry ko pick up karne ke ...   \n",
       "7071  Kya aap muje har subah 6 baje apne baccho ko j...   \n",
       "\n",
       "                                                     en            source  \n",
       "0     ah mean girls. such a funny movie. have you se...  cmu_hinglish_dog  \n",
       "1     Yeah, even though I love comedies, this wasn't...  cmu_hinglish_dog  \n",
       "2     how come. thought tina fey's writing was fanta...  cmu_hinglish_dog  \n",
       "3     I loved the story & how true they made it in h...  cmu_hinglish_dog  \n",
       "4     I see. i didn't realize it was 14 years ago. y...  cmu_hinglish_dog  \n",
       "...                                                 ...               ...  \n",
       "7067                                     Stop alarm now               top  \n",
       "7068                               set alarm every hour               top  \n",
       "7069                                         text Bobby               top  \n",
       "7070               remind me to pick up laundry at 6 pm               top  \n",
       "7071  Can you remind me to wake my kids up every mor...               top  \n",
       "\n",
       "[7072 rows x 3 columns]"
      ]
     },
     "execution_count": 6,
     "metadata": {},
     "output_type": "execute_result"
    }
   ],
   "source": [
    "test_df"
   ]
  },
  {
   "cell_type": "code",
   "execution_count": 7,
   "id": "9e93f1af-c168-4d30-8d38-f08a1245b594",
   "metadata": {},
   "outputs": [
    {
     "name": "stdout",
     "output_type": "stream",
     "text": [
      "CPU times: user 2.86 s, sys: 2.72 ms, total: 2.87 s\n",
      "Wall time: 2.87 s\n"
     ]
    },
    {
     "data": {
      "text/html": [
       "<div>\n",
       "<style scoped>\n",
       "    .dataframe tbody tr th:only-of-type {\n",
       "        vertical-align: middle;\n",
       "    }\n",
       "\n",
       "    .dataframe tbody tr th {\n",
       "        vertical-align: top;\n",
       "    }\n",
       "\n",
       "    .dataframe thead th {\n",
       "        text-align: right;\n",
       "    }\n",
       "</style>\n",
       "<table border=\"1\" class=\"dataframe\">\n",
       "  <thead>\n",
       "    <tr style=\"text-align: right;\">\n",
       "      <th></th>\n",
       "      <th>hi_en</th>\n",
       "      <th>en</th>\n",
       "      <th>source</th>\n",
       "    </tr>\n",
       "  </thead>\n",
       "  <tbody>\n",
       "    <tr>\n",
       "      <th>0</th>\n",
       "      <td>film ka kya naam hai</td>\n",
       "      <td>what's the name of the movie</td>\n",
       "      <td>cmu_hinglish_dog</td>\n",
       "    </tr>\n",
       "    <tr>\n",
       "      <th>1</th>\n",
       "      <td>namaste, sada hua tomatoes score mahaan hai, l...</td>\n",
       "      <td>hi, the rotten tomatoes score is great but the...</td>\n",
       "      <td>cmu_hinglish_dog</td>\n",
       "    </tr>\n",
       "    <tr>\n",
       "      <th>2</th>\n",
       "      <td>kya aapako lagata hai ki aapako film pasand aa...</td>\n",
       "      <td>do you think you will like the movie</td>\n",
       "      <td>cmu_hinglish_dog</td>\n",
       "    </tr>\n",
       "    <tr>\n",
       "      <th>3</th>\n",
       "      <td>yah kis tarah kee philm hai</td>\n",
       "      <td>what kind of movie is it</td>\n",
       "      <td>cmu_hinglish_dog</td>\n",
       "    </tr>\n",
       "    <tr>\n",
       "      <th>4</th>\n",
       "      <td>film kab banee thee?</td>\n",
       "      <td>when was the movie made?</td>\n",
       "      <td>cmu_hinglish_dog</td>\n",
       "    </tr>\n",
       "    <tr>\n",
       "      <th>...</th>\n",
       "      <td>...</td>\n",
       "      <td>...</td>\n",
       "      <td>...</td>\n",
       "    </tr>\n",
       "    <tr>\n",
       "      <th>174438</th>\n",
       "      <td>thik hai</td>\n",
       "      <td>ok.</td>\n",
       "      <td>linc</td>\n",
       "    </tr>\n",
       "    <tr>\n",
       "      <th>174439</th>\n",
       "      <td>thik hai bhai</td>\n",
       "      <td>ok bro</td>\n",
       "      <td>linc</td>\n",
       "    </tr>\n",
       "    <tr>\n",
       "      <th>174440</th>\n",
       "      <td>kya ham chalu kar sakte hai?</td>\n",
       "      <td>shall we continue?</td>\n",
       "      <td>linc</td>\n",
       "    </tr>\n",
       "    <tr>\n",
       "      <th>174441</th>\n",
       "      <td>kya aapko pasand hai hamare saath</td>\n",
       "      <td>do you like we can</td>\n",
       "      <td>linc</td>\n",
       "    </tr>\n",
       "    <tr>\n",
       "      <th>174442</th>\n",
       "      <td>haa mere pass pandrah thanks hai</td>\n",
       "      <td>yeah i have fifteen thanks.</td>\n",
       "      <td>linc</td>\n",
       "    </tr>\n",
       "  </tbody>\n",
       "</table>\n",
       "<p>174443 rows × 3 columns</p>\n",
       "</div>"
      ],
      "text/plain": [
       "                                                    hi_en  \\\n",
       "0                                    film ka kya naam hai   \n",
       "1       namaste, sada hua tomatoes score mahaan hai, l...   \n",
       "2       kya aapako lagata hai ki aapako film pasand aa...   \n",
       "3                             yah kis tarah kee philm hai   \n",
       "4                                    film kab banee thee?   \n",
       "...                                                   ...   \n",
       "174438                                           thik hai   \n",
       "174439                                      thik hai bhai   \n",
       "174440                       kya ham chalu kar sakte hai?   \n",
       "174441                  kya aapko pasand hai hamare saath   \n",
       "174442                   haa mere pass pandrah thanks hai   \n",
       "\n",
       "                                                       en            source  \n",
       "0                            what's the name of the movie  cmu_hinglish_dog  \n",
       "1       hi, the rotten tomatoes score is great but the...  cmu_hinglish_dog  \n",
       "2                    do you think you will like the movie  cmu_hinglish_dog  \n",
       "3                                what kind of movie is it  cmu_hinglish_dog  \n",
       "4                                when was the movie made?  cmu_hinglish_dog  \n",
       "...                                                   ...               ...  \n",
       "174438                                                ok.              linc  \n",
       "174439                                             ok bro              linc  \n",
       "174440                                 shall we continue?              linc  \n",
       "174441                                 do you like we can              linc  \n",
       "174442                        yeah i have fifteen thanks.              linc  \n",
       "\n",
       "[174443 rows x 3 columns]"
      ]
     },
     "execution_count": 7,
     "metadata": {},
     "output_type": "execute_result"
    }
   ],
   "source": [
    "%%time\n",
    "# Cleaning train_df\n",
    "train_df = train_df.applymap(clean_text)\n",
    "train_df"
   ]
  },
  {
   "cell_type": "code",
   "execution_count": 8,
   "id": "1016d417-f744-4caa-9773-e968eafc35c8",
   "metadata": {},
   "outputs": [
    {
     "name": "stdout",
     "output_type": "stream",
     "text": [
      "CPU times: user 53.4 ms, sys: 590 µs, total: 54 ms\n",
      "Wall time: 53.7 ms\n"
     ]
    },
    {
     "data": {
      "text/html": [
       "<div>\n",
       "<style scoped>\n",
       "    .dataframe tbody tr th:only-of-type {\n",
       "        vertical-align: middle;\n",
       "    }\n",
       "\n",
       "    .dataframe tbody tr th {\n",
       "        vertical-align: top;\n",
       "    }\n",
       "\n",
       "    .dataframe thead th {\n",
       "        text-align: right;\n",
       "    }\n",
       "</style>\n",
       "<table border=\"1\" class=\"dataframe\">\n",
       "  <thead>\n",
       "    <tr style=\"text-align: right;\">\n",
       "      <th></th>\n",
       "      <th>hi_en</th>\n",
       "      <th>en</th>\n",
       "      <th>source</th>\n",
       "    </tr>\n",
       "  </thead>\n",
       "  <tbody>\n",
       "    <tr>\n",
       "      <th>0</th>\n",
       "      <td>movie kis baare me hai?</td>\n",
       "      <td>what is the movie about?</td>\n",
       "      <td>cmu_hinglish_dog</td>\n",
       "    </tr>\n",
       "    <tr>\n",
       "      <th>1</th>\n",
       "      <td>movie ek chhote bacche kevin k baare me hai ji...</td>\n",
       "      <td>the movie is about a young child named kevin w...</td>\n",
       "      <td>cmu_hinglish_dog</td>\n",
       "    </tr>\n",
       "    <tr>\n",
       "      <th>2</th>\n",
       "      <td>kya wo jaan bhuj k abandon karte hai?</td>\n",
       "      <td>did they abandon him on purpose?</td>\n",
       "      <td>cmu_hinglish_dog</td>\n",
       "    </tr>\n",
       "    <tr>\n",
       "      <th>3</th>\n",
       "      <td>nahi, wo uska track lose kardete hai kyuki bah...</td>\n",
       "      <td>no they had lost track of him since they had m...</td>\n",
       "      <td>cmu_hinglish_dog</td>\n",
       "    </tr>\n",
       "    <tr>\n",
       "      <th>4</th>\n",
       "      <td>kya wo realize karte hai k wo chhut gaya aur u...</td>\n",
       "      <td>did they realize they lost track of him and co...</td>\n",
       "      <td>cmu_hinglish_dog</td>\n",
       "    </tr>\n",
       "    <tr>\n",
       "      <th>...</th>\n",
       "      <td>...</td>\n",
       "      <td>...</td>\n",
       "      <td>...</td>\n",
       "    </tr>\n",
       "    <tr>\n",
       "      <th>3238</th>\n",
       "      <td>sunkar good movie hai. kya ham finish kar skat...</td>\n",
       "      <td>sounds like a good movie. can we finish now?</td>\n",
       "      <td>linc</td>\n",
       "    </tr>\n",
       "    <tr>\n",
       "      <th>3239</th>\n",
       "      <td>yep. thanks baat karne ke liye</td>\n",
       "      <td>yep. thanks for chatting</td>\n",
       "      <td>linc</td>\n",
       "    </tr>\n",
       "    <tr>\n",
       "      <th>3240</th>\n",
       "      <td>thanks, mei dekhati hui. achi baat hai</td>\n",
       "      <td>thanks, i will watch it. sounds good</td>\n",
       "      <td>linc</td>\n",
       "    </tr>\n",
       "    <tr>\n",
       "      <th>3241</th>\n",
       "      <td>kya tumhe movie despicable me pasand hai?</td>\n",
       "      <td>did you like the movie despicable me?</td>\n",
       "      <td>linc</td>\n",
       "    </tr>\n",
       "    <tr>\n",
       "      <th>3242</th>\n",
       "      <td>mujhe nahi lagta ki ye movie 2010 me aayi thi,...</td>\n",
       "      <td>i did not realize this movie came out in 2010,...</td>\n",
       "      <td>linc</td>\n",
       "    </tr>\n",
       "  </tbody>\n",
       "</table>\n",
       "<p>3243 rows × 3 columns</p>\n",
       "</div>"
      ],
      "text/plain": [
       "                                                  hi_en  \\\n",
       "0                               movie kis baare me hai?   \n",
       "1     movie ek chhote bacche kevin k baare me hai ji...   \n",
       "2                 kya wo jaan bhuj k abandon karte hai?   \n",
       "3     nahi, wo uska track lose kardete hai kyuki bah...   \n",
       "4     kya wo realize karte hai k wo chhut gaya aur u...   \n",
       "...                                                 ...   \n",
       "3238  sunkar good movie hai. kya ham finish kar skat...   \n",
       "3239                     yep. thanks baat karne ke liye   \n",
       "3240             thanks, mei dekhati hui. achi baat hai   \n",
       "3241          kya tumhe movie despicable me pasand hai?   \n",
       "3242  mujhe nahi lagta ki ye movie 2010 me aayi thi,...   \n",
       "\n",
       "                                                     en            source  \n",
       "0                              what is the movie about?  cmu_hinglish_dog  \n",
       "1     the movie is about a young child named kevin w...  cmu_hinglish_dog  \n",
       "2                      did they abandon him on purpose?  cmu_hinglish_dog  \n",
       "3     no they had lost track of him since they had m...  cmu_hinglish_dog  \n",
       "4     did they realize they lost track of him and co...  cmu_hinglish_dog  \n",
       "...                                                 ...               ...  \n",
       "3238       sounds like a good movie. can we finish now?              linc  \n",
       "3239                           yep. thanks for chatting              linc  \n",
       "3240               thanks, i will watch it. sounds good              linc  \n",
       "3241              did you like the movie despicable me?              linc  \n",
       "3242  i did not realize this movie came out in 2010,...              linc  \n",
       "\n",
       "[3243 rows x 3 columns]"
      ]
     },
     "execution_count": 8,
     "metadata": {},
     "output_type": "execute_result"
    }
   ],
   "source": [
    "%%time\n",
    "# Cleaning validation_df\n",
    "validation_df = validation_df.applymap(clean_text)\n",
    "validation_df"
   ]
  },
  {
   "cell_type": "code",
   "execution_count": 9,
   "id": "46573bf4-a9cc-49d5-9659-3966fc9a80b9",
   "metadata": {},
   "outputs": [
    {
     "name": "stdout",
     "output_type": "stream",
     "text": [
      "CPU times: user 107 ms, sys: 523 µs, total: 108 ms\n",
      "Wall time: 107 ms\n"
     ]
    },
    {
     "data": {
      "text/html": [
       "<div>\n",
       "<style scoped>\n",
       "    .dataframe tbody tr th:only-of-type {\n",
       "        vertical-align: middle;\n",
       "    }\n",
       "\n",
       "    .dataframe tbody tr th {\n",
       "        vertical-align: top;\n",
       "    }\n",
       "\n",
       "    .dataframe thead th {\n",
       "        text-align: right;\n",
       "    }\n",
       "</style>\n",
       "<table border=\"1\" class=\"dataframe\">\n",
       "  <thead>\n",
       "    <tr style=\"text-align: right;\">\n",
       "      <th></th>\n",
       "      <th>hi_en</th>\n",
       "      <th>en</th>\n",
       "      <th>source</th>\n",
       "    </tr>\n",
       "  </thead>\n",
       "  <tbody>\n",
       "    <tr>\n",
       "      <th>0</th>\n",
       "      <td>oye ledki kitni mazakiya movie dekh rhi ho ?</td>\n",
       "      <td>ah mean girls. such a funny movie. have you se...</td>\n",
       "      <td>cmu_hinglish_dog</td>\n",
       "    </tr>\n",
       "    <tr>\n",
       "      <th>1</th>\n",
       "      <td>ha muje bhi hassi mazak ki movies pasand par y...</td>\n",
       "      <td>yeah, even though i love comedies, this wasn't...</td>\n",
       "      <td>cmu_hinglish_dog</td>\n",
       "    </tr>\n",
       "    <tr>\n",
       "      <th>2</th>\n",
       "      <td>kese tina ka jhuti writing isme achi the usne ...</td>\n",
       "      <td>how come. thought tina fey's writing was fanta...</td>\n",
       "      <td>cmu_hinglish_dog</td>\n",
       "    </tr>\n",
       "    <tr>\n",
       "      <th>3</th>\n",
       "      <td>muje kahani bhute achi lagi aur unhone ise dac...</td>\n",
       "      <td>i loved the story &amp; how true they made it in h...</td>\n",
       "      <td>cmu_hinglish_dog</td>\n",
       "    </tr>\n",
       "    <tr>\n",
       "      <th>4</th>\n",
       "      <td>ab samja muje nhi pta tha ki aap sahi admi hai...</td>\n",
       "      <td>i see. i didn't realize it was 14 years ago. y...</td>\n",
       "      <td>cmu_hinglish_dog</td>\n",
       "    </tr>\n",
       "    <tr>\n",
       "      <th>...</th>\n",
       "      <td>...</td>\n",
       "      <td>...</td>\n",
       "      <td>...</td>\n",
       "    </tr>\n",
       "    <tr>\n",
       "      <th>7067</th>\n",
       "      <td>alarm ko abhi stop kare</td>\n",
       "      <td>stop alarm now</td>\n",
       "      <td>top</td>\n",
       "    </tr>\n",
       "    <tr>\n",
       "      <th>7068</th>\n",
       "      <td>har ghante ke liye alarm set kare</td>\n",
       "      <td>set alarm every hour</td>\n",
       "      <td>top</td>\n",
       "    </tr>\n",
       "    <tr>\n",
       "      <th>7069</th>\n",
       "      <td>bobby ko text kare</td>\n",
       "      <td>text bobby</td>\n",
       "      <td>top</td>\n",
       "    </tr>\n",
       "    <tr>\n",
       "      <th>7070</th>\n",
       "      <td>muje shaam 6 baje laundry ko pick up karne ke ...</td>\n",
       "      <td>remind me to pick up laundry at 6 pm</td>\n",
       "      <td>top</td>\n",
       "    </tr>\n",
       "    <tr>\n",
       "      <th>7071</th>\n",
       "      <td>kya aap muje har subah 6 baje apne baccho ko j...</td>\n",
       "      <td>can you remind me to wake my kids up every mor...</td>\n",
       "      <td>top</td>\n",
       "    </tr>\n",
       "  </tbody>\n",
       "</table>\n",
       "<p>7072 rows × 3 columns</p>\n",
       "</div>"
      ],
      "text/plain": [
       "                                                  hi_en  \\\n",
       "0          oye ledki kitni mazakiya movie dekh rhi ho ?   \n",
       "1     ha muje bhi hassi mazak ki movies pasand par y...   \n",
       "2     kese tina ka jhuti writing isme achi the usne ...   \n",
       "3     muje kahani bhute achi lagi aur unhone ise dac...   \n",
       "4     ab samja muje nhi pta tha ki aap sahi admi hai...   \n",
       "...                                                 ...   \n",
       "7067                            alarm ko abhi stop kare   \n",
       "7068                  har ghante ke liye alarm set kare   \n",
       "7069                                 bobby ko text kare   \n",
       "7070  muje shaam 6 baje laundry ko pick up karne ke ...   \n",
       "7071  kya aap muje har subah 6 baje apne baccho ko j...   \n",
       "\n",
       "                                                     en            source  \n",
       "0     ah mean girls. such a funny movie. have you se...  cmu_hinglish_dog  \n",
       "1     yeah, even though i love comedies, this wasn't...  cmu_hinglish_dog  \n",
       "2     how come. thought tina fey's writing was fanta...  cmu_hinglish_dog  \n",
       "3     i loved the story & how true they made it in h...  cmu_hinglish_dog  \n",
       "4     i see. i didn't realize it was 14 years ago. y...  cmu_hinglish_dog  \n",
       "...                                                 ...               ...  \n",
       "7067                                     stop alarm now               top  \n",
       "7068                               set alarm every hour               top  \n",
       "7069                                         text bobby               top  \n",
       "7070               remind me to pick up laundry at 6 pm               top  \n",
       "7071  can you remind me to wake my kids up every mor...               top  \n",
       "\n",
       "[7072 rows x 3 columns]"
      ]
     },
     "execution_count": 9,
     "metadata": {},
     "output_type": "execute_result"
    }
   ],
   "source": [
    "%%time\n",
    "# Cleaning test_df\n",
    "test_df = test_df.applymap(clean_text)\n",
    "test_df"
   ]
  },
  {
   "cell_type": "markdown",
   "id": "6815fbe5-c088-40b5-9406-2c942a6d09f8",
   "metadata": {},
   "source": [
    "## Data tokenization"
   ]
  },
  {
   "cell_type": "code",
   "execution_count": 10,
   "id": "c18f562f-3b6a-4424-bb67-f2fadd2fbfc3",
   "metadata": {},
   "outputs": [
    {
     "name": "stdout",
     "output_type": "stream",
     "text": [
      "\n",
      "\n",
      "\n",
      "\n",
      "\n",
      "\n",
      "CPU times: user 27.6 s, sys: 76.9 ms, total: 27.7 s\n",
      "Wall time: 28.3 s\n"
     ]
    }
   ],
   "source": [
    "%%time\n",
    "bart_tokenizer = CustomBartTokenizer().build()\n",
    "bart_tokenizer_scratch = CustomBartTokenizer().build(data=train_df[\"hi_en\"], tokenizer_style=STYLE.SCRATCH.value)\n",
    "bart_tokenizer_append = CustomBartTokenizer().build(data=train_df[\"hi_en\"], tokenizer_style=STYLE.APPEND.value)"
   ]
  },
  {
   "cell_type": "code",
   "execution_count": 11,
   "id": "762a0654-e873-425b-9c82-8929723277e3",
   "metadata": {},
   "outputs": [],
   "source": [
    "query = \"Hello! Ye CSCI 544 ka project he. Ye project Code-Mixed Machine Translation ke bara me he. Hamane hamari khoon bahahe.\"\n",
    "query = clean_text(text=query)"
   ]
  },
  {
   "cell_type": "code",
   "execution_count": 12,
   "id": "e2270383-2d6c-41ae-a798-5d61fd71ce6d",
   "metadata": {},
   "outputs": [
    {
     "name": "stdout",
     "output_type": "stream",
     "text": [
      "####################################################################################################\n",
      "This is an example of using the default Bart Tokenizer.\n",
      "\n",
      "Sentence: hello! ye csci 544 ka project he. ye project code-mixed machine translation ke bara me he. hamane hamari khoon bahahe.\n",
      "\n",
      "Tokenized word: ['<s>', 'hello', '!', 'Ġye', 'Ġc', 'sci', 'Ġ5', '44', 'Ġka', 'Ġproject', 'Ġhe', '.', 'Ġye', 'Ġproject', 'Ġcode', '-', 'm', 'ixed', 'Ġmachine', 'Ġtranslation', 'Ġke', 'Ġbar', 'a', 'Ġme', 'Ġhe', '.', 'Ġham', 'ane', 'Ġham', 'ari', 'Ġkh', 'oon', 'Ġb', 'aha', 'he', '.', '</s>']\n",
      "\n",
      "Tokenized idx: [0, 42891, 328, 32440, 740, 43428, 195, 3305, 4661, 695, 37, 4, 32440, 695, 3260, 12, 119, 24194, 3563, 19850, 7321, 2003, 102, 162, 37, 4, 11402, 1728, 11402, 1512, 16447, 3863, 741, 11695, 700, 4, 2]\n",
      "####################################################################################################\n"
     ]
    }
   ],
   "source": [
    "token_idx = bart_tokenizer.encode(query, add_special_tokens=True)\n",
    "token_word = bart_tokenizer.convert_ids_to_tokens(token_idx)\n",
    "print('#'*100)\n",
    "print(\"This is an example of using the default Bart Tokenizer.\\n\")\n",
    "print(f\"Sentence: {query}\\n\")\n",
    "print(f\"Tokenized word: {token_word}\\n\")\n",
    "print(f\"Tokenized idx: {token_idx}\")\n",
    "print('#'*100)"
   ]
  },
  {
   "cell_type": "code",
   "execution_count": 13,
   "id": "b4bfaaba-91ad-467e-ac94-c3b55c4b5de8",
   "metadata": {},
   "outputs": [
    {
     "name": "stdout",
     "output_type": "stream",
     "text": [
      "####################################################################################################\n",
      "This is an example of the Bart Tokenizer that is trained from scratch.\n",
      "\n",
      "Sentence: hello! ye csci 544 ka project he. ye project code-mixed machine translation ke bara me he. hamane hamari khoon bahahe.\n",
      "\n",
      "Tokenized word: ['<s>', 'hello', '!', 'Ġye', 'Ġc', 'sci', 'Ġ5', '44', 'Ġka', 'Ġproject', 'Ġhe', '.', 'Ġye', 'Ġproject', 'Ġcode', '-', 'mix', 'ed', 'Ġmachine', 'Ġtrans', 'lation', 'Ġke', 'Ġbara', 'Ġme', 'Ġhe', '.', 'Ġhamane', 'Ġhamari', 'Ġkhoon', 'Ġbaha', 'he', '.', '</s>']\n",
      "\n",
      "Tokenized idx: [0, 2317, 4, 520, 288, 21554, 466, 11342, 312, 3070, 356, 17, 520, 3070, 6438, 16, 19530, 517, 6262, 3397, 18402, 271, 17190, 284, 356, 17, 11714, 4630, 10623, 13967, 282, 17, 2]\n",
      "####################################################################################################\n"
     ]
    }
   ],
   "source": [
    "token_idx = bart_tokenizer_scratch.encode(query, add_special_tokens=True)\n",
    "token_word = bart_tokenizer_scratch.convert_ids_to_tokens(token_idx)\n",
    "print('#'*100)\n",
    "print(\"This is an example of the Bart Tokenizer that is trained from scratch.\\n\")\n",
    "print(f\"Sentence: {query}\\n\")\n",
    "print(f\"Tokenized word: {token_word}\\n\")\n",
    "print(f\"Tokenized idx: {token_idx}\")\n",
    "print('#'*100)"
   ]
  },
  {
   "cell_type": "code",
   "execution_count": 14,
   "id": "3ad95f1b-8b6a-4bc0-be8c-4a18fa8775f7",
   "metadata": {},
   "outputs": [
    {
     "name": "stdout",
     "output_type": "stream",
     "text": [
      "####################################################################################################\n",
      "This is an example of the Bart Tokenizer to which we append our new data.\n",
      "\n",
      "Sentence: hello! ye csci 544 ka project he. ye project code-mixed machine translation ke bara me he. hamane hamari khoon bahahe.\n",
      "\n",
      "Tokenized word: ['<s>', 'hello', '!', 'Ġ', 'ye', 'Ġ', 'csc', 'i', 'Ġ', '54', '4', 'Ġ', 'ka', 'Ġ', 'project', 'Ġ', 'he', '.', 'Ġ', 'ye', 'Ġ', 'project', 'Ġ', 'code', '-', 'mix', 'ed', 'Ġ', 'mach', 'ine', 'Ġ', 'trans', 'lation', 'Ġ', 'ke', 'Ġ', 'bara', 'Ġ', 'me', 'Ġ', 'he', '.', 'Ġ', 'hamane', 'Ġ', 'hamari', 'Ġ', 'khoo', 'n', 'Ġ', 'baha', 'he', '.', '</s>']\n",
      "\n",
      "Tokenized idx: [0, 42891, 328, 1437, 4717, 1437, 60283, 118, 1437, 4283, 306, 1437, 2348, 1437, 28258, 1437, 700, 4, 1437, 4717, 1437, 28258, 1437, 20414, 12, 39915, 196, 1437, 82894, 833, 1437, 9981, 35019, 1437, 1071, 1437, 31533, 1437, 1794, 1437, 700, 4, 1437, 62217, 1437, 84301, 1437, 58789, 282, 1437, 80269, 700, 4, 2]\n",
      "####################################################################################################\n"
     ]
    }
   ],
   "source": [
    "token_idx = bart_tokenizer_append.encode(query, add_special_tokens=True)\n",
    "token_word = bart_tokenizer_append.convert_ids_to_tokens(token_idx)\n",
    "print('#'*100)\n",
    "print(\"This is an example of the Bart Tokenizer to which we append our new data.\\n\")\n",
    "print(f\"Sentence: {query}\\n\")\n",
    "print(f\"Tokenized word: {token_word}\\n\")\n",
    "print(f\"Tokenized idx: {token_idx}\")\n",
    "print('#'*100)"
   ]
  },
  {
   "cell_type": "code",
   "execution_count": 15,
   "id": "390d4005-a4fe-4187-8a41-a987029417b1",
   "metadata": {},
   "outputs": [
    {
     "name": "stdout",
     "output_type": "stream",
     "text": [
      "\n",
      "\n",
      "\n",
      "CPU times: user 13.6 s, sys: 34.9 ms, total: 13.6 s\n",
      "Wall time: 13.8 s\n"
     ]
    }
   ],
   "source": [
    "%%time\n",
    "# Now that we know how to get a BART-Tokenizer - default, appeded and scratch, let us get the tokenizer for our code-mixed language\n",
    "# and the target language.\n",
    "# Code-Mixed Language - Build a Bart-Tokenizer from scratch.\n",
    "# Target Language (English) - Use the default Bart-Tokenizer.\n",
    "hi_en_bart_tokenizer = CustomBartTokenizer().build(\n",
    "    data=train_df[\"hi_en\"],\n",
    "    tokenizer_style=MBART_TOKENIZER_BPE_BINDING_BART_TOKENIZER_ENCODER_STYLE,\n",
    "    tokenizer_bart_from_pretrained_path=MBART_TOKENIZER_BPE_BINDING_BART_TOKENIZER_ENCODER_FROM_PRETRAINED\n",
    ")\n",
    "en_bart_tokenizer = CustomBartTokenizer().build(\n",
    "    tokenizer_style=MBART_TOKENIZER_BPE_BINDING_BART_TOKENIZER_DECODER_STYLE,\n",
    "    tokenizer_bart_from_pretrained_path=MBART_TOKENIZER_BPE_BINDING_BART_TOKENIZER_DECODER_FROM_PRETRAINED\n",
    ")"
   ]
  },
  {
   "cell_type": "code",
   "execution_count": 16,
   "id": "e43157d2-c90a-4a82-a8fd-f4c9256ca9fe",
   "metadata": {},
   "outputs": [
    {
     "name": "stdout",
     "output_type": "stream",
     "text": [
      "Hinglish tokenizer vocab size: 50265\n",
      "English tokenizer vocab size: 50265\n"
     ]
    }
   ],
   "source": [
    "print(f\"Hinglish tokenizer vocab size: {hi_en_bart_tokenizer.vocab_size}\")\n",
    "print(f\"English tokenizer vocab size: {en_bart_tokenizer.vocab_size}\")"
   ]
  },
  {
   "cell_type": "code",
   "execution_count": 17,
   "id": "79dbbc3c-76c4-4628-a59d-66c142a74489",
   "metadata": {},
   "outputs": [
    {
     "name": "stdout",
     "output_type": "stream",
     "text": [
      "There are 1764738 hinglish tokens in the train data.\n",
      "There are 1807859 english tokens in the train data.\n",
      "There are 38502 hinglish tokens in the validation data.\n",
      "There are 38366 english tokens in the validation data.\n",
      "There are 70895 hinglish tokens in the test data.\n",
      "There are 69686 english tokens in the test data.\n",
      "CPU times: user 8.9 s, sys: 6.08 ms, total: 8.91 s\n",
      "Wall time: 8.92 s\n"
     ]
    }
   ],
   "source": [
    "%%time\n",
    "print(f\"There are {train_df['hi_en'].apply(lambda x: calculate_tokens(x, hi_en_bart_tokenizer)).sum()} hinglish tokens in the train data.\")\n",
    "print(f\"There are {train_df['en'].apply(lambda x: calculate_tokens(x, en_bart_tokenizer)).sum()} english tokens in the train data.\")\n",
    "print(f\"There are {validation_df['hi_en'].apply(lambda x: calculate_tokens(x, hi_en_bart_tokenizer)).sum()} hinglish tokens in the validation data.\")\n",
    "print(f\"There are {validation_df['en'].apply(lambda x: calculate_tokens(x, en_bart_tokenizer)).sum()} english tokens in the validation data.\")\n",
    "print(f\"There are {test_df['hi_en'].apply(lambda x: calculate_tokens(x, hi_en_bart_tokenizer)).sum()} hinglish tokens in the test data.\")\n",
    "print(f\"There are {test_df['en'].apply(lambda x: calculate_tokens(x, en_bart_tokenizer)).sum()} english tokens in the test data.\")"
   ]
  },
  {
   "cell_type": "markdown",
   "id": "ea448cc8-4d09-40e8-a793-db3b7c6d59d7",
   "metadata": {},
   "source": [
    "## Dataset and Data Loaders"
   ]
  },
  {
   "cell_type": "code",
   "execution_count": 18,
   "id": "9b11bdf5-d384-42da-b618-48310379ffc1",
   "metadata": {},
   "outputs": [
    {
     "data": {
      "text/plain": [
       "defaultdict(dict,\n",
       "            {'hi_en__en': {'train': <src.machine_translation.data.CodeMixedTokenizedDataset at 0x29dc0c250>,\n",
       "              'validation': <src.machine_translation.data.CodeMixedTokenizedDataset at 0x29dc0cac0>,\n",
       "              'test': <src.machine_translation.data.CodeMixedTokenizedDataset at 0x29dc0c790>}})"
      ]
     },
     "execution_count": 18,
     "metadata": {},
     "output_type": "execute_result"
    }
   ],
   "source": [
    "# Get the tokenized dataset\n",
    "__tokenized_datasets__ = get_tokenized_dataset_models(\n",
    "    train_df=train_df,\n",
    "    validation_df=validation_df,\n",
    "    test_df=test_df,\n",
    "    encoder_tokenizer=hi_en_bart_tokenizer,\n",
    "    decoder_tokenizer=en_bart_tokenizer\n",
    ")\n",
    "__tokenized_datasets__"
   ]
  },
  {
   "cell_type": "code",
   "execution_count": 19,
   "id": "a1e23c99-b268-450d-a1cd-cd355dca0936",
   "metadata": {},
   "outputs": [],
   "source": [
    "__train_dataset__, __validation_dataset__, __test_dataset__ = __tokenized_datasets__[\"hi_en__en\"].values()"
   ]
  },
  {
   "cell_type": "code",
   "execution_count": 20,
   "id": "056b96a6-1b55-41aa-a4fd-8cfc44d837be",
   "metadata": {},
   "outputs": [
    {
     "name": "stdout",
     "output_type": "stream",
     "text": [
      "####################################################################################################\n",
      "Dataset\n",
      "Number of instances:  174443\n",
      "Denoising stage:  False\n",
      "Source language:  hi_en\n",
      "Target language:  en\n",
      "Key: input_ids, Value: tensor([    0,  3497,    15, 10386,  1071,  2025,  2185,  6089,   278,    15,\n",
      "         1088,  4175,  2430,  2185,   392, 33673,  1711,  1963,   291,  1104,\n",
      "         1067,  1758,   278,    17,     2]), Value shape: torch.Size([25])\n",
      "Key: attention_mask, Value: tensor([1, 1, 1, 1, 1, 1, 1, 1, 1, 1, 1, 1, 1, 1, 1, 1, 1, 1, 1, 1, 1, 1, 1, 1,\n",
      "        1]), Value shape: torch.Size([25])\n",
      "Key: labels, Value: tensor([    0,  3592,     6,     5, 34485, 18553,  1471,    16,   372,    53,\n",
      "            5, 32820,  7745,  1471,  1302,    10,   410,   614,    10,  1569,\n",
      "            9,    42,  1318,     4,     2]), Value shape: torch.Size([25])\n",
      "####################################################################################################\n"
     ]
    }
   ],
   "source": [
    "__train_dataset__.visualize()"
   ]
  },
  {
   "cell_type": "code",
   "execution_count": 21,
   "id": "dd21ad39-1fe1-439a-a0e5-424f6084aaaa",
   "metadata": {},
   "outputs": [],
   "source": [
    "# Get the data loaders for denoising\n",
    "__data_loaders__ = get_data_loader_models(\n",
    "    train_df=train_df,\n",
    "    validation_df=validation_df,\n",
    "    test_df=test_df,\n",
    "    train_batch_size=4, \n",
    "    validation_batch_size=4, \n",
    "    test_batch_size=4,\n",
    "    encoder_tokenizer=hi_en_bart_tokenizer,\n",
    "    decoder_tokenizer=hi_en_bart_tokenizer,\n",
    "    denoising_stage=True\n",
    ")"
   ]
  },
  {
   "cell_type": "code",
   "execution_count": 22,
   "id": "b6245480-16cd-4155-9168-d8abd2af0204",
   "metadata": {},
   "outputs": [
    {
     "data": {
      "text/plain": [
       "defaultdict(dict,\n",
       "            {'hi_en__en': {'object': <src.machine_translation.data.CodeMixedDataLoader at 0x2ad1ef790>,\n",
       "              'train': <torch.utils.data.dataloader.DataLoader at 0x2ad1ef130>,\n",
       "              'validation': <torch.utils.data.dataloader.DataLoader at 0x2ad1ef0a0>,\n",
       "              'test': <torch.utils.data.dataloader.DataLoader at 0x2ad1ef5e0>}})"
      ]
     },
     "execution_count": 22,
     "metadata": {},
     "output_type": "execute_result"
    }
   ],
   "source": [
    "__data_loaders__"
   ]
  },
  {
   "cell_type": "code",
   "execution_count": 23,
   "id": "c9b1068b-d7ce-45c2-9726-605532100f1d",
   "metadata": {},
   "outputs": [],
   "source": [
    "__data_loader__, __train_data_loader__, __validation_data_loader__, __test_data_loader__ = __data_loaders__[\"hi_en__en\"].values()"
   ]
  },
  {
   "cell_type": "code",
   "execution_count": 24,
   "id": "476eb167-927e-455a-9889-130940b39c20",
   "metadata": {},
   "outputs": [
    {
     "name": "stdout",
     "output_type": "stream",
     "text": [
      "####################################################################################################\n",
      "Train Dataloader\n",
      "Batch Size:  4\n",
      "Number of batches:  43611\n",
      "Batch source language shape:  torch.Size([4, 25])\n",
      "Batch source language:  ['kal subha 10 am ke liye ek alarm ko set karen', 'likho ki enjoy your weekend .', 'mujhe family reunion plans ke baare me reinders dikhao', 'timer par kitna samay hai']\n",
      "Batch source tokens:  tensor([[    0,   404,   626,   552,   489,   271,   283,   379,   320,   280,\n",
      "           334,   437,     2,     1,     1,     1,     1,     1,     1,     1,\n",
      "             1,     1,     1,     1,     1],\n",
      "        [    0, 17083,   294,  2476,  1939,   496,   322,     2,     1,     1,\n",
      "             1,     1,     1,     1,     1,     1,     1,     1,     1,     1,\n",
      "             1,     1,     1,     1,     1],\n",
      "        [    0,   348,  1210,  3964,  3073,   271,   631,   284, 38776,   685,\n",
      "             2,     1,     1,     1,     1,     1,     1,     1,     1,     1,\n",
      "             1,     1,     1,     1,     1],\n",
      "        [    0,   712,   337,   419,   571,   278,     2,     1,     1,     1,\n",
      "             1,     1,     1,     1,     1,     1,     1,     1,     1,     1,\n",
      "             1,     1,     1,     1,     1]])\n",
      "Batch source attention mask:  tensor([[1, 1, 1, 1, 1, 1, 1, 1, 1, 1, 1, 1, 1, 0, 0, 0, 0, 0, 0, 0, 0, 0, 0, 0,\n",
      "         0],\n",
      "        [1, 1, 1, 1, 1, 1, 1, 1, 0, 0, 0, 0, 0, 0, 0, 0, 0, 0, 0, 0, 0, 0, 0, 0,\n",
      "         0],\n",
      "        [1, 1, 1, 1, 1, 1, 1, 1, 1, 1, 1, 0, 0, 0, 0, 0, 0, 0, 0, 0, 0, 0, 0, 0,\n",
      "         0],\n",
      "        [1, 1, 1, 1, 1, 1, 1, 0, 0, 0, 0, 0, 0, 0, 0, 0, 0, 0, 0, 0, 0, 0, 0, 0,\n",
      "         0]])\n",
      "Batch target language shape:  torch.Size([4, 25])\n",
      "Batch target language:  ['kal subha 10 am ke liye ek alarm ko set karen', 'likho ki enjoy your weekend .', 'mujhe family reunion plans ke baare me reinders dikhao', 'timer par kitna samay hai']\n",
      "Batch target tokens:  tensor([[    0,   404,   626,   552,   489,   271,   283,   379,   320,   280,\n",
      "           334,   437,     2,     1,     1,     1,     1,     1,     1,     1,\n",
      "             1,     1,     1,     1,     1],\n",
      "        [    0, 17083,   294,  2476,  1939,   496,   322,     2,     1,     1,\n",
      "             1,     1,     1,     1,     1,     1,     1,     1,     1,     1,\n",
      "             1,     1,     1,     1,     1],\n",
      "        [    0,   348,  1210,  3964,  3073,   271,   631,   284, 38776,   685,\n",
      "             2,     1,     1,     1,     1,     1,     1,     1,     1,     1,\n",
      "             1,     1,     1,     1,     1],\n",
      "        [    0,   712,   337,   419,   571,   278,     2,     1,     1,     1,\n",
      "             1,     1,     1,     1,     1,     1,     1,     1,     1,     1,\n",
      "             1,     1,     1,     1,     1]])\n",
      "Batch target attention mask:  tensor([[1, 1, 1, 1, 1, 1, 1, 1, 1, 1, 1, 1, 1, 0, 0, 0, 0, 0, 0, 0, 0, 0, 0, 0,\n",
      "         0],\n",
      "        [1, 1, 1, 1, 1, 1, 1, 1, 0, 0, 0, 0, 0, 0, 0, 0, 0, 0, 0, 0, 0, 0, 0, 0,\n",
      "         0],\n",
      "        [1, 1, 1, 1, 1, 1, 1, 1, 1, 1, 1, 0, 0, 0, 0, 0, 0, 0, 0, 0, 0, 0, 0, 0,\n",
      "         0],\n",
      "        [1, 1, 1, 1, 1, 1, 1, 0, 0, 0, 0, 0, 0, 0, 0, 0, 0, 0, 0, 0, 0, 0, 0, 0,\n",
      "         0]])\n",
      "Validating train laoder...\n"
     ]
    },
    {
     "name": "stderr",
     "output_type": "stream",
     "text": [
      "100%|█████| 43611/43611 [00:41<00:00, 1048.52it/s]\n"
     ]
    },
    {
     "name": "stdout",
     "output_type": "stream",
     "text": [
      "Validation of train loader successful.\n",
      "####################################################################################################\n",
      "Val Dataloader\n",
      "Batch Size:  4\n",
      "Number of batches:  811\n",
      "Validating validation laoder...\n"
     ]
    },
    {
     "name": "stderr",
     "output_type": "stream",
     "text": [
      "100%|███████████| 811/811 [00:31<00:00, 26.03it/s]\n"
     ]
    },
    {
     "name": "stdout",
     "output_type": "stream",
     "text": [
      "Validation of validation loader successful.\n",
      "####################################################################################################\n",
      "Test Dataloader\n",
      "Batch Size:  4\n",
      "Number of batches:  1768\n",
      "Validating test laoder...\n"
     ]
    },
    {
     "name": "stderr",
     "output_type": "stream",
     "text": [
      "100%|█████████| 1768/1768 [00:31<00:00, 56.44it/s]"
     ]
    },
    {
     "name": "stdout",
     "output_type": "stream",
     "text": [
      "Validation of test loader successful.\n",
      "####################################################################################################\n",
      "CPU times: user 8.14 s, sys: 4.8 s, total: 12.9 s\n",
      "Wall time: 1min 59s\n"
     ]
    },
    {
     "name": "stderr",
     "output_type": "stream",
     "text": [
      "\n"
     ]
    }
   ],
   "source": [
    "%%time\n",
    "__data_loader__.visualize()"
   ]
  },
  {
   "cell_type": "code",
   "execution_count": 25,
   "id": "a713e97a-c867-4483-be32-29fc91250e1d",
   "metadata": {},
   "outputs": [],
   "source": [
    "# Get the data loaders for translation\n",
    "__data_loaders__ = get_data_loader_models(\n",
    "    train_df=train_df,\n",
    "    validation_df=validation_df,\n",
    "    test_df=test_df,\n",
    "    train_batch_size=4, \n",
    "    validation_batch_size=4, \n",
    "    test_batch_size=4,\n",
    "    encoder_tokenizer=hi_en_bart_tokenizer,\n",
    "    decoder_tokenizer=en_bart_tokenizer\n",
    ")"
   ]
  },
  {
   "cell_type": "code",
   "execution_count": 26,
   "id": "26a83ac1-b40d-4b2a-91e3-b7fcee399aa0",
   "metadata": {},
   "outputs": [
    {
     "data": {
      "text/plain": [
       "defaultdict(dict,\n",
       "            {'hi_en__en': {'object': <src.machine_translation.data.CodeMixedDataLoader at 0x2ad1ee1c0>,\n",
       "              'train': <torch.utils.data.dataloader.DataLoader at 0x2ad1eea00>,\n",
       "              'validation': <torch.utils.data.dataloader.DataLoader at 0x2ae78b8e0>,\n",
       "              'test': <torch.utils.data.dataloader.DataLoader at 0x2ae78bca0>}})"
      ]
     },
     "execution_count": 26,
     "metadata": {},
     "output_type": "execute_result"
    }
   ],
   "source": [
    "__data_loaders__"
   ]
  },
  {
   "cell_type": "code",
   "execution_count": 27,
   "id": "83ffe5b7-6db3-4728-bec6-9696aebefe50",
   "metadata": {},
   "outputs": [],
   "source": [
    "__data_loader__, __train_data_loader__, __validation_data_loader__, __test_data_loader__ = __data_loaders__[\"hi_en__en\"].values()"
   ]
  },
  {
   "cell_type": "code",
   "execution_count": 28,
   "id": "20381f05-a8a1-4a3a-9e34-8fe776a67497",
   "metadata": {},
   "outputs": [
    {
     "name": "stdout",
     "output_type": "stream",
     "text": [
      "####################################################################################################\n",
      "Train Dataloader\n",
      "Batch Size:  4\n",
      "Number of batches:  43611\n",
      "Batch source language shape:  torch.Size([4, 25])\n",
      "Batch source language:  ['aaj raat 10 : 30 ke liye ek alarm set karen', 'aaj chicago me traffic kaisa hai', 'hahah tum jaante ho', 'kya 101 backed up hai']\n",
      "Batch source tokens:  tensor([[   0,  479,  465,  552,  477,  586,  271,  283,  379,  320,  334,  437,\n",
      "            2,    1,    1,    1,    1,    1,    1,    1,    1,    1,    1,    1,\n",
      "            1],\n",
      "        [   0,  479, 1407,  284,  374,  428,  278,    2,    1,    1,    1,    1,\n",
      "            1,    1,    1,    1,    1,    1,    1,    1,    1,    1,    1,    1,\n",
      "            1],\n",
      "        [   0, 9070,  770, 5924,  310,    2,    1,    1,    1,    1,    1,    1,\n",
      "            1,    1,    1,    1,    1,    1,    1,    1,    1,    1,    1,    1,\n",
      "            1],\n",
      "        [   0,  316, 4278, 4743,  522,  278,    2,    1,    1,    1,    1,    1,\n",
      "            1,    1,    1,    1,    1,    1,    1,    1,    1,    1,    1,    1,\n",
      "            1]])\n",
      "Batch source attention mask:  tensor([[1, 1, 1, 1, 1, 1, 1, 1, 1, 1, 1, 1, 1, 0, 0, 0, 0, 0, 0, 0, 0, 0, 0, 0,\n",
      "         0],\n",
      "        [1, 1, 1, 1, 1, 1, 1, 1, 0, 0, 0, 0, 0, 0, 0, 0, 0, 0, 0, 0, 0, 0, 0, 0,\n",
      "         0],\n",
      "        [1, 1, 1, 1, 1, 1, 0, 0, 0, 0, 0, 0, 0, 0, 0, 0, 0, 0, 0, 0, 0, 0, 0, 0,\n",
      "         0],\n",
      "        [1, 1, 1, 1, 1, 1, 1, 0, 0, 0, 0, 0, 0, 0, 0, 0, 0, 0, 0, 0, 0, 0, 0, 0,\n",
      "         0]])\n",
      "Batch target language shape:  torch.Size([4, 25])\n",
      "Batch target language:  ['set an alarm for 10 : 30 tonight', \"how ' s the traffic in chicago today\", 'hahah you know it!', 'is 101 backed up']\n",
      "Batch target tokens:  tensor([[    0,  8738,    41,  8054,    13,   158,  4832,   389,  3422,     2,\n",
      "             1,     1,     1,     1,     1,     1,     1,     1,     1,     1,\n",
      "             1,     1,     1,     1,     1],\n",
      "        [    0,  9178,   128,   579,     5,  1703,    11,  1855, 42938,   452,\n",
      "             2,     1,     1,     1,     1,     1,     1,     1,     1,     1,\n",
      "             1,     1,     1,     1,     1],\n",
      "        [    0,   298, 43555,    47,   216,    24,   328,     2,     1,     1,\n",
      "             1,     1,     1,     1,     1,     1,     1,     1,     1,     1,\n",
      "             1,     1,     1,     1,     1],\n",
      "        [    0,   354,  6560,  4094,    62,     2,     1,     1,     1,     1,\n",
      "             1,     1,     1,     1,     1,     1,     1,     1,     1,     1,\n",
      "             1,     1,     1,     1,     1]])\n",
      "Batch target attention mask:  tensor([[1, 1, 1, 1, 1, 1, 1, 1, 1, 1, 0, 0, 0, 0, 0, 0, 0, 0, 0, 0, 0, 0, 0, 0,\n",
      "         0],\n",
      "        [1, 1, 1, 1, 1, 1, 1, 1, 1, 1, 1, 0, 0, 0, 0, 0, 0, 0, 0, 0, 0, 0, 0, 0,\n",
      "         0],\n",
      "        [1, 1, 1, 1, 1, 1, 1, 1, 0, 0, 0, 0, 0, 0, 0, 0, 0, 0, 0, 0, 0, 0, 0, 0,\n",
      "         0],\n",
      "        [1, 1, 1, 1, 1, 1, 0, 0, 0, 0, 0, 0, 0, 0, 0, 0, 0, 0, 0, 0, 0, 0, 0, 0,\n",
      "         0]])\n",
      "Validating train laoder...\n"
     ]
    },
    {
     "name": "stderr",
     "output_type": "stream",
     "text": [
      "100%|█████| 43611/43611 [00:42<00:00, 1031.34it/s]\n"
     ]
    },
    {
     "name": "stdout",
     "output_type": "stream",
     "text": [
      "Validation of train loader successful.\n",
      "####################################################################################################\n",
      "Val Dataloader\n",
      "Batch Size:  4\n",
      "Number of batches:  811\n",
      "Validating validation laoder...\n"
     ]
    },
    {
     "name": "stderr",
     "output_type": "stream",
     "text": [
      "100%|███████████| 811/811 [00:31<00:00, 25.86it/s]\n"
     ]
    },
    {
     "name": "stdout",
     "output_type": "stream",
     "text": [
      "Validation of validation loader successful.\n",
      "####################################################################################################\n",
      "Test Dataloader\n",
      "Batch Size:  4\n",
      "Number of batches:  1768\n",
      "Validating test laoder...\n"
     ]
    },
    {
     "name": "stderr",
     "output_type": "stream",
     "text": [
      "100%|█████████| 1768/1768 [00:31<00:00, 55.99it/s]"
     ]
    },
    {
     "name": "stdout",
     "output_type": "stream",
     "text": [
      "Validation of test loader successful.\n",
      "####################################################################################################\n",
      "CPU times: user 8.79 s, sys: 4.87 s, total: 13.7 s\n",
      "Wall time: 2min 11s\n"
     ]
    },
    {
     "name": "stderr",
     "output_type": "stream",
     "text": [
      "\n"
     ]
    }
   ],
   "source": [
    "%%time\n",
    "__data_loader__.visualize()"
   ]
  },
  {
   "cell_type": "markdown",
   "id": "f96d610c-39a2-4c44-8356-3cae031dc975",
   "metadata": {},
   "source": [
    "## Model definition"
   ]
  },
  {
   "cell_type": "code",
   "execution_count": 29,
   "id": "8af2614b-46af-45e7-8e28-dbdf007eec18",
   "metadata": {},
   "outputs": [
    {
     "data": {
      "text/plain": [
       "BartForConditionalGeneration(\n",
       "  (model): BartModel(\n",
       "    (shared): Embedding(50265, 1024, padding_idx=1)\n",
       "    (encoder): BartEncoder(\n",
       "      (embed_tokens): Embedding(50265, 1024, padding_idx=1)\n",
       "      (embed_positions): BartLearnedPositionalEmbedding(1026, 1024)\n",
       "      (layers): ModuleList(\n",
       "        (0-11): 12 x BartEncoderLayer(\n",
       "          (self_attn): BartAttention(\n",
       "            (k_proj): Linear(in_features=1024, out_features=1024, bias=True)\n",
       "            (v_proj): Linear(in_features=1024, out_features=1024, bias=True)\n",
       "            (q_proj): Linear(in_features=1024, out_features=1024, bias=True)\n",
       "            (out_proj): Linear(in_features=1024, out_features=1024, bias=True)\n",
       "          )\n",
       "          (self_attn_layer_norm): LayerNorm((1024,), eps=1e-05, elementwise_affine=True)\n",
       "          (activation_fn): GELUActivation()\n",
       "          (fc1): Linear(in_features=1024, out_features=4096, bias=True)\n",
       "          (fc2): Linear(in_features=4096, out_features=1024, bias=True)\n",
       "          (final_layer_norm): LayerNorm((1024,), eps=1e-05, elementwise_affine=True)\n",
       "        )\n",
       "      )\n",
       "      (layernorm_embedding): LayerNorm((1024,), eps=1e-05, elementwise_affine=True)\n",
       "    )\n",
       "    (decoder): BartDecoder(\n",
       "      (embed_tokens): Embedding(50265, 1024, padding_idx=1)\n",
       "      (embed_positions): BartLearnedPositionalEmbedding(1026, 1024)\n",
       "      (layers): ModuleList(\n",
       "        (0-11): 12 x BartDecoderLayer(\n",
       "          (self_attn): BartAttention(\n",
       "            (k_proj): Linear(in_features=1024, out_features=1024, bias=True)\n",
       "            (v_proj): Linear(in_features=1024, out_features=1024, bias=True)\n",
       "            (q_proj): Linear(in_features=1024, out_features=1024, bias=True)\n",
       "            (out_proj): Linear(in_features=1024, out_features=1024, bias=True)\n",
       "          )\n",
       "          (activation_fn): GELUActivation()\n",
       "          (self_attn_layer_norm): LayerNorm((1024,), eps=1e-05, elementwise_affine=True)\n",
       "          (encoder_attn): BartAttention(\n",
       "            (k_proj): Linear(in_features=1024, out_features=1024, bias=True)\n",
       "            (v_proj): Linear(in_features=1024, out_features=1024, bias=True)\n",
       "            (q_proj): Linear(in_features=1024, out_features=1024, bias=True)\n",
       "            (out_proj): Linear(in_features=1024, out_features=1024, bias=True)\n",
       "          )\n",
       "          (encoder_attn_layer_norm): LayerNorm((1024,), eps=1e-05, elementwise_affine=True)\n",
       "          (fc1): Linear(in_features=1024, out_features=4096, bias=True)\n",
       "          (fc2): Linear(in_features=4096, out_features=1024, bias=True)\n",
       "          (final_layer_norm): LayerNorm((1024,), eps=1e-05, elementwise_affine=True)\n",
       "        )\n",
       "      )\n",
       "      (layernorm_embedding): LayerNorm((1024,), eps=1e-05, elementwise_affine=True)\n",
       "    )\n",
       "  )\n",
       "  (lm_head): Linear(in_features=1024, out_features=50265, bias=False)\n",
       ")"
      ]
     },
     "execution_count": 29,
     "metadata": {},
     "output_type": "execute_result"
    }
   ],
   "source": [
    "__model__ = BartForConditionalGeneration()\n",
    "__model__.model"
   ]
  },
  {
   "cell_type": "code",
   "execution_count": 30,
   "id": "7142f901-983f-47f9-b113-e29e34cae569",
   "metadata": {},
   "outputs": [
    {
     "name": "stdout",
     "output_type": "stream",
     "text": [
      "Model has a total of 406291456 number of parameters\n",
      "Model encoder input size:  torch.Size([8, 15])\n",
      "Model decoder input size:  torch.Size([8, 18])\n",
      "Model output type:  <class 'transformers.modeling_outputs.Seq2SeqLMOutput'>\n",
      "Model output size:  torch.Size([8, 18, 50265])\n",
      "Model output:\n",
      " tensor([[[ 1.1430e+01, -1.3800e+00,  5.1728e+00,  ..., -1.7569e+00,\n",
      "          -2.3358e+00,  5.7826e+00],\n",
      "         [-2.0708e+01, -3.1234e+00,  5.2102e+00,  ..., -1.6977e+00,\n",
      "          -1.1658e+00,  4.0243e+00],\n",
      "         [-1.5470e+01, -3.1732e+00,  1.2642e+00,  ..., -3.2186e+00,\n",
      "          -3.1851e+00,  1.1097e+00],\n",
      "         ...,\n",
      "         [-1.0355e+00, -3.3531e+00,  1.7390e+00,  ..., -3.0118e+00,\n",
      "          -3.0561e+00,  5.9904e-01],\n",
      "         [-1.5965e+00, -2.9003e+00,  2.0379e+00,  ..., -1.9576e+00,\n",
      "          -2.7434e+00, -4.6175e-01],\n",
      "         [-1.5275e+00, -3.5317e+00,  1.4155e+00,  ..., -3.4971e+00,\n",
      "          -3.3030e+00, -2.0949e-01]],\n",
      "\n",
      "        [[ 1.1569e+01, -1.5596e+00,  5.9848e+00,  ..., -1.4894e-02,\n",
      "          -2.2637e-01,  4.8730e+00],\n",
      "         [-8.2045e+00, -2.9856e+00,  6.2235e+00,  ..., -1.0420e+00,\n",
      "          -1.2685e+00,  4.1235e-01],\n",
      "         [-1.0638e+01, -2.8630e+00,  4.1277e+00,  ..., -6.2985e-01,\n",
      "          -1.6432e+00,  9.8038e-01],\n",
      "         ...,\n",
      "         [-1.6586e+01, -1.6044e+00,  9.3741e+00,  ..., -3.8219e+00,\n",
      "          -3.7127e+00,  1.4606e+00],\n",
      "         [-9.7210e+00, -2.6969e+00,  4.1555e+00,  ..., -8.2399e-01,\n",
      "          -1.0322e+00,  7.4831e-01],\n",
      "         [-3.6729e+00, -2.5602e+00,  5.5853e+00,  ..., -5.8672e-01,\n",
      "          -1.6489e+00,  1.2278e+00]],\n",
      "\n",
      "        [[ 1.3911e+01, -1.6654e+00,  5.5802e+00,  ..., -1.3704e+00,\n",
      "          -2.1723e+00,  3.1749e+00],\n",
      "         [-1.1221e+01, -2.0726e+00,  7.1498e+00,  ..., -5.7530e-01,\n",
      "          -1.8928e-01,  2.5072e+00],\n",
      "         [-1.4090e+01, -2.9991e+00,  3.7905e+00,  ..., -1.4569e+00,\n",
      "          -2.2198e+00, -5.6578e-02],\n",
      "         ...,\n",
      "         [-6.4355e+00, -2.9672e+00,  3.9135e+00,  ..., -2.2481e+00,\n",
      "          -3.5078e+00, -8.3672e-01],\n",
      "         [-9.7993e+00, -2.8412e+00,  3.5430e+00,  ..., -2.1886e+00,\n",
      "          -3.1556e+00, -6.5995e-01],\n",
      "         [-8.9825e+00, -2.7759e+00,  7.2414e+00,  ..., -1.6387e+00,\n",
      "          -3.4848e+00,  1.5850e+00]],\n",
      "\n",
      "        ...,\n",
      "\n",
      "        [[ 1.7039e+01, -9.9332e-01,  8.8700e+00,  ...,  1.0150e+00,\n",
      "           1.3277e+00,  4.6321e+00],\n",
      "         [-9.2264e+00, -2.6169e+00,  5.9913e+00,  ..., -2.0339e+00,\n",
      "          -1.3245e+00,  1.5755e+00],\n",
      "         [-3.6143e+00, -3.0650e+00,  5.3258e+00,  ..., -2.0277e+00,\n",
      "          -2.1788e+00,  1.4336e-01],\n",
      "         ...,\n",
      "         [-6.5158e+00, -3.6115e+00,  1.1187e+01,  ..., -4.1182e+00,\n",
      "          -4.7386e+00,  3.9919e+00],\n",
      "         [-2.5885e+00, -3.1697e+00,  5.8347e+00,  ..., -2.7104e+00,\n",
      "          -2.5962e+00,  3.1251e-01],\n",
      "         [-6.3448e+00, -3.2608e+00,  1.0804e+01,  ..., -3.8446e+00,\n",
      "          -4.2311e+00,  2.4232e+00]],\n",
      "\n",
      "        [[ 1.7760e+01, -1.5259e+00,  6.3879e+00,  ...,  3.0724e-02,\n",
      "          -6.4533e-02,  3.3296e+00],\n",
      "         [-2.5076e+01, -2.4188e+00,  6.9579e+00,  ..., -6.3658e-01,\n",
      "           5.1276e-01,  2.0779e-02],\n",
      "         [-2.0713e+01, -2.8977e+00,  6.9577e+00,  ..., -2.0569e+00,\n",
      "          -2.5158e+00, -1.5470e+00],\n",
      "         ...,\n",
      "         [-2.1971e+01, -1.5006e+00,  5.5907e+00,  ...,  2.0837e+00,\n",
      "           1.8659e+00,  1.8134e+00],\n",
      "         [-1.2235e+01, -2.9489e+00,  4.5926e+00,  ..., -1.2693e+00,\n",
      "          -1.6990e+00, -1.9262e+00],\n",
      "         [-9.4998e+00, -3.0147e+00,  4.9836e+00,  ..., -1.4539e+00,\n",
      "          -1.7416e+00, -2.1373e+00]],\n",
      "\n",
      "        [[ 1.4669e+01, -1.9111e+00,  4.3386e+00,  ..., -1.8843e+00,\n",
      "          -1.7558e+00,  3.0912e+00],\n",
      "         [-2.6581e+01, -2.6996e+00,  5.1667e+00,  ..., -7.6925e-01,\n",
      "          -2.5718e-01, -1.2070e+00],\n",
      "         [-1.5299e+01, -2.8925e+00,  5.8284e+00,  ..., -2.5476e+00,\n",
      "          -2.8733e+00, -2.9367e-01],\n",
      "         ...,\n",
      "         [-2.4631e+01, -1.7686e+00,  5.8492e+00,  ...,  3.4354e-01,\n",
      "          -7.3809e-01,  1.6888e+01],\n",
      "         [-2.2450e+01, -1.6727e+00,  6.4436e+00,  ...,  5.4755e-01,\n",
      "          -5.3999e-01,  1.7650e+01],\n",
      "         [-7.1816e+00, -1.5083e+00,  4.9900e+00,  ..., -5.2895e-01,\n",
      "           1.0966e-01,  6.9920e+00]]], grad_fn=<AddBackward0>)\n"
     ]
    }
   ],
   "source": [
    "__batch_size__ = 8\n",
    "__en_seq_length__ = random.randint(13, 23)\n",
    "__de_seq_length__ = random.randint(13, 23)\n",
    "__encoder_input__ = torch.randint(low=0, high=hi_en_bart_tokenizer.vocab_size, size=(__batch_size__, __en_seq_length__))\n",
    "__decoder_input__ = torch.randint(low=0, high=en_bart_tokenizer.vocab_size, size=(__batch_size__, __de_seq_length__))\n",
    "__encoder_input__ = __encoder_input__.to(MBART_MODEL_CONDITIONAL_GENERATION_DEVICE)\n",
    "__decoder_input__ = __decoder_input__.to(MBART_MODEL_CONDITIONAL_GENERATION_DEVICE)\n",
    "__out__ = __model__.model(input_ids=__encoder_input__, decoder_input_ids=__decoder_input__, return_dict=True)\n",
    "print(f\"Model has a total of {__model__.model.num_parameters()} number of parameters\")\n",
    "print(\"Model encoder input size: \", __encoder_input__.size())\n",
    "print(\"Model decoder input size: \", __decoder_input__.size())\n",
    "print(\"Model output type: \", type(__out__))\n",
    "print(\"Model output size: \", __out__.logits.size())\n",
    "print(\"Model output:\\n\", __out__.logits)"
   ]
  },
  {
   "cell_type": "markdown",
   "id": "bb6ce641-5ae2-449e-82cc-275bad2b07e0",
   "metadata": {},
   "source": [
    "## Model Training"
   ]
  },
  {
   "cell_type": "code",
   "execution_count": 31,
   "id": "a9a30ba9",
   "metadata": {},
   "outputs": [],
   "source": [
    "# Get the tokenized dataset\n",
    "dataset = get_tokenized_dataset_models(\n",
    "    train_df=train_df,\n",
    "    validation_df=validation_df,\n",
    "    test_df=test_df,\n",
    "    encoder_tokenizer=hi_en_bart_tokenizer,\n",
    "    decoder_tokenizer=en_bart_tokenizer\n",
    ")\n",
    "train_dataset, validation_dataset, test_dataset = dataset[MBART_DATALOADER_TRANSLATION_MODE].values()"
   ]
  },
  {
   "cell_type": "code",
   "execution_count": 32,
   "id": "58d22ea7",
   "metadata": {},
   "outputs": [
    {
     "name": "stdout",
     "output_type": "stream",
     "text": [
      "Getting the model...\n",
      "\n",
      "Configuring optimizer and scheduler...\n",
      "\n",
      "Configuring collator...\n",
      "\n",
      "Configuring trainer...\n",
      "\n",
      "Configuring training arguments...\n"
     ]
    }
   ],
   "source": [
    "# Initalize the model\n",
    "mt_hg_model = CodeMixedModelHGTrainer(\n",
    "    train_dataset = train_dataset,\n",
    "    validation_dataset = validation_dataset,\n",
    "    test_dataset = test_dataset,\n",
    "    encoder_tokenizer=hi_en_bart_tokenizer,\n",
    "    decoder_tokenizer=en_bart_tokenizer\n",
    ")"
   ]
  },
  {
   "cell_type": "code",
   "execution_count": 33,
   "id": "dfa0fb07-2bc5-4770-b67e-c7ba857bd8f8",
   "metadata": {},
   "outputs": [
    {
     "name": "stdout",
     "output_type": "stream",
     "text": [
      "\n",
      "Validating the model...\n"
     ]
    },
    {
     "data": {
      "text/html": [
       "\n",
       "    <div>\n",
       "      \n",
       "      <progress value='102' max='102' style='width:300px; height:20px; vertical-align: middle;'></progress>\n",
       "      [102/102 00:17]\n",
       "    </div>\n",
       "    "
      ],
      "text/plain": [
       "<IPython.core.display.HTML object>"
      ]
     },
     "metadata": {},
     "output_type": "display_data"
    },
    {
     "name": "stderr",
     "output_type": "stream",
     "text": [
      "Evaluting validation data:   0%| | 0/102 [00:00<?,Some weights of RobertaModel were not initialized from the model checkpoint at roberta-large and are newly initialized: ['roberta.pooler.dense.bias', 'roberta.pooler.dense.weight']\n",
      "You should probably TRAIN this model on a down-stream task to be able to use it for predictions and inference.\n",
      "Evaluting validation data: 100%|█| 102/102 [16:09<"
     ]
    },
    {
     "name": "stdout",
     "output_type": "stream",
     "text": [
      "***** validation metrics *****\n",
      "  bert_score_f1        = 0.9322406665576413\n",
      "  bert_score_precision =  0.932659924656166\n",
      "  bert_score_recall    = 0.9320171836551125\n",
      "  chrf_score           =            56.6586\n",
      "  sacrebleu_score      =            34.5518\n",
      "  validation_samples   =               3243\n",
      "CPU times: user 24min 18s, sys: 10min 42s, total: 35min\n",
      "Wall time: 16min 31s\n"
     ]
    },
    {
     "name": "stderr",
     "output_type": "stream",
     "text": [
      "\n"
     ]
    }
   ],
   "source": [
    "%%time\n",
    "# Train the model, skip during submission time.\n",
    "mt_hg_model.fit(skip_training=True)"
   ]
  },
  {
   "cell_type": "code",
   "execution_count": 34,
   "id": "d06d2a82-41f3-4842-8ff6-e5d077359ced",
   "metadata": {
    "scrolled": true
   },
   "outputs": [
    {
     "name": "stdout",
     "output_type": "stream",
     "text": [
      "Loading the model...\n",
      "\n",
      "Generating translations...\n",
      "\n"
     ]
    },
    {
     "name": "stderr",
     "output_type": "stream",
     "text": [
      "Evaluating test data: 100%|█| 221/221 [34:43<00:00"
     ]
    },
    {
     "name": "stdout",
     "output_type": "stream",
     "text": [
      "SacreBLEU score: 50.39604085424078\n",
      "CHRF score: 70.40279194217455\n",
      "BERT score - Precision: 0.957356490211654\n",
      "BERT score - Recall: 0.9575719921027913\n",
      "BERT score - F1: 0.9574025283689818\n",
      "CPU times: user 50min 52s, sys: 22min 47s, total: 1h 13min 40s\n",
      "Wall time: 34min 48s\n"
     ]
    },
    {
     "name": "stderr",
     "output_type": "stream",
     "text": [
      "\n"
     ]
    }
   ],
   "source": [
    "%%time\n",
    "# Evaluate model on test data\n",
    "mt_hg_model.predict(model_path=MBART_MODEL_CONDITIONAL_GENERATION_RESUME_FROM_CHECKPOINT)"
   ]
  },
  {
   "cell_type": "code",
   "execution_count": 39,
   "id": "6c54448d-d557-4430-9b84-8e0d14263b09",
   "metadata": {},
   "outputs": [
    {
     "name": "stdout",
     "output_type": "stream",
     "text": [
      "Loading the model...\n",
      "\n",
      "Generating translation for the source string...\n",
      "\n",
      "Source string:  film ka kya name hai?\n",
      "Translated string:  tensor([[    2,     0, 12196,    16,     5,   766,     9,     5,  1569,   116,\n",
      "             2]])\n",
      "\n",
      "SRC: film ka kya name hai?\n",
      "TGT: what is the name of the movie?\n"
     ]
    }
   ],
   "source": [
    "# Run inference\n",
    "src = \"film ka kya name hai?\"\n",
    "print(f\"\\nSRC: {src}\\nTGT: {mt_hg_model.infer(model_path=MBART_MODEL_CONDITIONAL_GENERATION_RESUME_FROM_CHECKPOINT, src=src)}\")"
   ]
  },
  {
   "cell_type": "code",
   "execution_count": 38,
   "id": "4ae3fa12-54c9-44eb-81fc-efe283ac371e",
   "metadata": {},
   "outputs": [
    {
     "name": "stderr",
     "output_type": "stream",
     "text": [
      "Getting translation for the data: 100%|█| 221/221 "
     ]
    },
    {
     "name": "stdout",
     "output_type": "stream",
     "text": [
      "CPU times: user 40min 29s, sys: 19min 44s, total: 1h 14s\n",
      "Wall time: 30min 7s\n"
     ]
    },
    {
     "name": "stderr",
     "output_type": "stream",
     "text": [
      "\n"
     ]
    },
    {
     "data": {
      "text/html": [
       "<div>\n",
       "<style scoped>\n",
       "    .dataframe tbody tr th:only-of-type {\n",
       "        vertical-align: middle;\n",
       "    }\n",
       "\n",
       "    .dataframe tbody tr th {\n",
       "        vertical-align: top;\n",
       "    }\n",
       "\n",
       "    .dataframe thead th {\n",
       "        text-align: right;\n",
       "    }\n",
       "</style>\n",
       "<table border=\"1\" class=\"dataframe\">\n",
       "  <thead>\n",
       "    <tr style=\"text-align: right;\">\n",
       "      <th></th>\n",
       "      <th>hi_en</th>\n",
       "      <th>en</th>\n",
       "      <th>source</th>\n",
       "      <th>translations</th>\n",
       "    </tr>\n",
       "  </thead>\n",
       "  <tbody>\n",
       "    <tr>\n",
       "      <th>0</th>\n",
       "      <td>oye ledki kitni mazakiya movie dekh rhi ho ?</td>\n",
       "      <td>ah mean girls. such a funny movie. have you se...</td>\n",
       "      <td>cmu_hinglish_dog</td>\n",
       "      <td>how many times do you see this movie on your t...</td>\n",
       "    </tr>\n",
       "    <tr>\n",
       "      <th>1</th>\n",
       "      <td>ha muje bhi hassi mazak ki movies pasand par y...</td>\n",
       "      <td>yeah, even though i love comedies, this wasn't...</td>\n",
       "      <td>cmu_hinglish_dog</td>\n",
       "      <td>yeah i also have a hard time with movies that ...</td>\n",
       "    </tr>\n",
       "    <tr>\n",
       "      <th>2</th>\n",
       "      <td>kese tina ka jhuti writing isme achi the usne ...</td>\n",
       "      <td>how come. thought tina fey's writing was fanta...</td>\n",
       "      <td>cmu_hinglish_dog</td>\n",
       "      <td>the new turing novel has a pretty unique writi...</td>\n",
       "    </tr>\n",
       "    <tr>\n",
       "      <th>3</th>\n",
       "      <td>muje kahani bhute achi lagi aur unhone ise dac...</td>\n",
       "      <td>i loved the story &amp; how true they made it in h...</td>\n",
       "      <td>cmu_hinglish_dog</td>\n",
       "      <td>i really liked the story and how they tried to...</td>\n",
       "    </tr>\n",
       "    <tr>\n",
       "      <th>4</th>\n",
       "      <td>ab samja muje nhi pta tha ki aap sahi admi hai...</td>\n",
       "      <td>i see. i didn't realize it was 14 years ago. y...</td>\n",
       "      <td>cmu_hinglish_dog</td>\n",
       "      <td>now that i think about it, i'm not sure you co...</td>\n",
       "    </tr>\n",
       "    <tr>\n",
       "      <th>...</th>\n",
       "      <td>...</td>\n",
       "      <td>...</td>\n",
       "      <td>...</td>\n",
       "      <td>...</td>\n",
       "    </tr>\n",
       "    <tr>\n",
       "      <th>7067</th>\n",
       "      <td>alarm ko abhi stop kare</td>\n",
       "      <td>stop alarm now</td>\n",
       "      <td>top</td>\n",
       "      <td>stop the alarm now</td>\n",
       "    </tr>\n",
       "    <tr>\n",
       "      <th>7068</th>\n",
       "      <td>har ghante ke liye alarm set kare</td>\n",
       "      <td>set alarm every hour</td>\n",
       "      <td>top</td>\n",
       "      <td>set an alarm for every hour</td>\n",
       "    </tr>\n",
       "    <tr>\n",
       "      <th>7069</th>\n",
       "      <td>bobby ko text kare</td>\n",
       "      <td>text bobby</td>\n",
       "      <td>top</td>\n",
       "      <td>text bobby.</td>\n",
       "    </tr>\n",
       "    <tr>\n",
       "      <th>7070</th>\n",
       "      <td>muje shaam 6 baje laundry ko pick up karne ke ...</td>\n",
       "      <td>remind me to pick up laundry at 6 pm</td>\n",
       "      <td>top</td>\n",
       "      <td>remind me to pick up laundry at 6 pm</td>\n",
       "    </tr>\n",
       "    <tr>\n",
       "      <th>7071</th>\n",
       "      <td>kya aap muje har subah 6 baje apne baccho ko j...</td>\n",
       "      <td>can you remind me to wake my kids up every mor...</td>\n",
       "      <td>top</td>\n",
       "      <td>can you remind me to feed my kids every mornin...</td>\n",
       "    </tr>\n",
       "  </tbody>\n",
       "</table>\n",
       "<p>7072 rows × 4 columns</p>\n",
       "</div>"
      ],
      "text/plain": [
       "                                                  hi_en  \\\n",
       "0          oye ledki kitni mazakiya movie dekh rhi ho ?   \n",
       "1     ha muje bhi hassi mazak ki movies pasand par y...   \n",
       "2     kese tina ka jhuti writing isme achi the usne ...   \n",
       "3     muje kahani bhute achi lagi aur unhone ise dac...   \n",
       "4     ab samja muje nhi pta tha ki aap sahi admi hai...   \n",
       "...                                                 ...   \n",
       "7067                            alarm ko abhi stop kare   \n",
       "7068                  har ghante ke liye alarm set kare   \n",
       "7069                                 bobby ko text kare   \n",
       "7070  muje shaam 6 baje laundry ko pick up karne ke ...   \n",
       "7071  kya aap muje har subah 6 baje apne baccho ko j...   \n",
       "\n",
       "                                                     en            source  \\\n",
       "0     ah mean girls. such a funny movie. have you se...  cmu_hinglish_dog   \n",
       "1     yeah, even though i love comedies, this wasn't...  cmu_hinglish_dog   \n",
       "2     how come. thought tina fey's writing was fanta...  cmu_hinglish_dog   \n",
       "3     i loved the story & how true they made it in h...  cmu_hinglish_dog   \n",
       "4     i see. i didn't realize it was 14 years ago. y...  cmu_hinglish_dog   \n",
       "...                                                 ...               ...   \n",
       "7067                                     stop alarm now               top   \n",
       "7068                               set alarm every hour               top   \n",
       "7069                                         text bobby               top   \n",
       "7070               remind me to pick up laundry at 6 pm               top   \n",
       "7071  can you remind me to wake my kids up every mor...               top   \n",
       "\n",
       "                                           translations  \n",
       "0     how many times do you see this movie on your t...  \n",
       "1     yeah i also have a hard time with movies that ...  \n",
       "2     the new turing novel has a pretty unique writi...  \n",
       "3     i really liked the story and how they tried to...  \n",
       "4     now that i think about it, i'm not sure you co...  \n",
       "...                                                 ...  \n",
       "7067                                 stop the alarm now  \n",
       "7068                        set an alarm for every hour  \n",
       "7069                                        text bobby.  \n",
       "7070               remind me to pick up laundry at 6 pm  \n",
       "7071  can you remind me to feed my kids every mornin...  \n",
       "\n",
       "[7072 rows x 4 columns]"
      ]
     },
     "execution_count": 38,
     "metadata": {},
     "output_type": "execute_result"
    }
   ],
   "source": [
    "%%time\n",
    "# Generate translations for the test data\n",
    "translated_df = translate(\n",
    "    data=test_df,\n",
    "    encoder_tokenizer=hi_en_bart_tokenizer,\n",
    "    decoder_tokenizer=en_bart_tokenizer\n",
    ")\n",
    "translated_df"
   ]
  },
  {
   "cell_type": "code",
   "execution_count": 40,
   "id": "b4d5aeec-c8cc-48b3-8210-4ce8fa2b0b43",
   "metadata": {},
   "outputs": [
    {
     "name": "stderr",
     "output_type": "stream",
     "text": [
      "Some weights of RobertaModel were not initialized from the model checkpoint at roberta-large and are newly initialized: ['roberta.pooler.dense.bias', 'roberta.pooler.dense.weight']\n",
      "You should probably TRAIN this model on a down-stream task to be able to use it for predictions and inference.\n",
      "Some weights of RobertaModel were not initialized from the model checkpoint at roberta-large and are newly initialized: ['roberta.pooler.dense.bias', 'roberta.pooler.dense.weight']\n",
      "You should probably TRAIN this model on a down-stream task to be able to use it for predictions and inference.\n",
      "Some weights of RobertaModel were not initialized from the model checkpoint at roberta-large and are newly initialized: ['roberta.pooler.dense.bias', 'roberta.pooler.dense.weight']\n",
      "You should probably TRAIN this model on a down-stream task to be able to use it for predictions and inference.\n"
     ]
    },
    {
     "name": "stdout",
     "output_type": "stream",
     "text": [
      "CPU times: user 7min 17s, sys: 1min 13s, total: 8min 30s\n",
      "Wall time: 3min 43s\n"
     ]
    }
   ],
   "source": [
    "%%time\n",
    "# Calculate metrics for these translations\n",
    "bleu_scores = translated_df.groupby('source').apply(calculate_sacrebleu_score)\n",
    "o_bleu_scores = calculate_sacrebleu_score(translated_df)\n",
    "chrf_scores = translated_df.groupby('source').apply(calculate_chrf_score)\n",
    "o_chrf_scores = calculate_chrf_score(translated_df)\n",
    "bert_scores = translated_df.groupby('source').apply(calculate_bert_score)\n",
    "o_bert_scores = calculate_bert_score(translated_df)"
   ]
  },
  {
   "cell_type": "code",
   "execution_count": 42,
   "id": "1b2c0d1d-3a5f-4896-be47-633726abfcfe",
   "metadata": {},
   "outputs": [
    {
     "data": {
      "text/html": [
       "<div>\n",
       "<style scoped>\n",
       "    .dataframe tbody tr th:only-of-type {\n",
       "        vertical-align: middle;\n",
       "    }\n",
       "\n",
       "    .dataframe tbody tr th {\n",
       "        vertical-align: top;\n",
       "    }\n",
       "\n",
       "    .dataframe thead th {\n",
       "        text-align: right;\n",
       "    }\n",
       "</style>\n",
       "<table border=\"1\" class=\"dataframe\">\n",
       "  <thead>\n",
       "    <tr style=\"text-align: right;\">\n",
       "      <th></th>\n",
       "      <th>SacreBERT Score</th>\n",
       "      <th>ChrF Score</th>\n",
       "      <th>BERTScore-Precision</th>\n",
       "      <th>BERTScore-Recall</th>\n",
       "      <th>BERTScore-F1</th>\n",
       "    </tr>\n",
       "    <tr>\n",
       "      <th>source</th>\n",
       "      <th></th>\n",
       "      <th></th>\n",
       "      <th></th>\n",
       "      <th></th>\n",
       "      <th></th>\n",
       "    </tr>\n",
       "  </thead>\n",
       "  <tbody>\n",
       "    <tr>\n",
       "      <th>cmu_hinglish_dog</th>\n",
       "      <td>15.087430</td>\n",
       "      <td>33.217919</td>\n",
       "      <td>0.904818</td>\n",
       "      <td>0.898060</td>\n",
       "      <td>0.901277</td>\n",
       "    </tr>\n",
       "    <tr>\n",
       "      <th>top</th>\n",
       "      <td>58.648575</td>\n",
       "      <td>76.296580</td>\n",
       "      <td>0.961932</td>\n",
       "      <td>0.957228</td>\n",
       "      <td>0.959495</td>\n",
       "    </tr>\n",
       "  </tbody>\n",
       "</table>\n",
       "</div>"
      ],
      "text/plain": [
       "                  SacreBERT Score  ChrF Score  BERTScore-Precision  \\\n",
       "source                                                               \n",
       "cmu_hinglish_dog        15.087430   33.217919             0.904818   \n",
       "top                     58.648575   76.296580             0.961932   \n",
       "\n",
       "                  BERTScore-Recall  BERTScore-F1  \n",
       "source                                            \n",
       "cmu_hinglish_dog          0.898060      0.901277  \n",
       "top                       0.957228      0.959495  "
      ]
     },
     "execution_count": 42,
     "metadata": {},
     "output_type": "execute_result"
    }
   ],
   "source": [
    "# Visualize results, grouped by data source\n",
    "res = pd.concat([bleu_scores, chrf_scores, bert_scores], axis=1)\n",
    "res.columns = [\"SacreBERT Score\", \"ChrF Score\", \"BERT Score\"]\n",
    "res[[\"BERTScore-Precision\", \"BERTScore-Recall\", \"BERTScore-F1\"]] = res[\"BERT Score\"].apply(pd.Series)\n",
    "res.drop(\"BERT Score\", axis=1, inplace=True)\n",
    "res"
   ]
  },
  {
   "cell_type": "code",
   "execution_count": 43,
   "id": "fef2beba-74a7-49ec-a152-cf9eb07fa943",
   "metadata": {},
   "outputs": [
    {
     "name": "stdout",
     "output_type": "stream",
     "text": [
      "Overall score on our test data by our model:\n",
      "\n",
      "SacreBLEU Score: 50.37833694526229\n",
      "ChrF Score: 68.44914629567602\n",
      "BERTScore-Precision: 0.9547688149472032\n",
      "BERTScore-Recall: 0.9498065320260789\n",
      "BERTScore-F1: 0.9521926869027215\n"
     ]
    }
   ],
   "source": [
    "# Overall results\n",
    "print(f\"Overall score on our test data by our model:\\n\\nSacreBLEU Score: {o_bleu_scores}\\nChrF Score: {o_chrf_scores}\\nBERTScore-Precision: {o_bert_scores[0]}\\nBERTScore-Recall: {o_bert_scores[1]}\\nBERTScore-F1: {o_bert_scores[2]}\")"
   ]
  },
  {
   "cell_type": "code",
   "execution_count": 52,
   "id": "5d5ca06f-a267-4ff4-91a3-f64abf965b33",
   "metadata": {},
   "outputs": [
    {
     "name": "stdout",
     "output_type": "stream",
     "text": [
      "\n",
      "SRC: miami se west palm tak kitni der lagegi\n",
      "TGT: how long will it take from miami to west palm\n",
      "\n",
      "SRC: Kab melige coffee mujhe?\n",
      "TGT: okay, will you give me a fresh coffee?\n",
      "\n",
      "SRC: kya aap kal ke liye mera alarm set kar sakte he\n",
      "TGT: can you set my alarm for tomorrow\n",
      "\n",
      "SRC: kya mujhe forecast milsakta hai please ?\n",
      "TGT: can i have the forecast please?\n",
      "\n",
      "SRC: kitna time lega?me tumse pyaar kartha hu\n",
      "TGT: how much time has passed? i love you\n"
     ]
    }
   ],
   "source": [
    "samples = [\n",
    "    \"miami se west palm tak kitni der lagegi\",\n",
    "    \"Kab melige coffee mujhe?\",\n",
    "    \"kya aap kal ke liye mera alarm set kar sakte he\",\n",
    "    \"kya mujhe forecast milsakta hai please ?\",\n",
    "    \"kitna time lega?\"\n",
    "    \"me tumse pyaar kartha hu\"\n",
    "]\n",
    "for sample in samples:\n",
    "    print(f\"\\nSRC: {sample}\\nTGT: {mt_hg_model.infer(model_path=MBART_MODEL_CONDITIONAL_GENERATION_RESUME_FROM_CHECKPOINT, src=sample, need_print=False)}\")"
   ]
  }
 ],
 "metadata": {
  "kernelspec": {
   "display_name": "Python 3 (ipykernel)",
   "language": "python",
   "name": "python3"
  },
  "language_info": {
   "codemirror_mode": {
    "name": "ipython",
    "version": 3
   },
   "file_extension": ".py",
   "mimetype": "text/x-python",
   "name": "python",
   "nbconvert_exporter": "python",
   "pygments_lexer": "ipython3",
   "version": "3.9.18"
  }
 },
 "nbformat": 4,
 "nbformat_minor": 5
}

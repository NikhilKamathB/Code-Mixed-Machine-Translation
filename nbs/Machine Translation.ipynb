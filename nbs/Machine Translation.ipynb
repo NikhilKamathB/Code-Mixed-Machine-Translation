{
 "cells": [
  {
   "cell_type": "markdown",
   "id": "a797b411-ba32-4a49-8254-fd3b57caf76c",
   "metadata": {},
   "source": [
    "## Importing libraries and modules"
   ]
  },
  {
   "cell_type": "code",
   "execution_count": 1,
   "id": "1bd2df09-6a25-4686-b1ff-392d729c4030",
   "metadata": {},
   "outputs": [],
   "source": [
    "# Enable auto-reload\n",
    "%load_ext autoreload\n",
    "%autoreload 2"
   ]
  },
  {
   "cell_type": "code",
   "execution_count": 2,
   "id": "ddc02188-33e9-4af6-877e-7b343c69de5f",
   "metadata": {},
   "outputs": [],
   "source": [
    "# Suppress warnings\n",
    "import warnings\n",
    "warnings.filterwarnings(\"ignore\")\n",
    "\n",
    "# Add one level up directory to the path\n",
    "import sys\n",
    "sys.path.append(\"..\")\n",
    "\n",
    "# Import libraries\n",
    "import torch\n",
    "import random\n",
    "\n",
    "# Import custom modules\n",
    "from src.data import *\n",
    "from src.data.utils import get_dataset\n",
    "from src.data.preprocess import clean_text\n",
    "from src.data.tokenizer import CustomBartTokenizer\n",
    "from src.machine_translation.utils import get_data_loader_models\n",
    "from src.machine_translation.models.bart_conditional import BartForConditionalGeneration"
   ]
  },
  {
   "cell_type": "markdown",
   "id": "7afb9724-cdf5-458c-9ba9-854da0b39806",
   "metadata": {},
   "source": [
    "## Data acquisition, cleaning and processing"
   ]
  },
  {
   "cell_type": "code",
   "execution_count": 3,
   "id": "c22ec356-0bbb-4f7b-8aa7-b7d5d7ba8879",
   "metadata": {},
   "outputs": [
    {
     "name": "stdout",
     "output_type": "stream",
     "text": [
      "CPU times: user 4.31 s, sys: 156 ms, total: 4.47 s\n",
      "Wall time: 7.43 s\n"
     ]
    }
   ],
   "source": [
    "%%time\n",
    "train_df, validation_df, test_df = get_dataset()"
   ]
  },
  {
   "cell_type": "code",
   "execution_count": 4,
   "id": "d51e7d88-8c0b-4417-a25c-426591eb691f",
   "metadata": {},
   "outputs": [
    {
     "name": "stdout",
     "output_type": "stream",
     "text": [
      "<class 'pandas.core.series.Series'>\n",
      "Index: 174443 entries, 0 to 8059\n",
      "Series name: en\n",
      "Non-Null Count   Dtype \n",
      "--------------   ----- \n",
      "174443 non-null  object\n",
      "dtypes: object(1)\n",
      "memory usage: 2.7+ MB\n"
     ]
    }
   ],
   "source": [
    "train_df.en.info()"
   ]
  },
  {
   "cell_type": "code",
   "execution_count": 5,
   "id": "65e76ede-e303-4558-8f66-810de6ef9330",
   "metadata": {},
   "outputs": [
    {
     "data": {
      "text/html": [
       "<div>\n",
       "<style scoped>\n",
       "    .dataframe tbody tr th:only-of-type {\n",
       "        vertical-align: middle;\n",
       "    }\n",
       "\n",
       "    .dataframe tbody tr th {\n",
       "        vertical-align: top;\n",
       "    }\n",
       "\n",
       "    .dataframe thead th {\n",
       "        text-align: right;\n",
       "    }\n",
       "</style>\n",
       "<table border=\"1\" class=\"dataframe\">\n",
       "  <thead>\n",
       "    <tr style=\"text-align: right;\">\n",
       "      <th></th>\n",
       "      <th>hi_en</th>\n",
       "      <th>en</th>\n",
       "    </tr>\n",
       "  </thead>\n",
       "  <tbody>\n",
       "    <tr>\n",
       "      <th>0</th>\n",
       "      <td>film ka kya naam hai</td>\n",
       "      <td>What's the name of the movie</td>\n",
       "    </tr>\n",
       "    <tr>\n",
       "      <th>1</th>\n",
       "      <td>namaste, sada hua tomatoes score mahaan hai, l...</td>\n",
       "      <td>Hi, the rotten tomatoes score is great but the...</td>\n",
       "    </tr>\n",
       "    <tr>\n",
       "      <th>2</th>\n",
       "      <td>kya aapako lagata hai ki aapako film pasand aa...</td>\n",
       "      <td>Do you think you will like the movie</td>\n",
       "    </tr>\n",
       "    <tr>\n",
       "      <th>3</th>\n",
       "      <td>yah kis tarah kee philm hai</td>\n",
       "      <td>What kind of movie is it</td>\n",
       "    </tr>\n",
       "    <tr>\n",
       "      <th>4</th>\n",
       "      <td>film  kab banee thee?</td>\n",
       "      <td>when was the movie made?</td>\n",
       "    </tr>\n",
       "    <tr>\n",
       "      <th>...</th>\n",
       "      <td>...</td>\n",
       "      <td>...</td>\n",
       "    </tr>\n",
       "    <tr>\n",
       "      <th>8055</th>\n",
       "      <td>Thik hai\\n</td>\n",
       "      <td>Ok.</td>\n",
       "    </tr>\n",
       "    <tr>\n",
       "      <th>8056</th>\n",
       "      <td>Thik hai bhai\\n</td>\n",
       "      <td>ok bro</td>\n",
       "    </tr>\n",
       "    <tr>\n",
       "      <th>8057</th>\n",
       "      <td>Kya ham chalu kar sakte hai?\\n</td>\n",
       "      <td>shall we continue?</td>\n",
       "    </tr>\n",
       "    <tr>\n",
       "      <th>8058</th>\n",
       "      <td>Kya aapko pasand hai hamare saath\\n</td>\n",
       "      <td>do you like we can</td>\n",
       "    </tr>\n",
       "    <tr>\n",
       "      <th>8059</th>\n",
       "      <td>Haa mere pass pandrah thanks hai\\n</td>\n",
       "      <td>Yeah I have fifteen thanks.</td>\n",
       "    </tr>\n",
       "  </tbody>\n",
       "</table>\n",
       "<p>174443 rows × 2 columns</p>\n",
       "</div>"
      ],
      "text/plain": [
       "                                                  hi_en  \\\n",
       "0                                  film ka kya naam hai   \n",
       "1     namaste, sada hua tomatoes score mahaan hai, l...   \n",
       "2     kya aapako lagata hai ki aapako film pasand aa...   \n",
       "3                           yah kis tarah kee philm hai   \n",
       "4                                 film  kab banee thee?   \n",
       "...                                                 ...   \n",
       "8055                                         Thik hai\\n   \n",
       "8056                                    Thik hai bhai\\n   \n",
       "8057                     Kya ham chalu kar sakte hai?\\n   \n",
       "8058                Kya aapko pasand hai hamare saath\\n   \n",
       "8059                 Haa mere pass pandrah thanks hai\\n   \n",
       "\n",
       "                                                     en  \n",
       "0                          What's the name of the movie  \n",
       "1     Hi, the rotten tomatoes score is great but the...  \n",
       "2                  Do you think you will like the movie  \n",
       "3                              What kind of movie is it  \n",
       "4                              when was the movie made?  \n",
       "...                                                 ...  \n",
       "8055                                                Ok.  \n",
       "8056                                             ok bro  \n",
       "8057                                 shall we continue?  \n",
       "8058                                 do you like we can  \n",
       "8059                        Yeah I have fifteen thanks.  \n",
       "\n",
       "[174443 rows x 2 columns]"
      ]
     },
     "execution_count": 5,
     "metadata": {},
     "output_type": "execute_result"
    }
   ],
   "source": [
    "train_df"
   ]
  },
  {
   "cell_type": "code",
   "execution_count": 6,
   "id": "b4136fec-19ad-4643-83c6-3301a0388e2f",
   "metadata": {},
   "outputs": [
    {
     "data": {
      "text/html": [
       "<div>\n",
       "<style scoped>\n",
       "    .dataframe tbody tr th:only-of-type {\n",
       "        vertical-align: middle;\n",
       "    }\n",
       "\n",
       "    .dataframe tbody tr th {\n",
       "        vertical-align: top;\n",
       "    }\n",
       "\n",
       "    .dataframe thead th {\n",
       "        text-align: right;\n",
       "    }\n",
       "</style>\n",
       "<table border=\"1\" class=\"dataframe\">\n",
       "  <thead>\n",
       "    <tr style=\"text-align: right;\">\n",
       "      <th></th>\n",
       "      <th>hi_en</th>\n",
       "      <th>en</th>\n",
       "    </tr>\n",
       "  </thead>\n",
       "  <tbody>\n",
       "    <tr>\n",
       "      <th>0</th>\n",
       "      <td>movie kis baare me hai?</td>\n",
       "      <td>What is the movie about?</td>\n",
       "    </tr>\n",
       "    <tr>\n",
       "      <th>1</th>\n",
       "      <td>Movie ek chhote bacche Kevin k baare me hai ji...</td>\n",
       "      <td>the movie is about a young child named Kevin w...</td>\n",
       "    </tr>\n",
       "    <tr>\n",
       "      <th>2</th>\n",
       "      <td>Kya wo jaan bhuj k abandon karte hai?</td>\n",
       "      <td>Did they abandon him on purpose?</td>\n",
       "    </tr>\n",
       "    <tr>\n",
       "      <th>3</th>\n",
       "      <td>nahi, wo uska track lose kardete hai kyuki bah...</td>\n",
       "      <td>no they had lost track of him since they had m...</td>\n",
       "    </tr>\n",
       "    <tr>\n",
       "      <th>4</th>\n",
       "      <td>Kya wo realize karte hai k wo chhut gaya aur u...</td>\n",
       "      <td>Did they realize they lost track of him and co...</td>\n",
       "    </tr>\n",
       "    <tr>\n",
       "      <th>...</th>\n",
       "      <td>...</td>\n",
       "      <td>...</td>\n",
       "    </tr>\n",
       "    <tr>\n",
       "      <th>936</th>\n",
       "      <td>Sunkar good movie hai. Kya ham finish kar skat...</td>\n",
       "      <td>Sounds like a good movie. Can we finish now?</td>\n",
       "    </tr>\n",
       "    <tr>\n",
       "      <th>937</th>\n",
       "      <td>Yep. Thanks baat karne ke liye\\n</td>\n",
       "      <td>Yep. Thanks for chatting</td>\n",
       "    </tr>\n",
       "    <tr>\n",
       "      <th>938</th>\n",
       "      <td>Thanks, mei dekhati hui. Achi baat hai\\n</td>\n",
       "      <td>thanks, I will watch it. SOunds good</td>\n",
       "    </tr>\n",
       "    <tr>\n",
       "      <th>940</th>\n",
       "      <td>kya tumhe movie Despicable Me pasand hai?\\n</td>\n",
       "      <td>Did you like the movie Despicable Me?</td>\n",
       "    </tr>\n",
       "    <tr>\n",
       "      <th>941</th>\n",
       "      <td>mujhe nahi lagta ki ye movie 2010 me aayi thi,...</td>\n",
       "      <td>I did not realize this movie came out in 2010,...</td>\n",
       "    </tr>\n",
       "  </tbody>\n",
       "</table>\n",
       "<p>3243 rows × 2 columns</p>\n",
       "</div>"
      ],
      "text/plain": [
       "                                                 hi_en  \\\n",
       "0                              movie kis baare me hai?   \n",
       "1    Movie ek chhote bacche Kevin k baare me hai ji...   \n",
       "2                Kya wo jaan bhuj k abandon karte hai?   \n",
       "3    nahi, wo uska track lose kardete hai kyuki bah...   \n",
       "4    Kya wo realize karte hai k wo chhut gaya aur u...   \n",
       "..                                                 ...   \n",
       "936  Sunkar good movie hai. Kya ham finish kar skat...   \n",
       "937                   Yep. Thanks baat karne ke liye\\n   \n",
       "938           Thanks, mei dekhati hui. Achi baat hai\\n   \n",
       "940        kya tumhe movie Despicable Me pasand hai?\\n   \n",
       "941  mujhe nahi lagta ki ye movie 2010 me aayi thi,...   \n",
       "\n",
       "                                                    en  \n",
       "0                             What is the movie about?  \n",
       "1    the movie is about a young child named Kevin w...  \n",
       "2                     Did they abandon him on purpose?  \n",
       "3    no they had lost track of him since they had m...  \n",
       "4    Did they realize they lost track of him and co...  \n",
       "..                                                 ...  \n",
       "936       Sounds like a good movie. Can we finish now?  \n",
       "937                           Yep. Thanks for chatting  \n",
       "938               thanks, I will watch it. SOunds good  \n",
       "940              Did you like the movie Despicable Me?  \n",
       "941  I did not realize this movie came out in 2010,...  \n",
       "\n",
       "[3243 rows x 2 columns]"
      ]
     },
     "execution_count": 6,
     "metadata": {},
     "output_type": "execute_result"
    }
   ],
   "source": [
    "validation_df"
   ]
  },
  {
   "cell_type": "code",
   "execution_count": 7,
   "id": "8f002715-2359-4b51-b7b9-13e0c2738b21",
   "metadata": {},
   "outputs": [
    {
     "data": {
      "text/html": [
       "<div>\n",
       "<style scoped>\n",
       "    .dataframe tbody tr th:only-of-type {\n",
       "        vertical-align: middle;\n",
       "    }\n",
       "\n",
       "    .dataframe tbody tr th {\n",
       "        vertical-align: top;\n",
       "    }\n",
       "\n",
       "    .dataframe thead th {\n",
       "        text-align: right;\n",
       "    }\n",
       "</style>\n",
       "<table border=\"1\" class=\"dataframe\">\n",
       "  <thead>\n",
       "    <tr style=\"text-align: right;\">\n",
       "      <th></th>\n",
       "      <th>hi_en</th>\n",
       "      <th>en</th>\n",
       "    </tr>\n",
       "  </thead>\n",
       "  <tbody>\n",
       "    <tr>\n",
       "      <th>0</th>\n",
       "      <td>oye ledki kitni mazakiya movie dekh rhi ho ?</td>\n",
       "      <td>ah mean girls. such a funny movie. have you se...</td>\n",
       "    </tr>\n",
       "    <tr>\n",
       "      <th>1</th>\n",
       "      <td>ha muje bhi hassi mazak ki movies pasand par y...</td>\n",
       "      <td>Yeah, even though I love comedies, this wasn't...</td>\n",
       "    </tr>\n",
       "    <tr>\n",
       "      <th>2</th>\n",
       "      <td>kese tina ka jhuti writing isme achi the usne ...</td>\n",
       "      <td>how come. thought tina fey's writing was fanta...</td>\n",
       "    </tr>\n",
       "    <tr>\n",
       "      <th>3</th>\n",
       "      <td>muje kahani bhute achi lagi aur unhone ise dac...</td>\n",
       "      <td>I loved the story &amp; how true they made it in h...</td>\n",
       "    </tr>\n",
       "    <tr>\n",
       "      <th>4</th>\n",
       "      <td>ab samja muje nhi pta tha ki aap sahi admi hai...</td>\n",
       "      <td>I see. i didn't realize it was 14 years ago. y...</td>\n",
       "    </tr>\n",
       "    <tr>\n",
       "      <th>...</th>\n",
       "      <td>...</td>\n",
       "      <td>...</td>\n",
       "    </tr>\n",
       "    <tr>\n",
       "      <th>6508</th>\n",
       "      <td>alarm ko abhi stop kare</td>\n",
       "      <td>Stop alarm now</td>\n",
       "    </tr>\n",
       "    <tr>\n",
       "      <th>6509</th>\n",
       "      <td>Har ghante ke liye alarm set kare</td>\n",
       "      <td>set alarm every hour</td>\n",
       "    </tr>\n",
       "    <tr>\n",
       "      <th>6510</th>\n",
       "      <td>Bobby ko text kare</td>\n",
       "      <td>text Bobby</td>\n",
       "    </tr>\n",
       "    <tr>\n",
       "      <th>6511</th>\n",
       "      <td>Muje shaam 6 baje laundry ko pick up karne ke ...</td>\n",
       "      <td>remind me to pick up laundry at 6 pm</td>\n",
       "    </tr>\n",
       "    <tr>\n",
       "      <th>6512</th>\n",
       "      <td>Kya aap muje har subah 6 baje apne baccho ko j...</td>\n",
       "      <td>Can you remind me to wake my kids up every mor...</td>\n",
       "    </tr>\n",
       "  </tbody>\n",
       "</table>\n",
       "<p>7072 rows × 2 columns</p>\n",
       "</div>"
      ],
      "text/plain": [
       "                                                  hi_en  \\\n",
       "0          oye ledki kitni mazakiya movie dekh rhi ho ?   \n",
       "1     ha muje bhi hassi mazak ki movies pasand par y...   \n",
       "2     kese tina ka jhuti writing isme achi the usne ...   \n",
       "3     muje kahani bhute achi lagi aur unhone ise dac...   \n",
       "4     ab samja muje nhi pta tha ki aap sahi admi hai...   \n",
       "...                                                 ...   \n",
       "6508                            alarm ko abhi stop kare   \n",
       "6509                  Har ghante ke liye alarm set kare   \n",
       "6510                                 Bobby ko text kare   \n",
       "6511  Muje shaam 6 baje laundry ko pick up karne ke ...   \n",
       "6512  Kya aap muje har subah 6 baje apne baccho ko j...   \n",
       "\n",
       "                                                     en  \n",
       "0     ah mean girls. such a funny movie. have you se...  \n",
       "1     Yeah, even though I love comedies, this wasn't...  \n",
       "2     how come. thought tina fey's writing was fanta...  \n",
       "3     I loved the story & how true they made it in h...  \n",
       "4     I see. i didn't realize it was 14 years ago. y...  \n",
       "...                                                 ...  \n",
       "6508                                     Stop alarm now  \n",
       "6509                               set alarm every hour  \n",
       "6510                                         text Bobby  \n",
       "6511               remind me to pick up laundry at 6 pm  \n",
       "6512  Can you remind me to wake my kids up every mor...  \n",
       "\n",
       "[7072 rows x 2 columns]"
      ]
     },
     "execution_count": 7,
     "metadata": {},
     "output_type": "execute_result"
    }
   ],
   "source": [
    "test_df"
   ]
  },
  {
   "cell_type": "code",
   "execution_count": 8,
   "id": "9e93f1af-c168-4d30-8d38-f08a1245b594",
   "metadata": {},
   "outputs": [
    {
     "name": "stdout",
     "output_type": "stream",
     "text": [
      "CPU times: user 2.15 s, sys: 2.43 ms, total: 2.15 s\n",
      "Wall time: 2.17 s\n"
     ]
    },
    {
     "data": {
      "text/html": [
       "<div>\n",
       "<style scoped>\n",
       "    .dataframe tbody tr th:only-of-type {\n",
       "        vertical-align: middle;\n",
       "    }\n",
       "\n",
       "    .dataframe tbody tr th {\n",
       "        vertical-align: top;\n",
       "    }\n",
       "\n",
       "    .dataframe thead th {\n",
       "        text-align: right;\n",
       "    }\n",
       "</style>\n",
       "<table border=\"1\" class=\"dataframe\">\n",
       "  <thead>\n",
       "    <tr style=\"text-align: right;\">\n",
       "      <th></th>\n",
       "      <th>hi_en</th>\n",
       "      <th>en</th>\n",
       "    </tr>\n",
       "  </thead>\n",
       "  <tbody>\n",
       "    <tr>\n",
       "      <th>0</th>\n",
       "      <td>film ka kya naam hai</td>\n",
       "      <td>what's the name of the movie</td>\n",
       "    </tr>\n",
       "    <tr>\n",
       "      <th>1</th>\n",
       "      <td>namaste, sada hua tomatoes score mahaan hai, l...</td>\n",
       "      <td>hi, the rotten tomatoes score is great but the...</td>\n",
       "    </tr>\n",
       "    <tr>\n",
       "      <th>2</th>\n",
       "      <td>kya aapako lagata hai ki aapako film pasand aa...</td>\n",
       "      <td>do you think you will like the movie</td>\n",
       "    </tr>\n",
       "    <tr>\n",
       "      <th>3</th>\n",
       "      <td>yah kis tarah kee philm hai</td>\n",
       "      <td>what kind of movie is it</td>\n",
       "    </tr>\n",
       "    <tr>\n",
       "      <th>4</th>\n",
       "      <td>film kab banee thee?</td>\n",
       "      <td>when was the movie made?</td>\n",
       "    </tr>\n",
       "    <tr>\n",
       "      <th>...</th>\n",
       "      <td>...</td>\n",
       "      <td>...</td>\n",
       "    </tr>\n",
       "    <tr>\n",
       "      <th>8055</th>\n",
       "      <td>thik hai</td>\n",
       "      <td>ok.</td>\n",
       "    </tr>\n",
       "    <tr>\n",
       "      <th>8056</th>\n",
       "      <td>thik hai bhai</td>\n",
       "      <td>ok bro</td>\n",
       "    </tr>\n",
       "    <tr>\n",
       "      <th>8057</th>\n",
       "      <td>kya ham chalu kar sakte hai?</td>\n",
       "      <td>shall we continue?</td>\n",
       "    </tr>\n",
       "    <tr>\n",
       "      <th>8058</th>\n",
       "      <td>kya aapko pasand hai hamare saath</td>\n",
       "      <td>do you like we can</td>\n",
       "    </tr>\n",
       "    <tr>\n",
       "      <th>8059</th>\n",
       "      <td>haa mere pass pandrah thanks hai</td>\n",
       "      <td>yeah i have fifteen thanks.</td>\n",
       "    </tr>\n",
       "  </tbody>\n",
       "</table>\n",
       "<p>174443 rows × 2 columns</p>\n",
       "</div>"
      ],
      "text/plain": [
       "                                                  hi_en  \\\n",
       "0                                  film ka kya naam hai   \n",
       "1     namaste, sada hua tomatoes score mahaan hai, l...   \n",
       "2     kya aapako lagata hai ki aapako film pasand aa...   \n",
       "3                           yah kis tarah kee philm hai   \n",
       "4                                  film kab banee thee?   \n",
       "...                                                 ...   \n",
       "8055                                           thik hai   \n",
       "8056                                      thik hai bhai   \n",
       "8057                       kya ham chalu kar sakte hai?   \n",
       "8058                  kya aapko pasand hai hamare saath   \n",
       "8059                   haa mere pass pandrah thanks hai   \n",
       "\n",
       "                                                     en  \n",
       "0                          what's the name of the movie  \n",
       "1     hi, the rotten tomatoes score is great but the...  \n",
       "2                  do you think you will like the movie  \n",
       "3                              what kind of movie is it  \n",
       "4                              when was the movie made?  \n",
       "...                                                 ...  \n",
       "8055                                                ok.  \n",
       "8056                                             ok bro  \n",
       "8057                                 shall we continue?  \n",
       "8058                                 do you like we can  \n",
       "8059                        yeah i have fifteen thanks.  \n",
       "\n",
       "[174443 rows x 2 columns]"
      ]
     },
     "execution_count": 8,
     "metadata": {},
     "output_type": "execute_result"
    }
   ],
   "source": [
    "%%time\n",
    "train_df = train_df.applymap(clean_text)\n",
    "train_df"
   ]
  },
  {
   "cell_type": "code",
   "execution_count": 9,
   "id": "1016d417-f744-4caa-9773-e968eafc35c8",
   "metadata": {},
   "outputs": [
    {
     "name": "stdout",
     "output_type": "stream",
     "text": [
      "CPU times: user 43.3 ms, sys: 594 µs, total: 43.9 ms\n",
      "Wall time: 43.5 ms\n"
     ]
    },
    {
     "data": {
      "text/html": [
       "<div>\n",
       "<style scoped>\n",
       "    .dataframe tbody tr th:only-of-type {\n",
       "        vertical-align: middle;\n",
       "    }\n",
       "\n",
       "    .dataframe tbody tr th {\n",
       "        vertical-align: top;\n",
       "    }\n",
       "\n",
       "    .dataframe thead th {\n",
       "        text-align: right;\n",
       "    }\n",
       "</style>\n",
       "<table border=\"1\" class=\"dataframe\">\n",
       "  <thead>\n",
       "    <tr style=\"text-align: right;\">\n",
       "      <th></th>\n",
       "      <th>hi_en</th>\n",
       "      <th>en</th>\n",
       "    </tr>\n",
       "  </thead>\n",
       "  <tbody>\n",
       "    <tr>\n",
       "      <th>0</th>\n",
       "      <td>movie kis baare me hai?</td>\n",
       "      <td>what is the movie about?</td>\n",
       "    </tr>\n",
       "    <tr>\n",
       "      <th>1</th>\n",
       "      <td>movie ek chhote bacche kevin k baare me hai ji...</td>\n",
       "      <td>the movie is about a young child named kevin w...</td>\n",
       "    </tr>\n",
       "    <tr>\n",
       "      <th>2</th>\n",
       "      <td>kya wo jaan bhuj k abandon karte hai?</td>\n",
       "      <td>did they abandon him on purpose?</td>\n",
       "    </tr>\n",
       "    <tr>\n",
       "      <th>3</th>\n",
       "      <td>nahi, wo uska track lose kardete hai kyuki bah...</td>\n",
       "      <td>no they had lost track of him since they had m...</td>\n",
       "    </tr>\n",
       "    <tr>\n",
       "      <th>4</th>\n",
       "      <td>kya wo realize karte hai k wo chhut gaya aur u...</td>\n",
       "      <td>did they realize they lost track of him and co...</td>\n",
       "    </tr>\n",
       "    <tr>\n",
       "      <th>...</th>\n",
       "      <td>...</td>\n",
       "      <td>...</td>\n",
       "    </tr>\n",
       "    <tr>\n",
       "      <th>936</th>\n",
       "      <td>sunkar good movie hai. kya ham finish kar skat...</td>\n",
       "      <td>sounds like a good movie. can we finish now?</td>\n",
       "    </tr>\n",
       "    <tr>\n",
       "      <th>937</th>\n",
       "      <td>yep. thanks baat karne ke liye</td>\n",
       "      <td>yep. thanks for chatting</td>\n",
       "    </tr>\n",
       "    <tr>\n",
       "      <th>938</th>\n",
       "      <td>thanks, mei dekhati hui. achi baat hai</td>\n",
       "      <td>thanks, i will watch it. sounds good</td>\n",
       "    </tr>\n",
       "    <tr>\n",
       "      <th>940</th>\n",
       "      <td>kya tumhe movie despicable me pasand hai?</td>\n",
       "      <td>did you like the movie despicable me?</td>\n",
       "    </tr>\n",
       "    <tr>\n",
       "      <th>941</th>\n",
       "      <td>mujhe nahi lagta ki ye movie 2010 me aayi thi,...</td>\n",
       "      <td>i did not realize this movie came out in 2010,...</td>\n",
       "    </tr>\n",
       "  </tbody>\n",
       "</table>\n",
       "<p>3243 rows × 2 columns</p>\n",
       "</div>"
      ],
      "text/plain": [
       "                                                 hi_en  \\\n",
       "0                              movie kis baare me hai?   \n",
       "1    movie ek chhote bacche kevin k baare me hai ji...   \n",
       "2                kya wo jaan bhuj k abandon karte hai?   \n",
       "3    nahi, wo uska track lose kardete hai kyuki bah...   \n",
       "4    kya wo realize karte hai k wo chhut gaya aur u...   \n",
       "..                                                 ...   \n",
       "936  sunkar good movie hai. kya ham finish kar skat...   \n",
       "937                     yep. thanks baat karne ke liye   \n",
       "938             thanks, mei dekhati hui. achi baat hai   \n",
       "940          kya tumhe movie despicable me pasand hai?   \n",
       "941  mujhe nahi lagta ki ye movie 2010 me aayi thi,...   \n",
       "\n",
       "                                                    en  \n",
       "0                             what is the movie about?  \n",
       "1    the movie is about a young child named kevin w...  \n",
       "2                     did they abandon him on purpose?  \n",
       "3    no they had lost track of him since they had m...  \n",
       "4    did they realize they lost track of him and co...  \n",
       "..                                                 ...  \n",
       "936       sounds like a good movie. can we finish now?  \n",
       "937                           yep. thanks for chatting  \n",
       "938               thanks, i will watch it. sounds good  \n",
       "940              did you like the movie despicable me?  \n",
       "941  i did not realize this movie came out in 2010,...  \n",
       "\n",
       "[3243 rows x 2 columns]"
      ]
     },
     "execution_count": 9,
     "metadata": {},
     "output_type": "execute_result"
    }
   ],
   "source": [
    "%%time\n",
    "validation_df = validation_df.applymap(clean_text)\n",
    "validation_df"
   ]
  },
  {
   "cell_type": "code",
   "execution_count": 10,
   "id": "46573bf4-a9cc-49d5-9659-3966fc9a80b9",
   "metadata": {},
   "outputs": [
    {
     "name": "stdout",
     "output_type": "stream",
     "text": [
      "CPU times: user 86.5 ms, sys: 896 µs, total: 87.3 ms\n",
      "Wall time: 86.9 ms\n"
     ]
    },
    {
     "data": {
      "text/html": [
       "<div>\n",
       "<style scoped>\n",
       "    .dataframe tbody tr th:only-of-type {\n",
       "        vertical-align: middle;\n",
       "    }\n",
       "\n",
       "    .dataframe tbody tr th {\n",
       "        vertical-align: top;\n",
       "    }\n",
       "\n",
       "    .dataframe thead th {\n",
       "        text-align: right;\n",
       "    }\n",
       "</style>\n",
       "<table border=\"1\" class=\"dataframe\">\n",
       "  <thead>\n",
       "    <tr style=\"text-align: right;\">\n",
       "      <th></th>\n",
       "      <th>hi_en</th>\n",
       "      <th>en</th>\n",
       "    </tr>\n",
       "  </thead>\n",
       "  <tbody>\n",
       "    <tr>\n",
       "      <th>0</th>\n",
       "      <td>oye ledki kitni mazakiya movie dekh rhi ho ?</td>\n",
       "      <td>ah mean girls. such a funny movie. have you se...</td>\n",
       "    </tr>\n",
       "    <tr>\n",
       "      <th>1</th>\n",
       "      <td>ha muje bhi hassi mazak ki movies pasand par y...</td>\n",
       "      <td>yeah, even though i love comedies, this wasn't...</td>\n",
       "    </tr>\n",
       "    <tr>\n",
       "      <th>2</th>\n",
       "      <td>kese tina ka jhuti writing isme achi the usne ...</td>\n",
       "      <td>how come. thought tina fey's writing was fanta...</td>\n",
       "    </tr>\n",
       "    <tr>\n",
       "      <th>3</th>\n",
       "      <td>muje kahani bhute achi lagi aur unhone ise dac...</td>\n",
       "      <td>i loved the story &amp; how true they made it in h...</td>\n",
       "    </tr>\n",
       "    <tr>\n",
       "      <th>4</th>\n",
       "      <td>ab samja muje nhi pta tha ki aap sahi admi hai...</td>\n",
       "      <td>i see. i didn't realize it was 14 years ago. y...</td>\n",
       "    </tr>\n",
       "    <tr>\n",
       "      <th>...</th>\n",
       "      <td>...</td>\n",
       "      <td>...</td>\n",
       "    </tr>\n",
       "    <tr>\n",
       "      <th>6508</th>\n",
       "      <td>alarm ko abhi stop kare</td>\n",
       "      <td>stop alarm now</td>\n",
       "    </tr>\n",
       "    <tr>\n",
       "      <th>6509</th>\n",
       "      <td>har ghante ke liye alarm set kare</td>\n",
       "      <td>set alarm every hour</td>\n",
       "    </tr>\n",
       "    <tr>\n",
       "      <th>6510</th>\n",
       "      <td>bobby ko text kare</td>\n",
       "      <td>text bobby</td>\n",
       "    </tr>\n",
       "    <tr>\n",
       "      <th>6511</th>\n",
       "      <td>muje shaam 6 baje laundry ko pick up karne ke ...</td>\n",
       "      <td>remind me to pick up laundry at 6 pm</td>\n",
       "    </tr>\n",
       "    <tr>\n",
       "      <th>6512</th>\n",
       "      <td>kya aap muje har subah 6 baje apne baccho ko j...</td>\n",
       "      <td>can you remind me to wake my kids up every mor...</td>\n",
       "    </tr>\n",
       "  </tbody>\n",
       "</table>\n",
       "<p>7072 rows × 2 columns</p>\n",
       "</div>"
      ],
      "text/plain": [
       "                                                  hi_en  \\\n",
       "0          oye ledki kitni mazakiya movie dekh rhi ho ?   \n",
       "1     ha muje bhi hassi mazak ki movies pasand par y...   \n",
       "2     kese tina ka jhuti writing isme achi the usne ...   \n",
       "3     muje kahani bhute achi lagi aur unhone ise dac...   \n",
       "4     ab samja muje nhi pta tha ki aap sahi admi hai...   \n",
       "...                                                 ...   \n",
       "6508                            alarm ko abhi stop kare   \n",
       "6509                  har ghante ke liye alarm set kare   \n",
       "6510                                 bobby ko text kare   \n",
       "6511  muje shaam 6 baje laundry ko pick up karne ke ...   \n",
       "6512  kya aap muje har subah 6 baje apne baccho ko j...   \n",
       "\n",
       "                                                     en  \n",
       "0     ah mean girls. such a funny movie. have you se...  \n",
       "1     yeah, even though i love comedies, this wasn't...  \n",
       "2     how come. thought tina fey's writing was fanta...  \n",
       "3     i loved the story & how true they made it in h...  \n",
       "4     i see. i didn't realize it was 14 years ago. y...  \n",
       "...                                                 ...  \n",
       "6508                                     stop alarm now  \n",
       "6509                               set alarm every hour  \n",
       "6510                                         text bobby  \n",
       "6511               remind me to pick up laundry at 6 pm  \n",
       "6512  can you remind me to wake my kids up every mor...  \n",
       "\n",
       "[7072 rows x 2 columns]"
      ]
     },
     "execution_count": 10,
     "metadata": {},
     "output_type": "execute_result"
    }
   ],
   "source": [
    "%%time\n",
    "test_df = test_df.applymap(clean_text)\n",
    "test_df"
   ]
  },
  {
   "cell_type": "markdown",
   "id": "6815fbe5-c088-40b5-9406-2c942a6d09f8",
   "metadata": {},
   "source": [
    "## Data tokenization"
   ]
  },
  {
   "cell_type": "code",
   "execution_count": 11,
   "id": "5a5dbb69-5bde-412d-9071-9e6c3ef6a25e",
   "metadata": {},
   "outputs": [
    {
     "name": "stdout",
     "output_type": "stream",
     "text": [
      "\n",
      "\n",
      "\n",
      "\n",
      "\n",
      "\n"
     ]
    }
   ],
   "source": [
    "bart_tokenizer = CustomBartTokenizer().build()\n",
    "bart_tokenizer_scratch = CustomBartTokenizer().build(data=train_df[\"hi_en\"], tokenizer_style=STYLE.SCRATCH.value)\n",
    "bart_tokenizer_append = CustomBartTokenizer().build(data=train_df[\"hi_en\"], tokenizer_style=STYLE.APPEND.value)"
   ]
  },
  {
   "cell_type": "code",
   "execution_count": 12,
   "id": "d8d171f9-4ec2-4458-bd87-70cd7d7a280a",
   "metadata": {},
   "outputs": [],
   "source": [
    "query = \"Hello! Ye CSCI 544 ka project he. Ye project Code-Mixed Machine Translation ke bara me he. Hamane hamari khoon bahahe.\"\n",
    "query = clean_text(text=query)"
   ]
  },
  {
   "cell_type": "code",
   "execution_count": 13,
   "id": "8049c0ea-6b74-428f-8ec9-f9b578641d53",
   "metadata": {},
   "outputs": [
    {
     "name": "stdout",
     "output_type": "stream",
     "text": [
      "####################################################################################################\n",
      "This is an example of using the default Bart Tokenizer.\n",
      "\n",
      "Sentence: hello! ye csci 544 ka project he. ye project code-mixed machine translation ke bara me he. hamane hamari khoon bahahe.\n",
      "\n",
      "Tokenized word: ['<s>', 'hello', '!', 'Ġye', 'Ġc', 'sci', 'Ġ5', '44', 'Ġka', 'Ġproject', 'Ġhe', '.', 'Ġye', 'Ġproject', 'Ġcode', '-', 'm', 'ixed', 'Ġmachine', 'Ġtranslation', 'Ġke', 'Ġbar', 'a', 'Ġme', 'Ġhe', '.', 'Ġham', 'ane', 'Ġham', 'ari', 'Ġkh', 'oon', 'Ġb', 'aha', 'he', '.', '</s>']\n",
      "\n",
      "Tokenized idx: [0, 42891, 328, 32440, 740, 43428, 195, 3305, 4661, 695, 37, 4, 32440, 695, 3260, 12, 119, 24194, 3563, 19850, 7321, 2003, 102, 162, 37, 4, 11402, 1728, 11402, 1512, 16447, 3863, 741, 11695, 700, 4, 2]\n",
      "####################################################################################################\n"
     ]
    }
   ],
   "source": [
    "token_idx = bart_tokenizer.encode(query, add_special_tokens=True)\n",
    "token_word = bart_tokenizer.convert_ids_to_tokens(token_idx)\n",
    "print('#'*100)\n",
    "print(\"This is an example of using the default Bart Tokenizer.\\n\")\n",
    "print(f\"Sentence: {query}\\n\")\n",
    "print(f\"Tokenized word: {token_word}\\n\")\n",
    "print(f\"Tokenized idx: {token_idx}\")\n",
    "print('#'*100)"
   ]
  },
  {
   "cell_type": "code",
   "execution_count": 14,
   "id": "983d5c73-96b4-4c61-af57-46ecd0891993",
   "metadata": {},
   "outputs": [
    {
     "name": "stdout",
     "output_type": "stream",
     "text": [
      "####################################################################################################\n",
      "This is an example of the Bart Tokenizer that is trained from scratch.\n",
      "\n",
      "Sentence: hello! ye csci 544 ka project he. ye project code-mixed machine translation ke bara me he. hamane hamari khoon bahahe.\n",
      "\n",
      "Tokenized word: ['<s>', 'hello', '!', 'Ġye', 'Ġc', 'sci', 'Ġ5', '44', 'Ġka', 'Ġproject', 'Ġhe', '.', 'Ġye', 'Ġproject', 'Ġcode', '-', 'mix', 'ed', 'Ġmachine', 'Ġtrans', 'lation', 'Ġke', 'Ġbara', 'Ġme', 'Ġhe', '.', 'Ġhamane', 'Ġhamari', 'Ġkhoon', 'Ġbaha', 'he', '.', '</s>']\n",
      "\n",
      "Tokenized idx: [0, 2317, 4, 520, 288, 21554, 466, 11342, 312, 3070, 356, 17, 520, 3070, 6438, 16, 19530, 517, 6262, 3397, 18402, 271, 17190, 284, 356, 17, 11714, 4630, 10623, 13967, 282, 17, 2]\n",
      "####################################################################################################\n"
     ]
    }
   ],
   "source": [
    "token_idx = bart_tokenizer_scratch.encode(query, add_special_tokens=True)\n",
    "token_word = bart_tokenizer_scratch.convert_ids_to_tokens(token_idx)\n",
    "print('#'*100)\n",
    "print(\"This is an example of the Bart Tokenizer that is trained from scratch.\\n\")\n",
    "print(f\"Sentence: {query}\\n\")\n",
    "print(f\"Tokenized word: {token_word}\\n\")\n",
    "print(f\"Tokenized idx: {token_idx}\")\n",
    "print('#'*100)"
   ]
  },
  {
   "cell_type": "code",
   "execution_count": 15,
   "id": "122936f1-df9e-4342-9492-9dec2cb289bc",
   "metadata": {},
   "outputs": [
    {
     "name": "stdout",
     "output_type": "stream",
     "text": [
      "####################################################################################################\n",
      "This is an example of the Bart Tokenizer to which we append our new data.\n",
      "\n",
      "Sentence: hello! ye csci 544 ka project he. ye project code-mixed machine translation ke bara me he. hamane hamari khoon bahahe.\n",
      "\n",
      "Tokenized word: ['<s>', 'hello', '!', 'Ġ', 'ye', 'Ġ', 'csc', 'i', 'Ġ', '54', '4', 'Ġ', 'ka', 'Ġ', 'project', 'Ġ', 'he', '.', 'Ġ', 'ye', 'Ġ', 'project', 'Ġ', 'code', '-', 'mix', 'ed', 'Ġ', 'mach', 'ine', 'Ġ', 'trans', 'lation', 'Ġ', 'ke', 'Ġ', 'bara', 'Ġ', 'me', 'Ġ', 'he', '.', 'Ġ', 'hamane', 'Ġ', 'hamari', 'Ġ', 'khoo', 'n', 'Ġ', 'baha', 'he', '.', '</s>']\n",
      "\n",
      "Tokenized idx: [0, 42891, 328, 1437, 4717, 1437, 62406, 118, 1437, 4283, 306, 1437, 2348, 1437, 28258, 1437, 700, 4, 1437, 4717, 1437, 28258, 1437, 20414, 12, 39915, 196, 1437, 63938, 833, 1437, 9981, 35019, 1437, 1071, 1437, 31533, 1437, 1794, 1437, 700, 4, 1437, 72715, 1437, 68736, 1437, 64426, 282, 1437, 83241, 700, 4, 2]\n",
      "####################################################################################################\n"
     ]
    }
   ],
   "source": [
    "token_idx = bart_tokenizer_append.encode(query, add_special_tokens=True)\n",
    "token_word = bart_tokenizer_append.convert_ids_to_tokens(token_idx)\n",
    "print('#'*100)\n",
    "print(\"This is an example of the Bart Tokenizer to which we append our new data.\\n\")\n",
    "print(f\"Sentence: {query}\\n\")\n",
    "print(f\"Tokenized word: {token_word}\\n\")\n",
    "print(f\"Tokenized idx: {token_idx}\")\n",
    "print('#'*100)"
   ]
  },
  {
   "cell_type": "code",
   "execution_count": 16,
   "id": "390d4005-a4fe-4187-8a41-a987029417b1",
   "metadata": {},
   "outputs": [
    {
     "name": "stdout",
     "output_type": "stream",
     "text": [
      "\n",
      "\n",
      "\n"
     ]
    }
   ],
   "source": [
    "# Now that we know how to get a BART-Tokenizer - default, appeded and scratch, let us get the tokenizer for our code-mixed language\n",
    "# and the target language.\n",
    "# Code-Mixed Language - Build a Bart-Tokenizer from scratch.\n",
    "# Target Language (English) - Use the default Bart-Tokenizer.\n",
    "hi_en_bart_tokenizer = CustomBartTokenizer().build(\n",
    "    data=train_df[\"hi_en\"],\n",
    "    tokenizer_style=MBART_TOKENIZER_BPE_BINDING_BART_TOKENIZER_ENCODER_STYLE,\n",
    "    tokenizer_bart_from_pretrained_path=MBART_TOKENIZER_BPE_BINDING_BART_TOKENIZER_ENCODER_FROM_PRETRAINED\n",
    ")\n",
    "en_bart_tokenizer = CustomBartTokenizer().build(\n",
    "    tokenizer_style=MBART_TOKENIZER_BPE_BINDING_BART_TOKENIZER_DECODER_STYLE,\n",
    "    tokenizer_bart_from_pretrained_path=MBART_TOKENIZER_BPE_BINDING_BART_TOKENIZER_DECODER_FROM_PRETRAINED\n",
    ")"
   ]
  },
  {
   "cell_type": "code",
   "execution_count": 17,
   "id": "e43157d2-c90a-4a82-a8fd-f4c9256ca9fe",
   "metadata": {},
   "outputs": [
    {
     "name": "stdout",
     "output_type": "stream",
     "text": [
      "Hinglish tokenizer vocab size: 50265\n",
      "English tokenizer vocab size: 50265\n"
     ]
    }
   ],
   "source": [
    "print(f\"Hinglish tokenizer vocab size: {hi_en_bart_tokenizer.vocab_size}\")\n",
    "print(f\"English tokenizer vocab size: {en_bart_tokenizer.vocab_size}\")"
   ]
  },
  {
   "cell_type": "markdown",
   "id": "ea448cc8-4d09-40e8-a793-db3b7c6d59d7",
   "metadata": {},
   "source": [
    "## Dataset and Data Loaders"
   ]
  },
  {
   "cell_type": "code",
   "execution_count": 18,
   "id": "d58e26f3-5913-4939-877a-5b083e1402ac",
   "metadata": {},
   "outputs": [],
   "source": [
    "# Get the data loaders for denoising\n",
    "__data_loaders__ = get_data_loader_models(\n",
    "    train_df=train_df,\n",
    "    validation_df=validation_df,\n",
    "    test_df=test_df,\n",
    "    train_batch_size=4, \n",
    "    validation_batch_size=4, \n",
    "    test_batch_size=4,\n",
    "    encoder_tokenizer=hi_en_bart_tokenizer,\n",
    "    decoder_tokenizer=hi_en_bart_tokenizer,\n",
    "    denoising_stage=True\n",
    ")"
   ]
  },
  {
   "cell_type": "code",
   "execution_count": 19,
   "id": "3c20dfa8-0530-4ca1-90a1-90abe725f879",
   "metadata": {},
   "outputs": [
    {
     "data": {
      "text/plain": [
       "defaultdict(dict,\n",
       "            {'hi_en__en': {'object': <src.machine_translation.data.CodeMixedDataLoader at 0x177653460>,\n",
       "              'train': <torch.utils.data.dataloader.DataLoader at 0x1776539d0>,\n",
       "              'validation': <torch.utils.data.dataloader.DataLoader at 0x177653850>,\n",
       "              'test': <torch.utils.data.dataloader.DataLoader at 0x177653790>}})"
      ]
     },
     "execution_count": 19,
     "metadata": {},
     "output_type": "execute_result"
    }
   ],
   "source": [
    "__data_loaders__"
   ]
  },
  {
   "cell_type": "code",
   "execution_count": 20,
   "id": "0e564875-998d-434f-90cd-ebef46d6c663",
   "metadata": {},
   "outputs": [],
   "source": [
    "__data_loader__, __train_data_loader__, __validation_data_loader__, __test_data_loader__ = __data_loaders__[\"hi_en__en\"].values()"
   ]
  },
  {
   "cell_type": "code",
   "execution_count": 21,
   "id": "e0a239c8-ad3e-4d33-b43d-f1d0b852841f",
   "metadata": {},
   "outputs": [
    {
     "name": "stdout",
     "output_type": "stream",
     "text": [
      "####################################################################################################\n",
      "Train Dataloader\n",
      "Batch Size:  4\n",
      "Number of batches:  43611\n",
      "Batch source language shape:  torch.Size([4, 18])\n",
      "Batch source language:  ['kya aj windy hone wala he ?', 'jee haan, yah ek phanee enimeshan philm hai.', 'the kids ko har dusre din empty their trash cans ke liye yaad dilana chahiye .', 'route 100 par traffic kaisa hai']\n",
      "Batch source tokens:  tensor([[    0,   316,   687,  2946,   460,   565,   356,   318,     2,     1,\n",
      "             1,     1,     1,     1,     1,     1,     1,     1],\n",
      "        [    0,  6803,  2765,    15,  1215,   379, 26401, 34517,  1963,   278,\n",
      "            17,     2,     1,     1,     1,     1,     1,     1],\n",
      "        [    0,   917,  1315,   280,   616,  2040,   566,  9829,  2951,  2060,\n",
      "         11453,   271,   283,   393,  3266,   486,   322,     2],\n",
      "        [    0,  3400,  2600,   337,   374,   428,   278,     2,     1,     1,\n",
      "             1,     1,     1,     1,     1,     1,     1,     1]])\n",
      "Batch source attention mask:  tensor([[1, 1, 1, 1, 1, 1, 1, 1, 1, 0, 0, 0, 0, 0, 0, 0, 0, 0],\n",
      "        [1, 1, 1, 1, 1, 1, 1, 1, 1, 1, 1, 1, 0, 0, 0, 0, 0, 0],\n",
      "        [1, 1, 1, 1, 1, 1, 1, 1, 1, 1, 1, 1, 1, 1, 1, 1, 1, 1],\n",
      "        [1, 1, 1, 1, 1, 1, 1, 1, 0, 0, 0, 0, 0, 0, 0, 0, 0, 0]])\n",
      "Batch target language shape:  torch.Size([4, 18])\n",
      "Batch target language:  ['kya aj windy hone wala he ?', 'jee haan, yah ek phanee enimeshan philm hai.', 'the kids ko har dusre din empty their trash cans ke liye yaad dilana chahiye .', 'route 100 par traffic kaisa hai']\n",
      "Batch target tokens:  tensor([[    0,   316,   687,  2946,   460,   565,   356,   318,     2,     1,\n",
      "             1,     1,     1,     1,     1,     1,     1,     1],\n",
      "        [    0,  6803,  2765,    15,  1215,   379, 26401, 34517,  1963,   278,\n",
      "            17,     2,     1,     1,     1,     1,     1,     1],\n",
      "        [    0,   917,  1315,   280,   616,  2040,   566,  9829,  2951,  2060,\n",
      "         11453,   271,   283,   393,  3266,   486,   322,     2],\n",
      "        [    0,  3400,  2600,   337,   374,   428,   278,     2,     1,     1,\n",
      "             1,     1,     1,     1,     1,     1,     1,     1]])\n",
      "Batch target attention mask:  tensor([[1, 1, 1, 1, 1, 1, 1, 1, 1, 0, 0, 0, 0, 0, 0, 0, 0, 0],\n",
      "        [1, 1, 1, 1, 1, 1, 1, 1, 1, 1, 1, 1, 0, 0, 0, 0, 0, 0],\n",
      "        [1, 1, 1, 1, 1, 1, 1, 1, 1, 1, 1, 1, 1, 1, 1, 1, 1, 1],\n",
      "        [1, 1, 1, 1, 1, 1, 1, 1, 0, 0, 0, 0, 0, 0, 0, 0, 0, 0]])\n",
      "Validating train laoder...\n"
     ]
    },
    {
     "name": "stderr",
     "output_type": "stream",
     "text": [
      "100%|█| 43611/43611 [00:42<00:00, 1022.80i\n"
     ]
    },
    {
     "name": "stdout",
     "output_type": "stream",
     "text": [
      "Validation of train loader successful.\n",
      "####################################################################################################\n",
      "Val Dataloader\n",
      "Batch Size:  4\n",
      "Number of batches:  811\n",
      "Validating validation laoder...\n"
     ]
    },
    {
     "name": "stderr",
     "output_type": "stream",
     "text": [
      "100%|███| 811/811 [00:31<00:00, 26.10it/s]\n"
     ]
    },
    {
     "name": "stdout",
     "output_type": "stream",
     "text": [
      "Validation of validation loader successful.\n",
      "####################################################################################################\n",
      "Test Dataloader\n",
      "Batch Size:  4\n",
      "Number of batches:  1768\n",
      "Validating test laoder...\n"
     ]
    },
    {
     "name": "stderr",
     "output_type": "stream",
     "text": [
      "100%|█| 1768/1768 [00:31<00:00, 56.40it/s]"
     ]
    },
    {
     "name": "stdout",
     "output_type": "stream",
     "text": [
      "Validation of test loader successful.\n",
      "####################################################################################################\n"
     ]
    },
    {
     "name": "stderr",
     "output_type": "stream",
     "text": [
      "\n"
     ]
    }
   ],
   "source": [
    "__data_loader__.visualize()"
   ]
  },
  {
   "cell_type": "code",
   "execution_count": 22,
   "id": "2a13c1e6-1d08-4ab4-9118-25191e7fcaab",
   "metadata": {},
   "outputs": [],
   "source": [
    "# Get the data loaders for translation\n",
    "__data_loaders__ = get_data_loader_models(\n",
    "    train_df=train_df,\n",
    "    validation_df=validation_df,\n",
    "    test_df=test_df,\n",
    "    train_batch_size=4, \n",
    "    validation_batch_size=4, \n",
    "    test_batch_size=4,\n",
    "    encoder_tokenizer=hi_en_bart_tokenizer,\n",
    "    decoder_tokenizer=en_bart_tokenizer\n",
    ")"
   ]
  },
  {
   "cell_type": "code",
   "execution_count": 23,
   "id": "705af659-431f-4eea-9d87-11b987736b90",
   "metadata": {},
   "outputs": [
    {
     "data": {
      "text/plain": [
       "defaultdict(dict,\n",
       "            {'hi_en__en': {'object': <src.machine_translation.data.CodeMixedDataLoader at 0x29d07e250>,\n",
       "              'train': <torch.utils.data.dataloader.DataLoader at 0x29d07ee80>,\n",
       "              'validation': <torch.utils.data.dataloader.DataLoader at 0x29d07e220>,\n",
       "              'test': <torch.utils.data.dataloader.DataLoader at 0x29d07ed00>}})"
      ]
     },
     "execution_count": 23,
     "metadata": {},
     "output_type": "execute_result"
    }
   ],
   "source": [
    "__data_loaders__"
   ]
  },
  {
   "cell_type": "code",
   "execution_count": 24,
   "id": "3958364d-029a-4cc6-9673-60c5eaffb55d",
   "metadata": {},
   "outputs": [],
   "source": [
    "__data_loader__, __train_data_loader__, __validation_data_loader__, __test_data_loader__ = __data_loaders__[\"hi_en__en\"].values()"
   ]
  },
  {
   "cell_type": "code",
   "execution_count": 25,
   "id": "2d545aa3-0986-4c17-99ae-544b2e775eec",
   "metadata": {},
   "outputs": [
    {
     "name": "stdout",
     "output_type": "stream",
     "text": [
      "####################################################################################################\n",
      "Train Dataloader\n",
      "Batch Size:  4\n",
      "Number of batches:  43611\n",
      "Batch source language shape:  torch.Size([4, 39])\n",
      "Batch source language:  [\"i didn't realize i had already seen it until i started reading this. i remember it was really good. if a movie isn't good i usually don't recall it this clearly.\", 'india se pop music bajao .', 'meatloaf timer me panch minute add karen', 'kal evening ke liye sone jaane ke liye alarm set kare']\n",
      "Batch source tokens:  tensor([[    0,    76,  8037,  3036,  5741,   516,  2826,  3741,  5519,   842,\n",
      "          5461,   516, 10670,  4372,  1302,    17,   516,  4343,   842,  1609,\n",
      "          2206,  1484,    17,  1810,   265,   633, 14081,  3036,  1484,   516,\n",
      "          5026,  1313,  3036, 13284,   842,  1302, 14441,    17,     2],\n",
      "        [    0,  4262,   291,  1639,   585,   549,   322,     2,     1,     1,\n",
      "             1,     1,     1,     1,     1,     1,     1,     1,     1,     1,\n",
      "             1,     1,     1,     1,     1,     1,     1,     1,     1,     1,\n",
      "             1,     1,     1,     1,     1,     1,     1,     1,     1],\n",
      "        [    0, 13734,   396,   284,  3760,   391,   679,   437,     2,     1,\n",
      "             1,     1,     1,     1,     1,     1,     1,     1,     1,     1,\n",
      "             1,     1,     1,     1,     1,     1,     1,     1,     1,     1,\n",
      "             1,     1,     1,     1,     1,     1,     1,     1,     1],\n",
      "        [    0,   404,  1260,   271,   283,  2945,   678,   271,   283,   320,\n",
      "           334,   315,     2,     1,     1,     1,     1,     1,     1,     1,\n",
      "             1,     1,     1,     1,     1,     1,     1,     1,     1,     1,\n",
      "             1,     1,     1,     1,     1,     1,     1,     1,     1]])\n",
      "Batch source attention mask:  tensor([[1, 1, 1, 1, 1, 1, 1, 1, 1, 1, 1, 1, 1, 1, 1, 1, 1, 1, 1, 1, 1, 1, 1, 1,\n",
      "         1, 1, 1, 1, 1, 1, 1, 1, 1, 1, 1, 1, 1, 1, 1],\n",
      "        [1, 1, 1, 1, 1, 1, 1, 1, 0, 0, 0, 0, 0, 0, 0, 0, 0, 0, 0, 0, 0, 0, 0, 0,\n",
      "         0, 0, 0, 0, 0, 0, 0, 0, 0, 0, 0, 0, 0, 0, 0],\n",
      "        [1, 1, 1, 1, 1, 1, 1, 1, 1, 0, 0, 0, 0, 0, 0, 0, 0, 0, 0, 0, 0, 0, 0, 0,\n",
      "         0, 0, 0, 0, 0, 0, 0, 0, 0, 0, 0, 0, 0, 0, 0],\n",
      "        [1, 1, 1, 1, 1, 1, 1, 1, 1, 1, 1, 1, 1, 0, 0, 0, 0, 0, 0, 0, 0, 0, 0, 0,\n",
      "         0, 0, 0, 0, 0, 0, 0, 0, 0, 0, 0, 0, 0, 0, 0]])\n",
      "Batch target language shape:  torch.Size([4, 39])\n",
      "Batch target language:  [\"i didn't realize i had already seen it until i started reading this. i remember it was really good. if a movie isn't good i usually don't recall it this clearly.\", 'play pop music from india .', 'add five minutes to the meatloaf timer', 'set an alarm for tomorrow evening to go to sleep .']\n",
      "Batch target tokens:  tensor([[    0,   118,   399,    75,  4883,   939,    56,   416,   450,    24,\n",
      "           454,   939,   554,  2600,    42,     4,   939,  2145,    24,    21,\n",
      "           269,   205,     4,   114,    10,  1569,   965,    75,   205,   939,\n",
      "          2333,   218,    75,  6001,    24,    42,  2563,     4,     2],\n",
      "        [    0,  5785,  3495,   930,    31,  9473,   493,   479,     2,     1,\n",
      "             1,     1,     1,     1,     1,     1,     1,     1,     1,     1,\n",
      "             1,     1,     1,     1,     1,     1,     1,     1,     1,     1,\n",
      "             1,     1,     1,     1,     1,     1,     1,     1,     1],\n",
      "        [    0,  4917,   292,   728,     7,     5,  4884,  4082,  2001, 35809,\n",
      "             2,     1,     1,     1,     1,     1,     1,     1,     1,     1,\n",
      "             1,     1,     1,     1,     1,     1,     1,     1,     1,     1,\n",
      "             1,     1,     1,     1,     1,     1,     1,     1,     1],\n",
      "        [    0,  8738,    41,  8054,    13,  3859,  1559,     7,   213,     7,\n",
      "          3581,   479,     2,     1,     1,     1,     1,     1,     1,     1,\n",
      "             1,     1,     1,     1,     1,     1,     1,     1,     1,     1,\n",
      "             1,     1,     1,     1,     1,     1,     1,     1,     1]])\n",
      "Batch target attention mask:  tensor([[1, 1, 1, 1, 1, 1, 1, 1, 1, 1, 1, 1, 1, 1, 1, 1, 1, 1, 1, 1, 1, 1, 1, 1,\n",
      "         1, 1, 1, 1, 1, 1, 1, 1, 1, 1, 1, 1, 1, 1, 1],\n",
      "        [1, 1, 1, 1, 1, 1, 1, 1, 1, 0, 0, 0, 0, 0, 0, 0, 0, 0, 0, 0, 0, 0, 0, 0,\n",
      "         0, 0, 0, 0, 0, 0, 0, 0, 0, 0, 0, 0, 0, 0, 0],\n",
      "        [1, 1, 1, 1, 1, 1, 1, 1, 1, 1, 1, 0, 0, 0, 0, 0, 0, 0, 0, 0, 0, 0, 0, 0,\n",
      "         0, 0, 0, 0, 0, 0, 0, 0, 0, 0, 0, 0, 0, 0, 0],\n",
      "        [1, 1, 1, 1, 1, 1, 1, 1, 1, 1, 1, 1, 1, 0, 0, 0, 0, 0, 0, 0, 0, 0, 0, 0,\n",
      "         0, 0, 0, 0, 0, 0, 0, 0, 0, 0, 0, 0, 0, 0, 0]])\n",
      "Validating train laoder...\n"
     ]
    },
    {
     "name": "stderr",
     "output_type": "stream",
     "text": [
      "100%|█| 43611/43611 [00:43<00:00, 1011.87i\n"
     ]
    },
    {
     "name": "stdout",
     "output_type": "stream",
     "text": [
      "Validation of train loader successful.\n",
      "####################################################################################################\n",
      "Val Dataloader\n",
      "Batch Size:  4\n",
      "Number of batches:  811\n",
      "Validating validation laoder...\n"
     ]
    },
    {
     "name": "stderr",
     "output_type": "stream",
     "text": [
      "100%|███| 811/811 [00:31<00:00, 25.78it/s]\n"
     ]
    },
    {
     "name": "stdout",
     "output_type": "stream",
     "text": [
      "Validation of validation loader successful.\n",
      "####################################################################################################\n",
      "Test Dataloader\n",
      "Batch Size:  4\n",
      "Number of batches:  1768\n",
      "Validating test laoder...\n"
     ]
    },
    {
     "name": "stderr",
     "output_type": "stream",
     "text": [
      "100%|█| 1768/1768 [00:31<00:00, 55.84it/s]"
     ]
    },
    {
     "name": "stdout",
     "output_type": "stream",
     "text": [
      "Validation of test loader successful.\n",
      "####################################################################################################\n"
     ]
    },
    {
     "name": "stderr",
     "output_type": "stream",
     "text": [
      "\n"
     ]
    }
   ],
   "source": [
    "__data_loader__.visualize()"
   ]
  },
  {
   "cell_type": "markdown",
   "id": "f96d610c-39a2-4c44-8356-3cae031dc975",
   "metadata": {},
   "source": [
    "## Model definition"
   ]
  },
  {
   "cell_type": "code",
   "execution_count": 26,
   "id": "e8fa45c5-e36f-40ac-8739-d05f225a40a0",
   "metadata": {},
   "outputs": [
    {
     "data": {
      "text/plain": [
       "BartForConditionalGeneration(\n",
       "  (model): BartModel(\n",
       "    (shared): Embedding(50265, 1024, padding_idx=1)\n",
       "    (encoder): BartEncoder(\n",
       "      (embed_tokens): Embedding(50265, 1024, padding_idx=1)\n",
       "      (embed_positions): BartLearnedPositionalEmbedding(1026, 1024)\n",
       "      (layers): ModuleList(\n",
       "        (0-11): 12 x BartEncoderLayer(\n",
       "          (self_attn): BartAttention(\n",
       "            (k_proj): Linear(in_features=1024, out_features=1024, bias=True)\n",
       "            (v_proj): Linear(in_features=1024, out_features=1024, bias=True)\n",
       "            (q_proj): Linear(in_features=1024, out_features=1024, bias=True)\n",
       "            (out_proj): Linear(in_features=1024, out_features=1024, bias=True)\n",
       "          )\n",
       "          (self_attn_layer_norm): LayerNorm((1024,), eps=1e-05, elementwise_affine=True)\n",
       "          (activation_fn): GELUActivation()\n",
       "          (fc1): Linear(in_features=1024, out_features=4096, bias=True)\n",
       "          (fc2): Linear(in_features=4096, out_features=1024, bias=True)\n",
       "          (final_layer_norm): LayerNorm((1024,), eps=1e-05, elementwise_affine=True)\n",
       "        )\n",
       "      )\n",
       "      (layernorm_embedding): LayerNorm((1024,), eps=1e-05, elementwise_affine=True)\n",
       "    )\n",
       "    (decoder): BartDecoder(\n",
       "      (embed_tokens): Embedding(50265, 1024, padding_idx=1)\n",
       "      (embed_positions): BartLearnedPositionalEmbedding(1026, 1024)\n",
       "      (layers): ModuleList(\n",
       "        (0-11): 12 x BartDecoderLayer(\n",
       "          (self_attn): BartAttention(\n",
       "            (k_proj): Linear(in_features=1024, out_features=1024, bias=True)\n",
       "            (v_proj): Linear(in_features=1024, out_features=1024, bias=True)\n",
       "            (q_proj): Linear(in_features=1024, out_features=1024, bias=True)\n",
       "            (out_proj): Linear(in_features=1024, out_features=1024, bias=True)\n",
       "          )\n",
       "          (activation_fn): GELUActivation()\n",
       "          (self_attn_layer_norm): LayerNorm((1024,), eps=1e-05, elementwise_affine=True)\n",
       "          (encoder_attn): BartAttention(\n",
       "            (k_proj): Linear(in_features=1024, out_features=1024, bias=True)\n",
       "            (v_proj): Linear(in_features=1024, out_features=1024, bias=True)\n",
       "            (q_proj): Linear(in_features=1024, out_features=1024, bias=True)\n",
       "            (out_proj): Linear(in_features=1024, out_features=1024, bias=True)\n",
       "          )\n",
       "          (encoder_attn_layer_norm): LayerNorm((1024,), eps=1e-05, elementwise_affine=True)\n",
       "          (fc1): Linear(in_features=1024, out_features=4096, bias=True)\n",
       "          (fc2): Linear(in_features=4096, out_features=1024, bias=True)\n",
       "          (final_layer_norm): LayerNorm((1024,), eps=1e-05, elementwise_affine=True)\n",
       "        )\n",
       "      )\n",
       "      (layernorm_embedding): LayerNorm((1024,), eps=1e-05, elementwise_affine=True)\n",
       "    )\n",
       "  )\n",
       "  (lm_head): Linear(in_features=1024, out_features=50265, bias=False)\n",
       ")"
      ]
     },
     "execution_count": 26,
     "metadata": {},
     "output_type": "execute_result"
    }
   ],
   "source": [
    "__model__ = BartForConditionalGeneration()\n",
    "__model__.model"
   ]
  },
  {
   "cell_type": "code",
   "execution_count": 27,
   "id": "39520ff4-165a-42e8-af2d-cc0b7d958c51",
   "metadata": {},
   "outputs": [
    {
     "name": "stdout",
     "output_type": "stream",
     "text": [
      "Model has a total of 406291456 number of parameters\n",
      "Model encoder input size:  torch.Size([8, 14])\n",
      "Model decoder input size:  torch.Size([8, 16])\n",
      "Model output type:  <class 'transformers.modeling_outputs.Seq2SeqLMOutput'>\n",
      "Model output size:  torch.Size([8, 16, 50265])\n",
      "Model output:\n",
      " tensor([[[ 1.5922e+01, -1.9051e+00,  6.7314e+00,  ..., -4.6098e-01,\n",
      "          -8.4651e-01,  3.5367e+00],\n",
      "         [-2.0321e+01, -3.1525e+00,  4.1280e+00,  ..., -1.8069e+00,\n",
      "          -1.8926e+00, -1.7960e+00],\n",
      "         [-1.2867e+01, -3.0857e+00,  5.3687e+00,  ..., -1.1396e+00,\n",
      "          -2.2541e+00,  8.7463e-01],\n",
      "         ...,\n",
      "         [-6.5658e+00, -3.5609e+00,  5.4603e+00,  ..., -2.3661e+00,\n",
      "          -3.4459e+00, -2.0179e+00],\n",
      "         [-7.9376e+00, -2.7581e+00,  5.1347e+00,  ..., -1.4747e+00,\n",
      "          -2.3998e+00, -1.3976e+00],\n",
      "         [-1.1249e+01, -3.4873e+00,  4.9320e+00,  ..., -2.0877e+00,\n",
      "          -2.6862e+00, -2.1638e+00]],\n",
      "\n",
      "        [[ 1.9488e+01, -1.2134e+00,  9.2017e+00,  ...,  5.9569e-01,\n",
      "           6.1789e-01,  5.3983e+00],\n",
      "         [-2.6264e+01, -2.9261e+00,  6.4498e+00,  ...,  6.5465e-02,\n",
      "           2.5086e-01, -2.2888e+00],\n",
      "         [-5.9136e+00, -2.4002e+00,  6.8526e+00,  ..., -3.6748e-01,\n",
      "          -5.6276e-01,  1.4323e+00],\n",
      "         ...,\n",
      "         [-1.4349e-01, -1.5430e+00,  6.6675e+00,  ...,  8.9785e-01,\n",
      "           1.5118e+00,  4.0193e+00],\n",
      "         [-3.3771e+00, -2.3017e+00,  5.2990e+00,  ...,  2.3892e-02,\n",
      "           2.5601e-01,  2.3005e+00],\n",
      "         [-3.4309e+00, -1.6921e+00,  6.7807e+00,  ...,  6.3115e-01,\n",
      "           1.1738e+00,  4.7801e+00]],\n",
      "\n",
      "        [[ 1.3822e+01, -1.5921e+00,  6.2235e+00,  ...,  7.6462e-01,\n",
      "          -2.8767e-01,  6.2782e+00],\n",
      "         [-8.9721e+00, -2.8609e+00,  4.8451e+00,  ..., -7.4992e-01,\n",
      "          -1.7075e+00, -8.3623e-01],\n",
      "         [ 3.4090e-01, -2.1312e+00,  5.8586e+00,  ..., -2.2196e-01,\n",
      "          -3.6678e-01,  1.6725e+00],\n",
      "         ...,\n",
      "         [-3.9451e+01, -5.9069e-01,  4.5920e+00,  ...,  3.9272e+00,\n",
      "           3.3954e+00,  3.5266e+00],\n",
      "         [-1.2651e+00, -1.6112e+00,  7.2776e+00,  ...,  9.3317e-01,\n",
      "           2.6334e-01,  2.1515e+00],\n",
      "         [-6.6948e+00, -2.2864e+00,  7.0191e+00,  ...,  2.9775e-01,\n",
      "          -4.6478e-01,  1.5745e+00]],\n",
      "\n",
      "        ...,\n",
      "\n",
      "        [[ 9.8866e+00, -1.3934e+00,  6.2868e+00,  ..., -1.9967e+00,\n",
      "          -1.6332e+00,  5.7774e+00],\n",
      "         [-1.5901e+01, -2.7490e+00,  5.4799e+00,  ..., -2.0727e+00,\n",
      "          -1.9312e+00, -1.9090e-01],\n",
      "         [-1.2189e+01, -2.2151e+00,  5.1016e+00,  ..., -1.6847e+00,\n",
      "          -1.4561e+00,  3.9437e+00],\n",
      "         ...,\n",
      "         [-5.3219e+00, -1.6371e+00,  8.7575e+00,  ..., -5.3083e-01,\n",
      "          -4.0153e-01,  1.3450e+00],\n",
      "         [-2.9183e+00, -1.6811e+00,  8.7118e+00,  ..., -7.8848e-01,\n",
      "          -5.8758e-01,  1.2690e+00],\n",
      "         [-7.5936e+01, -1.1831e+00,  4.4791e+00,  ...,  3.9016e+00,\n",
      "           3.6984e+00,  1.4942e+00]],\n",
      "\n",
      "        [[ 1.5724e+01, -1.7496e+00,  5.8177e+00,  ..., -1.5959e+00,\n",
      "          -1.8782e+00,  1.3780e+00],\n",
      "         [-1.0708e+01, -2.5360e+00,  5.6346e+00,  ..., -1.1761e+00,\n",
      "          -2.1976e-01, -1.7117e+00],\n",
      "         [-3.0666e+00, -2.8113e+00,  4.3330e+00,  ..., -1.5383e+00,\n",
      "          -1.2235e+00, -1.4351e+00],\n",
      "         ...,\n",
      "         [-4.1459e+00, -2.0284e+00,  7.2301e+00,  ..., -1.2406e+00,\n",
      "          -1.4346e+00, -3.2240e-01],\n",
      "         [-6.8352e+00, -2.1779e+00,  6.6121e+00,  ..., -7.9424e-01,\n",
      "          -9.7794e-01, -8.3534e-01],\n",
      "         [-9.6766e-01, -1.7456e+00,  8.5931e+00,  ..., -1.0877e+00,\n",
      "          -1.1341e+00,  7.0052e-01]],\n",
      "\n",
      "        [[ 1.6220e+01, -1.4343e+00,  7.5817e+00,  ..., -1.2399e+00,\n",
      "          -1.4629e+00,  3.3751e+00],\n",
      "         [-1.4021e+01, -2.7037e+00,  7.9942e+00,  ..., -2.9236e+00,\n",
      "          -7.8303e-01,  9.2900e-01],\n",
      "         [-1.6751e+01, -3.0082e+00,  8.7461e+00,  ..., -2.9858e+00,\n",
      "          -2.5284e+00,  4.5756e+00],\n",
      "         ...,\n",
      "         [-4.6418e+00, -1.6484e+00,  1.0318e+01,  ..., -1.7438e+00,\n",
      "          -1.4431e+00,  1.0422e+01],\n",
      "         [-8.2150e+00, -1.8682e+00,  8.7714e+00,  ..., -2.1101e+00,\n",
      "          -2.2777e+00,  9.8887e+00],\n",
      "         [-1.1441e+01, -1.5670e+00,  7.2560e+00,  ...,  3.6457e-01,\n",
      "          -4.1508e-01,  1.0525e+01]]], grad_fn=<AddBackward0>)\n"
     ]
    }
   ],
   "source": [
    "__batch_size__ = 8\n",
    "__en_seq_length__ = random.randint(13, 23)\n",
    "__de_seq_length__ = random.randint(13, 23)\n",
    "__encoder_input__ = torch.randint(low=0, high=hi_en_bart_tokenizer.vocab_size, size=(__batch_size__, __en_seq_length__))\n",
    "__decoder_input__ = torch.randint(low=0, high=en_bart_tokenizer.vocab_size, size=(__batch_size__, __de_seq_length__))\n",
    "__out__ = __model__.model(input_ids=__encoder_input__, decoder_input_ids=__decoder_input__, return_dict=True)\n",
    "print(f\"Model has a total of {__model__.model.num_parameters()} number of parameters\")\n",
    "print(\"Model encoder input size: \", __encoder_input__.size())\n",
    "print(\"Model decoder input size: \", __decoder_input__.size())\n",
    "print(\"Model output type: \", type(__out__))\n",
    "print(\"Model output size: \", __out__.logits.size())\n",
    "print(\"Model output:\\n\", __out__.logits)"
   ]
  }
 ],
 "metadata": {
  "kernelspec": {
   "display_name": "Python 3 (ipykernel)",
   "language": "python",
   "name": "python3"
  },
  "language_info": {
   "codemirror_mode": {
    "name": "ipython",
    "version": 3
   },
   "file_extension": ".py",
   "mimetype": "text/x-python",
   "name": "python",
   "nbconvert_exporter": "python",
   "pygments_lexer": "ipython3",
   "version": "3.9.18"
  }
 },
 "nbformat": 4,
 "nbformat_minor": 5
}

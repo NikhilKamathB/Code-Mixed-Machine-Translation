{
 "cells": [
  {
   "cell_type": "markdown",
   "id": "a797b411-ba32-4a49-8254-fd3b57caf76c",
   "metadata": {},
   "source": [
    "## Importing libraries and modules"
   ]
  },
  {
   "cell_type": "code",
   "execution_count": 1,
   "id": "1bd2df09-6a25-4686-b1ff-392d729c4030",
   "metadata": {},
   "outputs": [],
   "source": [
    "# Enable auto-reload\n",
    "%load_ext autoreload\n",
    "%autoreload 2"
   ]
  },
  {
   "cell_type": "code",
   "execution_count": 2,
   "id": "ddc02188-33e9-4af6-877e-7b343c69de5f",
   "metadata": {},
   "outputs": [],
   "source": [
    "# Suppress warnings\n",
    "import warnings\n",
    "warnings.filterwarnings(\"ignore\")\n",
    "\n",
    "# Add one level up directory to the path\n",
    "import sys\n",
    "sys.path.append(\"..\")\n",
    "\n",
    "# Import libraries\n",
    "import torch\n",
    "import random\n",
    "\n",
    "# Import custom modules\n",
    "from src.data import *\n",
    "from src.data.utils import get_dataset\n",
    "from src.data.preprocess import clean_text\n",
    "from src.data.tokenizer import CustomBartTokenizer\n",
    "from src.machine_translation.net import CodeMixedModel\n",
    "from src.machine_translation.utils import get_data_loader_models\n",
    "from src.machine_translation.models.bart_conditional import BartForConditionalGeneration"
   ]
  },
  {
   "cell_type": "markdown",
   "id": "7afb9724-cdf5-458c-9ba9-854da0b39806",
   "metadata": {},
   "source": [
    "## Data acquisition, cleaning and processing"
   ]
  },
  {
   "cell_type": "code",
   "execution_count": 3,
   "id": "c22ec356-0bbb-4f7b-8aa7-b7d5d7ba8879",
   "metadata": {},
   "outputs": [
    {
     "name": "stdout",
     "output_type": "stream",
     "text": [
      "CPU times: user 4.47 s, sys: 172 ms, total: 4.64 s\n",
      "Wall time: 7.77 s\n"
     ]
    }
   ],
   "source": [
    "%%time\n",
    "train_df, validation_df, test_df = get_dataset()"
   ]
  },
  {
   "cell_type": "code",
   "execution_count": 4,
   "id": "d51e7d88-8c0b-4417-a25c-426591eb691f",
   "metadata": {},
   "outputs": [
    {
     "name": "stdout",
     "output_type": "stream",
     "text": [
      "<class 'pandas.core.series.Series'>\n",
      "Index: 174443 entries, 0 to 8059\n",
      "Series name: en\n",
      "Non-Null Count   Dtype \n",
      "--------------   ----- \n",
      "174443 non-null  object\n",
      "dtypes: object(1)\n",
      "memory usage: 2.7+ MB\n"
     ]
    }
   ],
   "source": [
    "train_df.en.info()"
   ]
  },
  {
   "cell_type": "code",
   "execution_count": 5,
   "id": "65e76ede-e303-4558-8f66-810de6ef9330",
   "metadata": {},
   "outputs": [
    {
     "data": {
      "text/html": [
       "<div>\n",
       "<style scoped>\n",
       "    .dataframe tbody tr th:only-of-type {\n",
       "        vertical-align: middle;\n",
       "    }\n",
       "\n",
       "    .dataframe tbody tr th {\n",
       "        vertical-align: top;\n",
       "    }\n",
       "\n",
       "    .dataframe thead th {\n",
       "        text-align: right;\n",
       "    }\n",
       "</style>\n",
       "<table border=\"1\" class=\"dataframe\">\n",
       "  <thead>\n",
       "    <tr style=\"text-align: right;\">\n",
       "      <th></th>\n",
       "      <th>hi_en</th>\n",
       "      <th>en</th>\n",
       "    </tr>\n",
       "  </thead>\n",
       "  <tbody>\n",
       "    <tr>\n",
       "      <th>0</th>\n",
       "      <td>film ka kya naam hai</td>\n",
       "      <td>What's the name of the movie</td>\n",
       "    </tr>\n",
       "    <tr>\n",
       "      <th>1</th>\n",
       "      <td>namaste, sada hua tomatoes score mahaan hai, l...</td>\n",
       "      <td>Hi, the rotten tomatoes score is great but the...</td>\n",
       "    </tr>\n",
       "    <tr>\n",
       "      <th>2</th>\n",
       "      <td>kya aapako lagata hai ki aapako film pasand aa...</td>\n",
       "      <td>Do you think you will like the movie</td>\n",
       "    </tr>\n",
       "    <tr>\n",
       "      <th>3</th>\n",
       "      <td>yah kis tarah kee philm hai</td>\n",
       "      <td>What kind of movie is it</td>\n",
       "    </tr>\n",
       "    <tr>\n",
       "      <th>4</th>\n",
       "      <td>film  kab banee thee?</td>\n",
       "      <td>when was the movie made?</td>\n",
       "    </tr>\n",
       "    <tr>\n",
       "      <th>...</th>\n",
       "      <td>...</td>\n",
       "      <td>...</td>\n",
       "    </tr>\n",
       "    <tr>\n",
       "      <th>8055</th>\n",
       "      <td>Thik hai\\n</td>\n",
       "      <td>Ok.</td>\n",
       "    </tr>\n",
       "    <tr>\n",
       "      <th>8056</th>\n",
       "      <td>Thik hai bhai\\n</td>\n",
       "      <td>ok bro</td>\n",
       "    </tr>\n",
       "    <tr>\n",
       "      <th>8057</th>\n",
       "      <td>Kya ham chalu kar sakte hai?\\n</td>\n",
       "      <td>shall we continue?</td>\n",
       "    </tr>\n",
       "    <tr>\n",
       "      <th>8058</th>\n",
       "      <td>Kya aapko pasand hai hamare saath\\n</td>\n",
       "      <td>do you like we can</td>\n",
       "    </tr>\n",
       "    <tr>\n",
       "      <th>8059</th>\n",
       "      <td>Haa mere pass pandrah thanks hai\\n</td>\n",
       "      <td>Yeah I have fifteen thanks.</td>\n",
       "    </tr>\n",
       "  </tbody>\n",
       "</table>\n",
       "<p>174443 rows × 2 columns</p>\n",
       "</div>"
      ],
      "text/plain": [
       "                                                  hi_en  \\\n",
       "0                                  film ka kya naam hai   \n",
       "1     namaste, sada hua tomatoes score mahaan hai, l...   \n",
       "2     kya aapako lagata hai ki aapako film pasand aa...   \n",
       "3                           yah kis tarah kee philm hai   \n",
       "4                                 film  kab banee thee?   \n",
       "...                                                 ...   \n",
       "8055                                         Thik hai\\n   \n",
       "8056                                    Thik hai bhai\\n   \n",
       "8057                     Kya ham chalu kar sakte hai?\\n   \n",
       "8058                Kya aapko pasand hai hamare saath\\n   \n",
       "8059                 Haa mere pass pandrah thanks hai\\n   \n",
       "\n",
       "                                                     en  \n",
       "0                          What's the name of the movie  \n",
       "1     Hi, the rotten tomatoes score is great but the...  \n",
       "2                  Do you think you will like the movie  \n",
       "3                              What kind of movie is it  \n",
       "4                              when was the movie made?  \n",
       "...                                                 ...  \n",
       "8055                                                Ok.  \n",
       "8056                                             ok bro  \n",
       "8057                                 shall we continue?  \n",
       "8058                                 do you like we can  \n",
       "8059                        Yeah I have fifteen thanks.  \n",
       "\n",
       "[174443 rows x 2 columns]"
      ]
     },
     "execution_count": 5,
     "metadata": {},
     "output_type": "execute_result"
    }
   ],
   "source": [
    "train_df"
   ]
  },
  {
   "cell_type": "code",
   "execution_count": 6,
   "id": "b4136fec-19ad-4643-83c6-3301a0388e2f",
   "metadata": {},
   "outputs": [
    {
     "data": {
      "text/html": [
       "<div>\n",
       "<style scoped>\n",
       "    .dataframe tbody tr th:only-of-type {\n",
       "        vertical-align: middle;\n",
       "    }\n",
       "\n",
       "    .dataframe tbody tr th {\n",
       "        vertical-align: top;\n",
       "    }\n",
       "\n",
       "    .dataframe thead th {\n",
       "        text-align: right;\n",
       "    }\n",
       "</style>\n",
       "<table border=\"1\" class=\"dataframe\">\n",
       "  <thead>\n",
       "    <tr style=\"text-align: right;\">\n",
       "      <th></th>\n",
       "      <th>hi_en</th>\n",
       "      <th>en</th>\n",
       "    </tr>\n",
       "  </thead>\n",
       "  <tbody>\n",
       "    <tr>\n",
       "      <th>0</th>\n",
       "      <td>movie kis baare me hai?</td>\n",
       "      <td>What is the movie about?</td>\n",
       "    </tr>\n",
       "    <tr>\n",
       "      <th>1</th>\n",
       "      <td>Movie ek chhote bacche Kevin k baare me hai ji...</td>\n",
       "      <td>the movie is about a young child named Kevin w...</td>\n",
       "    </tr>\n",
       "    <tr>\n",
       "      <th>2</th>\n",
       "      <td>Kya wo jaan bhuj k abandon karte hai?</td>\n",
       "      <td>Did they abandon him on purpose?</td>\n",
       "    </tr>\n",
       "    <tr>\n",
       "      <th>3</th>\n",
       "      <td>nahi, wo uska track lose kardete hai kyuki bah...</td>\n",
       "      <td>no they had lost track of him since they had m...</td>\n",
       "    </tr>\n",
       "    <tr>\n",
       "      <th>4</th>\n",
       "      <td>Kya wo realize karte hai k wo chhut gaya aur u...</td>\n",
       "      <td>Did they realize they lost track of him and co...</td>\n",
       "    </tr>\n",
       "    <tr>\n",
       "      <th>...</th>\n",
       "      <td>...</td>\n",
       "      <td>...</td>\n",
       "    </tr>\n",
       "    <tr>\n",
       "      <th>936</th>\n",
       "      <td>Sunkar good movie hai. Kya ham finish kar skat...</td>\n",
       "      <td>Sounds like a good movie. Can we finish now?</td>\n",
       "    </tr>\n",
       "    <tr>\n",
       "      <th>937</th>\n",
       "      <td>Yep. Thanks baat karne ke liye\\n</td>\n",
       "      <td>Yep. Thanks for chatting</td>\n",
       "    </tr>\n",
       "    <tr>\n",
       "      <th>938</th>\n",
       "      <td>Thanks, mei dekhati hui. Achi baat hai\\n</td>\n",
       "      <td>thanks, I will watch it. SOunds good</td>\n",
       "    </tr>\n",
       "    <tr>\n",
       "      <th>940</th>\n",
       "      <td>kya tumhe movie Despicable Me pasand hai?\\n</td>\n",
       "      <td>Did you like the movie Despicable Me?</td>\n",
       "    </tr>\n",
       "    <tr>\n",
       "      <th>941</th>\n",
       "      <td>mujhe nahi lagta ki ye movie 2010 me aayi thi,...</td>\n",
       "      <td>I did not realize this movie came out in 2010,...</td>\n",
       "    </tr>\n",
       "  </tbody>\n",
       "</table>\n",
       "<p>3243 rows × 2 columns</p>\n",
       "</div>"
      ],
      "text/plain": [
       "                                                 hi_en  \\\n",
       "0                              movie kis baare me hai?   \n",
       "1    Movie ek chhote bacche Kevin k baare me hai ji...   \n",
       "2                Kya wo jaan bhuj k abandon karte hai?   \n",
       "3    nahi, wo uska track lose kardete hai kyuki bah...   \n",
       "4    Kya wo realize karte hai k wo chhut gaya aur u...   \n",
       "..                                                 ...   \n",
       "936  Sunkar good movie hai. Kya ham finish kar skat...   \n",
       "937                   Yep. Thanks baat karne ke liye\\n   \n",
       "938           Thanks, mei dekhati hui. Achi baat hai\\n   \n",
       "940        kya tumhe movie Despicable Me pasand hai?\\n   \n",
       "941  mujhe nahi lagta ki ye movie 2010 me aayi thi,...   \n",
       "\n",
       "                                                    en  \n",
       "0                             What is the movie about?  \n",
       "1    the movie is about a young child named Kevin w...  \n",
       "2                     Did they abandon him on purpose?  \n",
       "3    no they had lost track of him since they had m...  \n",
       "4    Did they realize they lost track of him and co...  \n",
       "..                                                 ...  \n",
       "936       Sounds like a good movie. Can we finish now?  \n",
       "937                           Yep. Thanks for chatting  \n",
       "938               thanks, I will watch it. SOunds good  \n",
       "940              Did you like the movie Despicable Me?  \n",
       "941  I did not realize this movie came out in 2010,...  \n",
       "\n",
       "[3243 rows x 2 columns]"
      ]
     },
     "execution_count": 6,
     "metadata": {},
     "output_type": "execute_result"
    }
   ],
   "source": [
    "validation_df"
   ]
  },
  {
   "cell_type": "code",
   "execution_count": 7,
   "id": "8f002715-2359-4b51-b7b9-13e0c2738b21",
   "metadata": {},
   "outputs": [
    {
     "data": {
      "text/html": [
       "<div>\n",
       "<style scoped>\n",
       "    .dataframe tbody tr th:only-of-type {\n",
       "        vertical-align: middle;\n",
       "    }\n",
       "\n",
       "    .dataframe tbody tr th {\n",
       "        vertical-align: top;\n",
       "    }\n",
       "\n",
       "    .dataframe thead th {\n",
       "        text-align: right;\n",
       "    }\n",
       "</style>\n",
       "<table border=\"1\" class=\"dataframe\">\n",
       "  <thead>\n",
       "    <tr style=\"text-align: right;\">\n",
       "      <th></th>\n",
       "      <th>hi_en</th>\n",
       "      <th>en</th>\n",
       "    </tr>\n",
       "  </thead>\n",
       "  <tbody>\n",
       "    <tr>\n",
       "      <th>0</th>\n",
       "      <td>oye ledki kitni mazakiya movie dekh rhi ho ?</td>\n",
       "      <td>ah mean girls. such a funny movie. have you se...</td>\n",
       "    </tr>\n",
       "    <tr>\n",
       "      <th>1</th>\n",
       "      <td>ha muje bhi hassi mazak ki movies pasand par y...</td>\n",
       "      <td>Yeah, even though I love comedies, this wasn't...</td>\n",
       "    </tr>\n",
       "    <tr>\n",
       "      <th>2</th>\n",
       "      <td>kese tina ka jhuti writing isme achi the usne ...</td>\n",
       "      <td>how come. thought tina fey's writing was fanta...</td>\n",
       "    </tr>\n",
       "    <tr>\n",
       "      <th>3</th>\n",
       "      <td>muje kahani bhute achi lagi aur unhone ise dac...</td>\n",
       "      <td>I loved the story &amp; how true they made it in h...</td>\n",
       "    </tr>\n",
       "    <tr>\n",
       "      <th>4</th>\n",
       "      <td>ab samja muje nhi pta tha ki aap sahi admi hai...</td>\n",
       "      <td>I see. i didn't realize it was 14 years ago. y...</td>\n",
       "    </tr>\n",
       "    <tr>\n",
       "      <th>...</th>\n",
       "      <td>...</td>\n",
       "      <td>...</td>\n",
       "    </tr>\n",
       "    <tr>\n",
       "      <th>6508</th>\n",
       "      <td>alarm ko abhi stop kare</td>\n",
       "      <td>Stop alarm now</td>\n",
       "    </tr>\n",
       "    <tr>\n",
       "      <th>6509</th>\n",
       "      <td>Har ghante ke liye alarm set kare</td>\n",
       "      <td>set alarm every hour</td>\n",
       "    </tr>\n",
       "    <tr>\n",
       "      <th>6510</th>\n",
       "      <td>Bobby ko text kare</td>\n",
       "      <td>text Bobby</td>\n",
       "    </tr>\n",
       "    <tr>\n",
       "      <th>6511</th>\n",
       "      <td>Muje shaam 6 baje laundry ko pick up karne ke ...</td>\n",
       "      <td>remind me to pick up laundry at 6 pm</td>\n",
       "    </tr>\n",
       "    <tr>\n",
       "      <th>6512</th>\n",
       "      <td>Kya aap muje har subah 6 baje apne baccho ko j...</td>\n",
       "      <td>Can you remind me to wake my kids up every mor...</td>\n",
       "    </tr>\n",
       "  </tbody>\n",
       "</table>\n",
       "<p>7072 rows × 2 columns</p>\n",
       "</div>"
      ],
      "text/plain": [
       "                                                  hi_en  \\\n",
       "0          oye ledki kitni mazakiya movie dekh rhi ho ?   \n",
       "1     ha muje bhi hassi mazak ki movies pasand par y...   \n",
       "2     kese tina ka jhuti writing isme achi the usne ...   \n",
       "3     muje kahani bhute achi lagi aur unhone ise dac...   \n",
       "4     ab samja muje nhi pta tha ki aap sahi admi hai...   \n",
       "...                                                 ...   \n",
       "6508                            alarm ko abhi stop kare   \n",
       "6509                  Har ghante ke liye alarm set kare   \n",
       "6510                                 Bobby ko text kare   \n",
       "6511  Muje shaam 6 baje laundry ko pick up karne ke ...   \n",
       "6512  Kya aap muje har subah 6 baje apne baccho ko j...   \n",
       "\n",
       "                                                     en  \n",
       "0     ah mean girls. such a funny movie. have you se...  \n",
       "1     Yeah, even though I love comedies, this wasn't...  \n",
       "2     how come. thought tina fey's writing was fanta...  \n",
       "3     I loved the story & how true they made it in h...  \n",
       "4     I see. i didn't realize it was 14 years ago. y...  \n",
       "...                                                 ...  \n",
       "6508                                     Stop alarm now  \n",
       "6509                               set alarm every hour  \n",
       "6510                                         text Bobby  \n",
       "6511               remind me to pick up laundry at 6 pm  \n",
       "6512  Can you remind me to wake my kids up every mor...  \n",
       "\n",
       "[7072 rows x 2 columns]"
      ]
     },
     "execution_count": 7,
     "metadata": {},
     "output_type": "execute_result"
    }
   ],
   "source": [
    "test_df"
   ]
  },
  {
   "cell_type": "code",
   "execution_count": 8,
   "id": "9e93f1af-c168-4d30-8d38-f08a1245b594",
   "metadata": {},
   "outputs": [
    {
     "name": "stdout",
     "output_type": "stream",
     "text": [
      "CPU times: user 2.16 s, sys: 3.3 ms, total: 2.16 s\n",
      "Wall time: 2.18 s\n"
     ]
    },
    {
     "data": {
      "text/html": [
       "<div>\n",
       "<style scoped>\n",
       "    .dataframe tbody tr th:only-of-type {\n",
       "        vertical-align: middle;\n",
       "    }\n",
       "\n",
       "    .dataframe tbody tr th {\n",
       "        vertical-align: top;\n",
       "    }\n",
       "\n",
       "    .dataframe thead th {\n",
       "        text-align: right;\n",
       "    }\n",
       "</style>\n",
       "<table border=\"1\" class=\"dataframe\">\n",
       "  <thead>\n",
       "    <tr style=\"text-align: right;\">\n",
       "      <th></th>\n",
       "      <th>hi_en</th>\n",
       "      <th>en</th>\n",
       "    </tr>\n",
       "  </thead>\n",
       "  <tbody>\n",
       "    <tr>\n",
       "      <th>0</th>\n",
       "      <td>film ka kya naam hai</td>\n",
       "      <td>what's the name of the movie</td>\n",
       "    </tr>\n",
       "    <tr>\n",
       "      <th>1</th>\n",
       "      <td>namaste, sada hua tomatoes score mahaan hai, l...</td>\n",
       "      <td>hi, the rotten tomatoes score is great but the...</td>\n",
       "    </tr>\n",
       "    <tr>\n",
       "      <th>2</th>\n",
       "      <td>kya aapako lagata hai ki aapako film pasand aa...</td>\n",
       "      <td>do you think you will like the movie</td>\n",
       "    </tr>\n",
       "    <tr>\n",
       "      <th>3</th>\n",
       "      <td>yah kis tarah kee philm hai</td>\n",
       "      <td>what kind of movie is it</td>\n",
       "    </tr>\n",
       "    <tr>\n",
       "      <th>4</th>\n",
       "      <td>film kab banee thee?</td>\n",
       "      <td>when was the movie made?</td>\n",
       "    </tr>\n",
       "    <tr>\n",
       "      <th>...</th>\n",
       "      <td>...</td>\n",
       "      <td>...</td>\n",
       "    </tr>\n",
       "    <tr>\n",
       "      <th>8055</th>\n",
       "      <td>thik hai</td>\n",
       "      <td>ok.</td>\n",
       "    </tr>\n",
       "    <tr>\n",
       "      <th>8056</th>\n",
       "      <td>thik hai bhai</td>\n",
       "      <td>ok bro</td>\n",
       "    </tr>\n",
       "    <tr>\n",
       "      <th>8057</th>\n",
       "      <td>kya ham chalu kar sakte hai?</td>\n",
       "      <td>shall we continue?</td>\n",
       "    </tr>\n",
       "    <tr>\n",
       "      <th>8058</th>\n",
       "      <td>kya aapko pasand hai hamare saath</td>\n",
       "      <td>do you like we can</td>\n",
       "    </tr>\n",
       "    <tr>\n",
       "      <th>8059</th>\n",
       "      <td>haa mere pass pandrah thanks hai</td>\n",
       "      <td>yeah i have fifteen thanks.</td>\n",
       "    </tr>\n",
       "  </tbody>\n",
       "</table>\n",
       "<p>174443 rows × 2 columns</p>\n",
       "</div>"
      ],
      "text/plain": [
       "                                                  hi_en  \\\n",
       "0                                  film ka kya naam hai   \n",
       "1     namaste, sada hua tomatoes score mahaan hai, l...   \n",
       "2     kya aapako lagata hai ki aapako film pasand aa...   \n",
       "3                           yah kis tarah kee philm hai   \n",
       "4                                  film kab banee thee?   \n",
       "...                                                 ...   \n",
       "8055                                           thik hai   \n",
       "8056                                      thik hai bhai   \n",
       "8057                       kya ham chalu kar sakte hai?   \n",
       "8058                  kya aapko pasand hai hamare saath   \n",
       "8059                   haa mere pass pandrah thanks hai   \n",
       "\n",
       "                                                     en  \n",
       "0                          what's the name of the movie  \n",
       "1     hi, the rotten tomatoes score is great but the...  \n",
       "2                  do you think you will like the movie  \n",
       "3                              what kind of movie is it  \n",
       "4                              when was the movie made?  \n",
       "...                                                 ...  \n",
       "8055                                                ok.  \n",
       "8056                                             ok bro  \n",
       "8057                                 shall we continue?  \n",
       "8058                                 do you like we can  \n",
       "8059                        yeah i have fifteen thanks.  \n",
       "\n",
       "[174443 rows x 2 columns]"
      ]
     },
     "execution_count": 8,
     "metadata": {},
     "output_type": "execute_result"
    }
   ],
   "source": [
    "%%time\n",
    "train_df = train_df.applymap(clean_text)\n",
    "train_df"
   ]
  },
  {
   "cell_type": "code",
   "execution_count": 9,
   "id": "1016d417-f744-4caa-9773-e968eafc35c8",
   "metadata": {},
   "outputs": [
    {
     "name": "stdout",
     "output_type": "stream",
     "text": [
      "CPU times: user 43.6 ms, sys: 664 µs, total: 44.3 ms\n",
      "Wall time: 43.9 ms\n"
     ]
    },
    {
     "data": {
      "text/html": [
       "<div>\n",
       "<style scoped>\n",
       "    .dataframe tbody tr th:only-of-type {\n",
       "        vertical-align: middle;\n",
       "    }\n",
       "\n",
       "    .dataframe tbody tr th {\n",
       "        vertical-align: top;\n",
       "    }\n",
       "\n",
       "    .dataframe thead th {\n",
       "        text-align: right;\n",
       "    }\n",
       "</style>\n",
       "<table border=\"1\" class=\"dataframe\">\n",
       "  <thead>\n",
       "    <tr style=\"text-align: right;\">\n",
       "      <th></th>\n",
       "      <th>hi_en</th>\n",
       "      <th>en</th>\n",
       "    </tr>\n",
       "  </thead>\n",
       "  <tbody>\n",
       "    <tr>\n",
       "      <th>0</th>\n",
       "      <td>movie kis baare me hai?</td>\n",
       "      <td>what is the movie about?</td>\n",
       "    </tr>\n",
       "    <tr>\n",
       "      <th>1</th>\n",
       "      <td>movie ek chhote bacche kevin k baare me hai ji...</td>\n",
       "      <td>the movie is about a young child named kevin w...</td>\n",
       "    </tr>\n",
       "    <tr>\n",
       "      <th>2</th>\n",
       "      <td>kya wo jaan bhuj k abandon karte hai?</td>\n",
       "      <td>did they abandon him on purpose?</td>\n",
       "    </tr>\n",
       "    <tr>\n",
       "      <th>3</th>\n",
       "      <td>nahi, wo uska track lose kardete hai kyuki bah...</td>\n",
       "      <td>no they had lost track of him since they had m...</td>\n",
       "    </tr>\n",
       "    <tr>\n",
       "      <th>4</th>\n",
       "      <td>kya wo realize karte hai k wo chhut gaya aur u...</td>\n",
       "      <td>did they realize they lost track of him and co...</td>\n",
       "    </tr>\n",
       "    <tr>\n",
       "      <th>...</th>\n",
       "      <td>...</td>\n",
       "      <td>...</td>\n",
       "    </tr>\n",
       "    <tr>\n",
       "      <th>936</th>\n",
       "      <td>sunkar good movie hai. kya ham finish kar skat...</td>\n",
       "      <td>sounds like a good movie. can we finish now?</td>\n",
       "    </tr>\n",
       "    <tr>\n",
       "      <th>937</th>\n",
       "      <td>yep. thanks baat karne ke liye</td>\n",
       "      <td>yep. thanks for chatting</td>\n",
       "    </tr>\n",
       "    <tr>\n",
       "      <th>938</th>\n",
       "      <td>thanks, mei dekhati hui. achi baat hai</td>\n",
       "      <td>thanks, i will watch it. sounds good</td>\n",
       "    </tr>\n",
       "    <tr>\n",
       "      <th>940</th>\n",
       "      <td>kya tumhe movie despicable me pasand hai?</td>\n",
       "      <td>did you like the movie despicable me?</td>\n",
       "    </tr>\n",
       "    <tr>\n",
       "      <th>941</th>\n",
       "      <td>mujhe nahi lagta ki ye movie 2010 me aayi thi,...</td>\n",
       "      <td>i did not realize this movie came out in 2010,...</td>\n",
       "    </tr>\n",
       "  </tbody>\n",
       "</table>\n",
       "<p>3243 rows × 2 columns</p>\n",
       "</div>"
      ],
      "text/plain": [
       "                                                 hi_en  \\\n",
       "0                              movie kis baare me hai?   \n",
       "1    movie ek chhote bacche kevin k baare me hai ji...   \n",
       "2                kya wo jaan bhuj k abandon karte hai?   \n",
       "3    nahi, wo uska track lose kardete hai kyuki bah...   \n",
       "4    kya wo realize karte hai k wo chhut gaya aur u...   \n",
       "..                                                 ...   \n",
       "936  sunkar good movie hai. kya ham finish kar skat...   \n",
       "937                     yep. thanks baat karne ke liye   \n",
       "938             thanks, mei dekhati hui. achi baat hai   \n",
       "940          kya tumhe movie despicable me pasand hai?   \n",
       "941  mujhe nahi lagta ki ye movie 2010 me aayi thi,...   \n",
       "\n",
       "                                                    en  \n",
       "0                             what is the movie about?  \n",
       "1    the movie is about a young child named kevin w...  \n",
       "2                     did they abandon him on purpose?  \n",
       "3    no they had lost track of him since they had m...  \n",
       "4    did they realize they lost track of him and co...  \n",
       "..                                                 ...  \n",
       "936       sounds like a good movie. can we finish now?  \n",
       "937                           yep. thanks for chatting  \n",
       "938               thanks, i will watch it. sounds good  \n",
       "940              did you like the movie despicable me?  \n",
       "941  i did not realize this movie came out in 2010,...  \n",
       "\n",
       "[3243 rows x 2 columns]"
      ]
     },
     "execution_count": 9,
     "metadata": {},
     "output_type": "execute_result"
    }
   ],
   "source": [
    "%%time\n",
    "validation_df = validation_df.applymap(clean_text)\n",
    "validation_df"
   ]
  },
  {
   "cell_type": "code",
   "execution_count": 10,
   "id": "46573bf4-a9cc-49d5-9659-3966fc9a80b9",
   "metadata": {},
   "outputs": [
    {
     "name": "stdout",
     "output_type": "stream",
     "text": [
      "CPU times: user 86.2 ms, sys: 645 µs, total: 86.9 ms\n",
      "Wall time: 86.5 ms\n"
     ]
    },
    {
     "data": {
      "text/html": [
       "<div>\n",
       "<style scoped>\n",
       "    .dataframe tbody tr th:only-of-type {\n",
       "        vertical-align: middle;\n",
       "    }\n",
       "\n",
       "    .dataframe tbody tr th {\n",
       "        vertical-align: top;\n",
       "    }\n",
       "\n",
       "    .dataframe thead th {\n",
       "        text-align: right;\n",
       "    }\n",
       "</style>\n",
       "<table border=\"1\" class=\"dataframe\">\n",
       "  <thead>\n",
       "    <tr style=\"text-align: right;\">\n",
       "      <th></th>\n",
       "      <th>hi_en</th>\n",
       "      <th>en</th>\n",
       "    </tr>\n",
       "  </thead>\n",
       "  <tbody>\n",
       "    <tr>\n",
       "      <th>0</th>\n",
       "      <td>oye ledki kitni mazakiya movie dekh rhi ho ?</td>\n",
       "      <td>ah mean girls. such a funny movie. have you se...</td>\n",
       "    </tr>\n",
       "    <tr>\n",
       "      <th>1</th>\n",
       "      <td>ha muje bhi hassi mazak ki movies pasand par y...</td>\n",
       "      <td>yeah, even though i love comedies, this wasn't...</td>\n",
       "    </tr>\n",
       "    <tr>\n",
       "      <th>2</th>\n",
       "      <td>kese tina ka jhuti writing isme achi the usne ...</td>\n",
       "      <td>how come. thought tina fey's writing was fanta...</td>\n",
       "    </tr>\n",
       "    <tr>\n",
       "      <th>3</th>\n",
       "      <td>muje kahani bhute achi lagi aur unhone ise dac...</td>\n",
       "      <td>i loved the story &amp; how true they made it in h...</td>\n",
       "    </tr>\n",
       "    <tr>\n",
       "      <th>4</th>\n",
       "      <td>ab samja muje nhi pta tha ki aap sahi admi hai...</td>\n",
       "      <td>i see. i didn't realize it was 14 years ago. y...</td>\n",
       "    </tr>\n",
       "    <tr>\n",
       "      <th>...</th>\n",
       "      <td>...</td>\n",
       "      <td>...</td>\n",
       "    </tr>\n",
       "    <tr>\n",
       "      <th>6508</th>\n",
       "      <td>alarm ko abhi stop kare</td>\n",
       "      <td>stop alarm now</td>\n",
       "    </tr>\n",
       "    <tr>\n",
       "      <th>6509</th>\n",
       "      <td>har ghante ke liye alarm set kare</td>\n",
       "      <td>set alarm every hour</td>\n",
       "    </tr>\n",
       "    <tr>\n",
       "      <th>6510</th>\n",
       "      <td>bobby ko text kare</td>\n",
       "      <td>text bobby</td>\n",
       "    </tr>\n",
       "    <tr>\n",
       "      <th>6511</th>\n",
       "      <td>muje shaam 6 baje laundry ko pick up karne ke ...</td>\n",
       "      <td>remind me to pick up laundry at 6 pm</td>\n",
       "    </tr>\n",
       "    <tr>\n",
       "      <th>6512</th>\n",
       "      <td>kya aap muje har subah 6 baje apne baccho ko j...</td>\n",
       "      <td>can you remind me to wake my kids up every mor...</td>\n",
       "    </tr>\n",
       "  </tbody>\n",
       "</table>\n",
       "<p>7072 rows × 2 columns</p>\n",
       "</div>"
      ],
      "text/plain": [
       "                                                  hi_en  \\\n",
       "0          oye ledki kitni mazakiya movie dekh rhi ho ?   \n",
       "1     ha muje bhi hassi mazak ki movies pasand par y...   \n",
       "2     kese tina ka jhuti writing isme achi the usne ...   \n",
       "3     muje kahani bhute achi lagi aur unhone ise dac...   \n",
       "4     ab samja muje nhi pta tha ki aap sahi admi hai...   \n",
       "...                                                 ...   \n",
       "6508                            alarm ko abhi stop kare   \n",
       "6509                  har ghante ke liye alarm set kare   \n",
       "6510                                 bobby ko text kare   \n",
       "6511  muje shaam 6 baje laundry ko pick up karne ke ...   \n",
       "6512  kya aap muje har subah 6 baje apne baccho ko j...   \n",
       "\n",
       "                                                     en  \n",
       "0     ah mean girls. such a funny movie. have you se...  \n",
       "1     yeah, even though i love comedies, this wasn't...  \n",
       "2     how come. thought tina fey's writing was fanta...  \n",
       "3     i loved the story & how true they made it in h...  \n",
       "4     i see. i didn't realize it was 14 years ago. y...  \n",
       "...                                                 ...  \n",
       "6508                                     stop alarm now  \n",
       "6509                               set alarm every hour  \n",
       "6510                                         text bobby  \n",
       "6511               remind me to pick up laundry at 6 pm  \n",
       "6512  can you remind me to wake my kids up every mor...  \n",
       "\n",
       "[7072 rows x 2 columns]"
      ]
     },
     "execution_count": 10,
     "metadata": {},
     "output_type": "execute_result"
    }
   ],
   "source": [
    "%%time\n",
    "test_df = test_df.applymap(clean_text)\n",
    "test_df"
   ]
  },
  {
   "cell_type": "markdown",
   "id": "6815fbe5-c088-40b5-9406-2c942a6d09f8",
   "metadata": {},
   "source": [
    "## Data tokenization"
   ]
  },
  {
   "cell_type": "code",
   "execution_count": 11,
   "id": "5a5dbb69-5bde-412d-9071-9e6c3ef6a25e",
   "metadata": {},
   "outputs": [
    {
     "name": "stdout",
     "output_type": "stream",
     "text": [
      "\n",
      "\n",
      "\n",
      "\n",
      "\n",
      "\n"
     ]
    }
   ],
   "source": [
    "bart_tokenizer = CustomBartTokenizer().build()\n",
    "bart_tokenizer_scratch = CustomBartTokenizer().build(data=train_df[\"hi_en\"], tokenizer_style=STYLE.SCRATCH.value)\n",
    "bart_tokenizer_append = CustomBartTokenizer().build(data=train_df[\"hi_en\"], tokenizer_style=STYLE.APPEND.value)"
   ]
  },
  {
   "cell_type": "code",
   "execution_count": 12,
   "id": "d8d171f9-4ec2-4458-bd87-70cd7d7a280a",
   "metadata": {},
   "outputs": [],
   "source": [
    "query = \"Hello! Ye CSCI 544 ka project he. Ye project Code-Mixed Machine Translation ke bara me he. Hamane hamari khoon bahahe.\"\n",
    "query = clean_text(text=query)"
   ]
  },
  {
   "cell_type": "code",
   "execution_count": 13,
   "id": "8049c0ea-6b74-428f-8ec9-f9b578641d53",
   "metadata": {},
   "outputs": [
    {
     "name": "stdout",
     "output_type": "stream",
     "text": [
      "####################################################################################################\n",
      "This is an example of using the default Bart Tokenizer.\n",
      "\n",
      "Sentence: hello! ye csci 544 ka project he. ye project code-mixed machine translation ke bara me he. hamane hamari khoon bahahe.\n",
      "\n",
      "Tokenized word: ['<s>', 'hello', '!', 'Ġye', 'Ġc', 'sci', 'Ġ5', '44', 'Ġka', 'Ġproject', 'Ġhe', '.', 'Ġye', 'Ġproject', 'Ġcode', '-', 'm', 'ixed', 'Ġmachine', 'Ġtranslation', 'Ġke', 'Ġbar', 'a', 'Ġme', 'Ġhe', '.', 'Ġham', 'ane', 'Ġham', 'ari', 'Ġkh', 'oon', 'Ġb', 'aha', 'he', '.', '</s>']\n",
      "\n",
      "Tokenized idx: [0, 42891, 328, 32440, 740, 43428, 195, 3305, 4661, 695, 37, 4, 32440, 695, 3260, 12, 119, 24194, 3563, 19850, 7321, 2003, 102, 162, 37, 4, 11402, 1728, 11402, 1512, 16447, 3863, 741, 11695, 700, 4, 2]\n",
      "####################################################################################################\n"
     ]
    }
   ],
   "source": [
    "token_idx = bart_tokenizer.encode(query, add_special_tokens=True)\n",
    "token_word = bart_tokenizer.convert_ids_to_tokens(token_idx)\n",
    "print('#'*100)\n",
    "print(\"This is an example of using the default Bart Tokenizer.\\n\")\n",
    "print(f\"Sentence: {query}\\n\")\n",
    "print(f\"Tokenized word: {token_word}\\n\")\n",
    "print(f\"Tokenized idx: {token_idx}\")\n",
    "print('#'*100)"
   ]
  },
  {
   "cell_type": "code",
   "execution_count": 14,
   "id": "983d5c73-96b4-4c61-af57-46ecd0891993",
   "metadata": {},
   "outputs": [
    {
     "name": "stdout",
     "output_type": "stream",
     "text": [
      "####################################################################################################\n",
      "This is an example of the Bart Tokenizer that is trained from scratch.\n",
      "\n",
      "Sentence: hello! ye csci 544 ka project he. ye project code-mixed machine translation ke bara me he. hamane hamari khoon bahahe.\n",
      "\n",
      "Tokenized word: ['<s>', 'hello', '!', 'Ġye', 'Ġc', 'sci', 'Ġ5', '44', 'Ġka', 'Ġproject', 'Ġhe', '.', 'Ġye', 'Ġproject', 'Ġcode', '-', 'mix', 'ed', 'Ġmachine', 'Ġtrans', 'lation', 'Ġke', 'Ġbara', 'Ġme', 'Ġhe', '.', 'Ġhamane', 'Ġhamari', 'Ġkhoon', 'Ġbaha', 'he', '.', '</s>']\n",
      "\n",
      "Tokenized idx: [0, 2317, 4, 520, 288, 21554, 466, 11342, 312, 3070, 356, 17, 520, 3070, 6438, 16, 19530, 517, 6262, 3397, 18402, 271, 17190, 284, 356, 17, 11714, 4630, 10623, 13967, 282, 17, 2]\n",
      "####################################################################################################\n"
     ]
    }
   ],
   "source": [
    "token_idx = bart_tokenizer_scratch.encode(query, add_special_tokens=True)\n",
    "token_word = bart_tokenizer_scratch.convert_ids_to_tokens(token_idx)\n",
    "print('#'*100)\n",
    "print(\"This is an example of the Bart Tokenizer that is trained from scratch.\\n\")\n",
    "print(f\"Sentence: {query}\\n\")\n",
    "print(f\"Tokenized word: {token_word}\\n\")\n",
    "print(f\"Tokenized idx: {token_idx}\")\n",
    "print('#'*100)"
   ]
  },
  {
   "cell_type": "code",
   "execution_count": 15,
   "id": "122936f1-df9e-4342-9492-9dec2cb289bc",
   "metadata": {},
   "outputs": [
    {
     "name": "stdout",
     "output_type": "stream",
     "text": [
      "####################################################################################################\n",
      "This is an example of the Bart Tokenizer to which we append our new data.\n",
      "\n",
      "Sentence: hello! ye csci 544 ka project he. ye project code-mixed machine translation ke bara me he. hamane hamari khoon bahahe.\n",
      "\n",
      "Tokenized word: ['<s>', 'hello', '!', 'Ġ', 'ye', 'Ġ', 'csc', 'i', 'Ġ', '54', '4', 'Ġ', 'ka', 'Ġ', 'project', 'Ġ', 'he', '.', 'Ġ', 'ye', 'Ġ', 'project', 'Ġ', 'code', '-', 'mix', 'ed', 'Ġ', 'mach', 'ine', 'Ġ', 'trans', 'lation', 'Ġ', 'ke', 'Ġ', 'bara', 'Ġ', 'me', 'Ġ', 'he', '.', 'Ġ', 'hamane', 'Ġ', 'hamari', 'Ġ', 'khoo', 'n', 'Ġ', 'baha', 'he', '.', '</s>']\n",
      "\n",
      "Tokenized idx: [0, 42891, 328, 1437, 4717, 1437, 57814, 118, 1437, 4283, 306, 1437, 2348, 1437, 28258, 1437, 700, 4, 1437, 4717, 1437, 28258, 1437, 20414, 12, 39915, 196, 1437, 73644, 833, 1437, 9981, 35019, 1437, 1071, 1437, 31533, 1437, 1794, 1437, 700, 4, 1437, 82666, 1437, 55240, 1437, 61905, 282, 1437, 51237, 700, 4, 2]\n",
      "####################################################################################################\n"
     ]
    }
   ],
   "source": [
    "token_idx = bart_tokenizer_append.encode(query, add_special_tokens=True)\n",
    "token_word = bart_tokenizer_append.convert_ids_to_tokens(token_idx)\n",
    "print('#'*100)\n",
    "print(\"This is an example of the Bart Tokenizer to which we append our new data.\\n\")\n",
    "print(f\"Sentence: {query}\\n\")\n",
    "print(f\"Tokenized word: {token_word}\\n\")\n",
    "print(f\"Tokenized idx: {token_idx}\")\n",
    "print('#'*100)"
   ]
  },
  {
   "cell_type": "code",
   "execution_count": 16,
   "id": "390d4005-a4fe-4187-8a41-a987029417b1",
   "metadata": {},
   "outputs": [
    {
     "name": "stdout",
     "output_type": "stream",
     "text": [
      "\n",
      "\n",
      "\n"
     ]
    }
   ],
   "source": [
    "# Now that we know how to get a BART-Tokenizer - default, appeded and scratch, let us get the tokenizer for our code-mixed language\n",
    "# and the target language.\n",
    "# Code-Mixed Language - Build a Bart-Tokenizer from scratch.\n",
    "# Target Language (English) - Use the default Bart-Tokenizer.\n",
    "hi_en_bart_tokenizer = CustomBartTokenizer().build(\n",
    "    data=train_df[\"hi_en\"],\n",
    "    tokenizer_style=MBART_TOKENIZER_BPE_BINDING_BART_TOKENIZER_ENCODER_STYLE,\n",
    "    tokenizer_bart_from_pretrained_path=MBART_TOKENIZER_BPE_BINDING_BART_TOKENIZER_ENCODER_FROM_PRETRAINED\n",
    ")\n",
    "en_bart_tokenizer = CustomBartTokenizer().build(\n",
    "    tokenizer_style=MBART_TOKENIZER_BPE_BINDING_BART_TOKENIZER_DECODER_STYLE,\n",
    "    tokenizer_bart_from_pretrained_path=MBART_TOKENIZER_BPE_BINDING_BART_TOKENIZER_DECODER_FROM_PRETRAINED\n",
    ")"
   ]
  },
  {
   "cell_type": "code",
   "execution_count": 17,
   "id": "e43157d2-c90a-4a82-a8fd-f4c9256ca9fe",
   "metadata": {},
   "outputs": [
    {
     "name": "stdout",
     "output_type": "stream",
     "text": [
      "Hinglish tokenizer vocab size: 50265\n",
      "English tokenizer vocab size: 50265\n"
     ]
    }
   ],
   "source": [
    "print(f\"Hinglish tokenizer vocab size: {hi_en_bart_tokenizer.vocab_size}\")\n",
    "print(f\"English tokenizer vocab size: {en_bart_tokenizer.vocab_size}\")"
   ]
  },
  {
   "cell_type": "markdown",
   "id": "ea448cc8-4d09-40e8-a793-db3b7c6d59d7",
   "metadata": {},
   "source": [
    "## Dataset and Data Loaders"
   ]
  },
  {
   "cell_type": "code",
   "execution_count": 18,
   "id": "d58e26f3-5913-4939-877a-5b083e1402ac",
   "metadata": {},
   "outputs": [],
   "source": [
    "# Get the data loaders for denoising\n",
    "__data_loaders__ = get_data_loader_models(\n",
    "    train_df=train_df,\n",
    "    validation_df=validation_df,\n",
    "    test_df=test_df,\n",
    "    train_batch_size=4, \n",
    "    validation_batch_size=4, \n",
    "    test_batch_size=4,\n",
    "    encoder_tokenizer=hi_en_bart_tokenizer,\n",
    "    decoder_tokenizer=hi_en_bart_tokenizer,\n",
    "    denoising_stage=True\n",
    ")"
   ]
  },
  {
   "cell_type": "code",
   "execution_count": 19,
   "id": "3c20dfa8-0530-4ca1-90a1-90abe725f879",
   "metadata": {},
   "outputs": [
    {
     "data": {
      "text/plain": [
       "defaultdict(dict,\n",
       "            {'hi_en__en': {'object': <src.machine_translation.data.CodeMixedDataLoader at 0x29992f220>,\n",
       "              'train': <torch.utils.data.dataloader.DataLoader at 0x29992f070>,\n",
       "              'validation': <torch.utils.data.dataloader.DataLoader at 0x29992fa30>,\n",
       "              'test': <torch.utils.data.dataloader.DataLoader at 0x29992fa60>}})"
      ]
     },
     "execution_count": 19,
     "metadata": {},
     "output_type": "execute_result"
    }
   ],
   "source": [
    "__data_loaders__"
   ]
  },
  {
   "cell_type": "code",
   "execution_count": 20,
   "id": "0e564875-998d-434f-90cd-ebef46d6c663",
   "metadata": {},
   "outputs": [],
   "source": [
    "__data_loader__, __train_data_loader__, __validation_data_loader__, __test_data_loader__ = __data_loaders__[\"hi_en__en\"].values()"
   ]
  },
  {
   "cell_type": "code",
   "execution_count": 21,
   "id": "e0a239c8-ad3e-4d33-b43d-f1d0b852841f",
   "metadata": {},
   "outputs": [
    {
     "name": "stdout",
     "output_type": "stream",
     "text": [
      "####################################################################################################\n",
      "Train Dataloader\n",
      "Batch Size:  4\n",
      "Number of batches:  43611\n",
      "Batch source language shape:  torch.Size([4, 11])\n",
      "Batch source language:  ['mujhe kal tracy se concert ke baare me pucho', 'kya aaj raat ye freezing se neeche hai ?', 'timer par kitna time bacha he', 'food events']\n",
      "Batch source tokens:  tensor([[    0,   348,   504, 18858,   291,  1029,   271,   631,   284,   918,\n",
      "             2],\n",
      "        [    0,   316,   439,   465,   520,  3934,   291,  2112,   278,   318,\n",
      "             2],\n",
      "        [    0,   712,   337,   419,   458,   946,   356,     2,     1,     1,\n",
      "             1],\n",
      "        [    0, 10348,   607,     2,     1,     1,     1,     1,     1,     1,\n",
      "             1]])\n",
      "Batch source attention mask:  tensor([[1, 1, 1, 1, 1, 1, 1, 1, 1, 1, 1],\n",
      "        [1, 1, 1, 1, 1, 1, 1, 1, 1, 1, 1],\n",
      "        [1, 1, 1, 1, 1, 1, 1, 1, 0, 0, 0],\n",
      "        [1, 1, 1, 1, 0, 0, 0, 0, 0, 0, 0]])\n",
      "Batch target language shape:  torch.Size([4, 11])\n",
      "Batch target language:  ['mujhe kal tracy se concert ke baare me pucho', 'kya aaj raat ye freezing se neeche hai ?', 'timer par kitna time bacha he', 'food events']\n",
      "Batch target tokens:  tensor([[    0,   348,   504, 18858,   291,  1029,   271,   631,   284,   918,\n",
      "             2],\n",
      "        [    0,   316,   439,   465,   520,  3934,   291,  2112,   278,   318,\n",
      "             2],\n",
      "        [    0,   712,   337,   419,   458,   946,   356,     2,     1,     1,\n",
      "             1],\n",
      "        [    0, 10348,   607,     2,     1,     1,     1,     1,     1,     1,\n",
      "             1]])\n",
      "Batch target attention mask:  tensor([[1, 1, 1, 1, 1, 1, 1, 1, 1, 1, 1],\n",
      "        [1, 1, 1, 1, 1, 1, 1, 1, 1, 1, 1],\n",
      "        [1, 1, 1, 1, 1, 1, 1, 1, 0, 0, 0],\n",
      "        [1, 1, 1, 1, 0, 0, 0, 0, 0, 0, 0]])\n",
      "Validating train laoder...\n"
     ]
    },
    {
     "name": "stderr",
     "output_type": "stream",
     "text": [
      "100%|█| 43611/43611 [00:42<00:00, 1034.13i\n"
     ]
    },
    {
     "name": "stdout",
     "output_type": "stream",
     "text": [
      "Validation of train loader successful.\n",
      "####################################################################################################\n",
      "Val Dataloader\n",
      "Batch Size:  4\n",
      "Number of batches:  811\n",
      "Validating validation laoder...\n"
     ]
    },
    {
     "name": "stderr",
     "output_type": "stream",
     "text": [
      "100%|███| 811/811 [00:30<00:00, 26.26it/s]\n"
     ]
    },
    {
     "name": "stdout",
     "output_type": "stream",
     "text": [
      "Validation of validation loader successful.\n",
      "####################################################################################################\n",
      "Test Dataloader\n",
      "Batch Size:  4\n",
      "Number of batches:  1768\n",
      "Validating test laoder...\n"
     ]
    },
    {
     "name": "stderr",
     "output_type": "stream",
     "text": [
      "100%|█| 1768/1768 [00:31<00:00, 56.26it/s]"
     ]
    },
    {
     "name": "stdout",
     "output_type": "stream",
     "text": [
      "Validation of test loader successful.\n",
      "####################################################################################################\n"
     ]
    },
    {
     "name": "stderr",
     "output_type": "stream",
     "text": [
      "\n"
     ]
    }
   ],
   "source": [
    "__data_loader__.visualize()"
   ]
  },
  {
   "cell_type": "code",
   "execution_count": 22,
   "id": "2a13c1e6-1d08-4ab4-9118-25191e7fcaab",
   "metadata": {},
   "outputs": [],
   "source": [
    "# Get the data loaders for translation\n",
    "__data_loaders__ = get_data_loader_models(\n",
    "    train_df=train_df,\n",
    "    validation_df=validation_df,\n",
    "    test_df=test_df,\n",
    "    train_batch_size=4, \n",
    "    validation_batch_size=4, \n",
    "    test_batch_size=4,\n",
    "    encoder_tokenizer=hi_en_bart_tokenizer,\n",
    "    decoder_tokenizer=en_bart_tokenizer\n",
    ")"
   ]
  },
  {
   "cell_type": "code",
   "execution_count": 23,
   "id": "705af659-431f-4eea-9d87-11b987736b90",
   "metadata": {},
   "outputs": [
    {
     "data": {
      "text/plain": [
       "defaultdict(dict,\n",
       "            {'hi_en__en': {'object': <src.machine_translation.data.CodeMixedDataLoader at 0x2a9cb57f0>,\n",
       "              'train': <torch.utils.data.dataloader.DataLoader at 0x2a9cb52b0>,\n",
       "              'validation': <torch.utils.data.dataloader.DataLoader at 0x2a9cb5700>,\n",
       "              'test': <torch.utils.data.dataloader.DataLoader at 0x2a9cb5c10>}})"
      ]
     },
     "execution_count": 23,
     "metadata": {},
     "output_type": "execute_result"
    }
   ],
   "source": [
    "__data_loaders__"
   ]
  },
  {
   "cell_type": "code",
   "execution_count": 24,
   "id": "3958364d-029a-4cc6-9673-60c5eaffb55d",
   "metadata": {},
   "outputs": [],
   "source": [
    "__data_loader__, __train_data_loader__, __validation_data_loader__, __test_data_loader__ = __data_loaders__[\"hi_en__en\"].values()"
   ]
  },
  {
   "cell_type": "code",
   "execution_count": 25,
   "id": "2d545aa3-0986-4c17-99ae-544b2e775eec",
   "metadata": {},
   "outputs": [
    {
     "name": "stdout",
     "output_type": "stream",
     "text": [
      "####################################################################################################\n",
      "Train Dataloader\n",
      "Batch Size:  4\n",
      "Number of batches:  43611\n",
      "Batch source language shape:  torch.Size([4, 16])\n",
      "Batch source language:  ['spain ke liye direct flight kitni lambi hai', 'hailee ko message send kare ki thank you for the toy he loves it', 'message ko read mat karo', 'monday ke liye alarm ko delete karen']\n",
      "Batch source tokens:  tensor([[    0,  4631,   271,   283,  3273,  1890,   505,  1012,   278,     2,\n",
      "             1,     1,     1,     1,     1,     1],\n",
      "        [    0, 43166,   280,   441,  1334,   315,   294,  2888,   848,   473,\n",
      "           413,  4720,   356, 15488,   842,     2],\n",
      "        [    0,  3907,   280,  1702,  1194,   371,     2,     1,     1,     1,\n",
      "             1,     1,     1,     1,     1,     1],\n",
      "        [    0,   969,   271,   283,   320,   280,   602,   437,     2,     1,\n",
      "             1,     1,     1,     1,     1,     1]])\n",
      "Batch source attention mask:  tensor([[1, 1, 1, 1, 1, 1, 1, 1, 1, 1, 0, 0, 0, 0, 0, 0],\n",
      "        [1, 1, 1, 1, 1, 1, 1, 1, 1, 1, 1, 1, 1, 1, 1, 1],\n",
      "        [1, 1, 1, 1, 1, 1, 1, 0, 0, 0, 0, 0, 0, 0, 0, 0],\n",
      "        [1, 1, 1, 1, 1, 1, 1, 1, 1, 0, 0, 0, 0, 0, 0, 0]])\n",
      "Batch target language shape:  torch.Size([4, 16])\n",
      "Batch target language:  ['how long is direct flight to spain', 'send a message to hailee thank you for the toy he loves it', 'do not read message', 'delete alarm for monday']\n",
      "Batch target tokens:  tensor([[    0,  9178,   251,    16,  2228,  2524,     7,  2292,  1851,     2,\n",
      "             1,     1,     1,     1,     1,     1],\n",
      "        [    0, 37785,    10,  1579,     7,  2489, 19016,  3392,    47,    13,\n",
      "             5, 10771,    37,  6138,    24,     2],\n",
      "        [    0,  5016,    45,  1166,  1579,     2,     1,     1,     1,     1,\n",
      "             1,     1,     1,     1,     1,     1],\n",
      "        [    0, 46888,  8054,    13,   475, 46328,     2,     1,     1,     1,\n",
      "             1,     1,     1,     1,     1,     1]])\n",
      "Batch target attention mask:  tensor([[1, 1, 1, 1, 1, 1, 1, 1, 1, 1, 0, 0, 0, 0, 0, 0],\n",
      "        [1, 1, 1, 1, 1, 1, 1, 1, 1, 1, 1, 1, 1, 1, 1, 1],\n",
      "        [1, 1, 1, 1, 1, 1, 0, 0, 0, 0, 0, 0, 0, 0, 0, 0],\n",
      "        [1, 1, 1, 1, 1, 1, 1, 0, 0, 0, 0, 0, 0, 0, 0, 0]])\n",
      "Validating train laoder...\n"
     ]
    },
    {
     "name": "stderr",
     "output_type": "stream",
     "text": [
      "100%|█| 43611/43611 [00:42<00:00, 1028.84i\n"
     ]
    },
    {
     "name": "stdout",
     "output_type": "stream",
     "text": [
      "Validation of train loader successful.\n",
      "####################################################################################################\n",
      "Val Dataloader\n",
      "Batch Size:  4\n",
      "Number of batches:  811\n",
      "Validating validation laoder...\n"
     ]
    },
    {
     "name": "stderr",
     "output_type": "stream",
     "text": [
      "100%|███| 811/811 [00:31<00:00, 26.04it/s]\n"
     ]
    },
    {
     "name": "stdout",
     "output_type": "stream",
     "text": [
      "Validation of validation loader successful.\n",
      "####################################################################################################\n",
      "Test Dataloader\n",
      "Batch Size:  4\n",
      "Number of batches:  1768\n",
      "Validating test laoder...\n"
     ]
    },
    {
     "name": "stderr",
     "output_type": "stream",
     "text": [
      "100%|█| 1768/1768 [00:31<00:00, 56.39it/s]"
     ]
    },
    {
     "name": "stdout",
     "output_type": "stream",
     "text": [
      "Validation of test loader successful.\n",
      "####################################################################################################\n"
     ]
    },
    {
     "name": "stderr",
     "output_type": "stream",
     "text": [
      "\n"
     ]
    }
   ],
   "source": [
    "__data_loader__.visualize()"
   ]
  },
  {
   "cell_type": "markdown",
   "id": "f96d610c-39a2-4c44-8356-3cae031dc975",
   "metadata": {},
   "source": [
    "## Model definition"
   ]
  },
  {
   "cell_type": "code",
   "execution_count": 26,
   "id": "e8fa45c5-e36f-40ac-8739-d05f225a40a0",
   "metadata": {},
   "outputs": [
    {
     "data": {
      "text/plain": [
       "BartForConditionalGeneration(\n",
       "  (model): BartModel(\n",
       "    (shared): Embedding(50265, 1024, padding_idx=1)\n",
       "    (encoder): BartEncoder(\n",
       "      (embed_tokens): Embedding(50265, 1024, padding_idx=1)\n",
       "      (embed_positions): BartLearnedPositionalEmbedding(1026, 1024)\n",
       "      (layers): ModuleList(\n",
       "        (0-11): 12 x BartEncoderLayer(\n",
       "          (self_attn): BartAttention(\n",
       "            (k_proj): Linear(in_features=1024, out_features=1024, bias=True)\n",
       "            (v_proj): Linear(in_features=1024, out_features=1024, bias=True)\n",
       "            (q_proj): Linear(in_features=1024, out_features=1024, bias=True)\n",
       "            (out_proj): Linear(in_features=1024, out_features=1024, bias=True)\n",
       "          )\n",
       "          (self_attn_layer_norm): LayerNorm((1024,), eps=1e-05, elementwise_affine=True)\n",
       "          (activation_fn): GELUActivation()\n",
       "          (fc1): Linear(in_features=1024, out_features=4096, bias=True)\n",
       "          (fc2): Linear(in_features=4096, out_features=1024, bias=True)\n",
       "          (final_layer_norm): LayerNorm((1024,), eps=1e-05, elementwise_affine=True)\n",
       "        )\n",
       "      )\n",
       "      (layernorm_embedding): LayerNorm((1024,), eps=1e-05, elementwise_affine=True)\n",
       "    )\n",
       "    (decoder): BartDecoder(\n",
       "      (embed_tokens): Embedding(50265, 1024, padding_idx=1)\n",
       "      (embed_positions): BartLearnedPositionalEmbedding(1026, 1024)\n",
       "      (layers): ModuleList(\n",
       "        (0-11): 12 x BartDecoderLayer(\n",
       "          (self_attn): BartAttention(\n",
       "            (k_proj): Linear(in_features=1024, out_features=1024, bias=True)\n",
       "            (v_proj): Linear(in_features=1024, out_features=1024, bias=True)\n",
       "            (q_proj): Linear(in_features=1024, out_features=1024, bias=True)\n",
       "            (out_proj): Linear(in_features=1024, out_features=1024, bias=True)\n",
       "          )\n",
       "          (activation_fn): GELUActivation()\n",
       "          (self_attn_layer_norm): LayerNorm((1024,), eps=1e-05, elementwise_affine=True)\n",
       "          (encoder_attn): BartAttention(\n",
       "            (k_proj): Linear(in_features=1024, out_features=1024, bias=True)\n",
       "            (v_proj): Linear(in_features=1024, out_features=1024, bias=True)\n",
       "            (q_proj): Linear(in_features=1024, out_features=1024, bias=True)\n",
       "            (out_proj): Linear(in_features=1024, out_features=1024, bias=True)\n",
       "          )\n",
       "          (encoder_attn_layer_norm): LayerNorm((1024,), eps=1e-05, elementwise_affine=True)\n",
       "          (fc1): Linear(in_features=1024, out_features=4096, bias=True)\n",
       "          (fc2): Linear(in_features=4096, out_features=1024, bias=True)\n",
       "          (final_layer_norm): LayerNorm((1024,), eps=1e-05, elementwise_affine=True)\n",
       "        )\n",
       "      )\n",
       "      (layernorm_embedding): LayerNorm((1024,), eps=1e-05, elementwise_affine=True)\n",
       "    )\n",
       "  )\n",
       "  (lm_head): Linear(in_features=1024, out_features=50265, bias=False)\n",
       ")"
      ]
     },
     "execution_count": 26,
     "metadata": {},
     "output_type": "execute_result"
    }
   ],
   "source": [
    "__model__ = BartForConditionalGeneration()\n",
    "__model__.model"
   ]
  },
  {
   "cell_type": "code",
   "execution_count": 27,
   "id": "39520ff4-165a-42e8-af2d-cc0b7d958c51",
   "metadata": {},
   "outputs": [
    {
     "name": "stdout",
     "output_type": "stream",
     "text": [
      "Model has a total of 406291456 number of parameters\n",
      "Model encoder input size:  torch.Size([8, 21])\n",
      "Model decoder input size:  torch.Size([8, 21])\n",
      "Model output type:  <class 'transformers.modeling_outputs.Seq2SeqLMOutput'>\n",
      "Model output size:  torch.Size([8, 21, 50265])\n",
      "Model output:\n",
      " tensor([[[ 2.0147e+01, -1.1050e+00,  9.1028e+00,  ..., -1.6412e+00,\n",
      "          -1.9330e+00,  5.3736e+00],\n",
      "         [-2.6089e+01, -2.4585e+00,  8.3714e+00,  ..., -1.3255e+00,\n",
      "          -1.4692e+00,  1.6419e+00],\n",
      "         [-1.2068e+01, -3.0098e+00,  5.1651e+00,  ..., -1.0319e+00,\n",
      "          -1.1022e+00, -7.8023e-01],\n",
      "         ...,\n",
      "         [-1.5395e+01, -1.6992e+00,  7.7151e+00,  ..., -2.5391e-01,\n",
      "           7.0777e-02,  4.3270e+00],\n",
      "         [-9.9774e+00, -3.0849e+00,  4.8275e+00,  ..., -2.1388e+00,\n",
      "          -2.0728e+00, -2.3156e-01],\n",
      "         [-2.1520e+01, -1.7580e+00,  6.9974e+00,  ...,  1.9554e-01,\n",
      "           3.3830e-01,  3.7684e+00]],\n",
      "\n",
      "        [[ 1.8385e+01, -9.7118e-01,  7.9019e+00,  ..., -3.3063e-01,\n",
      "          -3.1692e-01,  3.8342e+00],\n",
      "         [-9.5723e+00, -2.8845e+00,  3.4509e+00,  ..., -1.2350e+00,\n",
      "          -1.9848e+00, -7.7934e-01],\n",
      "         [-9.6630e+00, -3.5031e+00,  2.4416e+00,  ..., -2.5200e+00,\n",
      "          -3.3785e+00, -2.1577e+00],\n",
      "         ...,\n",
      "         [-3.2595e+01, -1.7440e+00,  2.3161e+00,  ..., -4.9239e-01,\n",
      "           6.0219e-01, -1.7587e+00],\n",
      "         [ 1.4750e+01, -2.2203e+00,  4.2834e+00,  ..., -3.3293e+00,\n",
      "          -2.6735e+00, -1.0891e+00],\n",
      "         [-5.0772e+01, -7.9703e-01,  4.8815e+00,  ...,  2.7285e+00,\n",
      "           3.3256e+00,  6.1767e+00]],\n",
      "\n",
      "        [[ 1.2881e+01, -1.5910e+00,  5.5156e+00,  ..., -4.2818e-01,\n",
      "          -4.7811e-01,  4.8964e+00],\n",
      "         [-2.0886e+01, -2.8310e+00,  1.4842e+00,  ..., -2.6787e-01,\n",
      "          -1.1101e+00, -1.7365e+00],\n",
      "         [-1.3350e+01, -2.8525e+00,  3.0355e+00,  ..., -6.1006e-01,\n",
      "          -1.4245e+00,  1.4725e-01],\n",
      "         ...,\n",
      "         [-2.3306e+00, -2.4039e+00,  3.7545e+00,  ..., -7.0358e-01,\n",
      "          -2.7854e-01,  1.1907e+00],\n",
      "         [ 2.3538e-01, -2.1466e+00,  4.5603e+00,  ..., -6.5698e-01,\n",
      "          -1.7599e-01,  1.8775e+00],\n",
      "         [-4.6096e-01, -2.1736e+00,  3.9761e+00,  ..., -3.4823e-01,\n",
      "          -2.8690e-01,  1.4241e+00]],\n",
      "\n",
      "        ...,\n",
      "\n",
      "        [[ 1.7238e+01, -1.1926e+00,  7.4832e+00,  ..., -8.4261e-01,\n",
      "          -9.1697e-01,  4.1576e+00],\n",
      "         [-1.5399e+01, -2.8730e+00,  5.5319e+00,  ..., -2.5588e+00,\n",
      "          -1.3087e+00, -3.2170e-01],\n",
      "         [-1.2848e+01, -2.8691e+00,  4.2111e+00,  ..., -2.6533e+00,\n",
      "          -2.5145e+00,  1.6543e-01],\n",
      "         ...,\n",
      "         [-1.1979e+01, -2.8059e+00,  1.0030e+00,  ..., -1.9245e+00,\n",
      "          -1.6768e+00, -3.7406e+00],\n",
      "         [-9.8519e+00, -2.5339e+00,  1.1182e+00,  ..., -1.7178e+00,\n",
      "          -1.4817e+00, -2.3696e+00],\n",
      "         [-1.7591e+01, -1.7231e+00,  4.4695e+00,  ..., -6.5549e-01,\n",
      "           1.2777e-01,  3.4542e+00]],\n",
      "\n",
      "        [[ 1.6709e+01, -1.2763e+00,  7.5261e+00,  ...,  3.3280e-02,\n",
      "           2.2886e-02,  4.3236e+00],\n",
      "         [-2.4913e+01, -2.5600e+00,  4.1850e+00,  ..., -1.1509e+00,\n",
      "          -1.3137e+00,  1.6680e-01],\n",
      "         [-1.5079e+01, -3.0725e+00,  1.7722e+00,  ..., -2.6559e+00,\n",
      "          -1.8966e+00, -3.9804e+00],\n",
      "         ...,\n",
      "         [-1.0664e+01, -3.0156e+00,  4.7965e+00,  ..., -1.8027e+00,\n",
      "          -3.0152e+00, -2.3577e+00],\n",
      "         [-8.7026e+00, -3.2006e+00,  4.7767e+00,  ..., -2.2794e+00,\n",
      "          -2.8645e+00, -2.6294e+00],\n",
      "         [-1.0511e+01, -3.1606e+00,  3.6641e+00,  ..., -1.9763e+00,\n",
      "          -2.5892e+00, -3.4131e+00]],\n",
      "\n",
      "        [[ 1.3716e+01, -1.4846e+00,  6.6822e+00,  ..., -1.0726e-01,\n",
      "          -1.0319e+00,  4.0306e+00],\n",
      "         [-1.3779e+01, -2.5631e+00,  5.5320e+00,  ..., -2.1758e+00,\n",
      "          -1.3055e+00, -3.5949e-01],\n",
      "         [-1.3028e+01, -3.2441e+00,  4.3421e+00,  ..., -2.9262e+00,\n",
      "          -3.4475e+00, -1.2624e+00],\n",
      "         ...,\n",
      "         [-7.0602e+00, -2.7405e+00,  6.4707e+00,  ..., -2.5689e+00,\n",
      "          -3.6910e+00,  4.9523e-01],\n",
      "         [-1.3553e+01, -2.2666e+00,  9.1674e+00,  ..., -1.7797e+00,\n",
      "          -3.6782e+00,  1.7993e+00],\n",
      "         [-1.1369e+01, -1.9013e+00,  8.4878e+00,  ..., -4.8481e-01,\n",
      "          -2.7964e+00,  2.8347e+00]]], grad_fn=<AddBackward0>)\n"
     ]
    }
   ],
   "source": [
    "__batch_size__ = 8\n",
    "__en_seq_length__ = random.randint(13, 23)\n",
    "__de_seq_length__ = random.randint(13, 23)\n",
    "__encoder_input__ = torch.randint(low=0, high=hi_en_bart_tokenizer.vocab_size, size=(__batch_size__, __en_seq_length__))\n",
    "__decoder_input__ = torch.randint(low=0, high=en_bart_tokenizer.vocab_size, size=(__batch_size__, __de_seq_length__))\n",
    "__out__ = __model__.model(input_ids=__encoder_input__, decoder_input_ids=__decoder_input__, return_dict=True)\n",
    "print(f\"Model has a total of {__model__.model.num_parameters()} number of parameters\")\n",
    "print(\"Model encoder input size: \", __encoder_input__.size())\n",
    "print(\"Model decoder input size: \", __decoder_input__.size())\n",
    "print(\"Model output type: \", type(__out__))\n",
    "print(\"Model output size: \", __out__.logits.size())\n",
    "print(\"Model output:\\n\", __out__.logits)"
   ]
  },
  {
   "cell_type": "markdown",
   "id": "2680e45e-feb9-470d-ab00-5c2fd79f12a5",
   "metadata": {},
   "source": [
    "## Model Training"
   ]
  },
  {
   "cell_type": "code",
   "execution_count": 28,
   "id": "7f53f7d8-b0c1-4708-86b6-392c96199678",
   "metadata": {},
   "outputs": [
    {
     "data": {
      "text/plain": [
       "defaultdict(dict,\n",
       "            {'hi_en__en': {'object': <src.machine_translation.data.CodeMixedDataLoader at 0x29f03da30>,\n",
       "              'train': <torch.utils.data.dataloader.DataLoader at 0x29f03d340>,\n",
       "              'validation': <torch.utils.data.dataloader.DataLoader at 0x29f03d7c0>,\n",
       "              'test': <torch.utils.data.dataloader.DataLoader at 0x29f03dbe0>}})"
      ]
     },
     "execution_count": 28,
     "metadata": {},
     "output_type": "execute_result"
    }
   ],
   "source": [
    "data_loaders = get_data_loader_models(\n",
    "    train_df=train_df,\n",
    "    validation_df=validation_df,\n",
    "    test_df=test_df,\n",
    "    encoder_tokenizer=hi_en_bart_tokenizer,\n",
    "    decoder_tokenizer=en_bart_tokenizer\n",
    ")\n",
    "data_loaders"
   ]
  },
  {
   "cell_type": "code",
   "execution_count": 29,
   "id": "aa40f729-86df-420c-8ca4-0db91a27efb7",
   "metadata": {},
   "outputs": [],
   "source": [
    "data_loader, train_data_laoder, validation_data_loader, test_data_loader = data_loaders[\"hi_en__en\"].values()"
   ]
  },
  {
   "cell_type": "code",
   "execution_count": null,
   "id": "e78bebb2-7b98-488a-9652-00312f4ae784",
   "metadata": {},
   "outputs": [
    {
     "name": "stdout",
     "output_type": "stream",
     "text": [
      "Loading model...\n",
      "No saved model to load as `saved_model_path` was not provided in the `__init__()`...\n",
      "Freezing the model...\n",
      "BartForConditionalGeneration(\n",
      "  (model): BartModel(\n",
      "    (shared): Embedding(50265, 1024, padding_idx=1)\n",
      "    (encoder): BartEncoder(\n",
      "      (embed_tokens): Embedding(50265, 1024, padding_idx=1)\n",
      "      (embed_positions): BartLearnedPositionalEmbedding(1026, 1024)\n",
      "      (layers): ModuleList(\n",
      "        (0-11): 12 x BartEncoderLayer(\n",
      "          (self_attn): BartAttention(\n",
      "            (k_proj): Linear(in_features=1024, out_features=1024, bias=True)\n",
      "            (v_proj): Linear(in_features=1024, out_features=1024, bias=True)\n",
      "            (q_proj): Linear(in_features=1024, out_features=1024, bias=True)\n",
      "            (out_proj): Linear(in_features=1024, out_features=1024, bias=True)\n",
      "          )\n",
      "          (self_attn_layer_norm): LayerNorm((1024,), eps=1e-05, elementwise_affine=True)\n",
      "          (activation_fn): GELUActivation()\n",
      "          (fc1): Linear(in_features=1024, out_features=4096, bias=True)\n",
      "          (fc2): Linear(in_features=4096, out_features=1024, bias=True)\n",
      "          (final_layer_norm): LayerNorm((1024,), eps=1e-05, elementwise_affine=True)\n",
      "        )\n",
      "      )\n",
      "      (layernorm_embedding): LayerNorm((1024,), eps=1e-05, elementwise_affine=True)\n",
      "    )\n",
      "    (decoder): BartDecoder(\n",
      "      (embed_tokens): Embedding(50265, 1024, padding_idx=1)\n",
      "      (embed_positions): BartLearnedPositionalEmbedding(1026, 1024)\n",
      "      (layers): ModuleList(\n",
      "        (0-11): 12 x BartDecoderLayer(\n",
      "          (self_attn): BartAttention(\n",
      "            (k_proj): Linear(in_features=1024, out_features=1024, bias=True)\n",
      "            (v_proj): Linear(in_features=1024, out_features=1024, bias=True)\n",
      "            (q_proj): Linear(in_features=1024, out_features=1024, bias=True)\n",
      "            (out_proj): Linear(in_features=1024, out_features=1024, bias=True)\n",
      "          )\n",
      "          (activation_fn): GELUActivation()\n",
      "          (self_attn_layer_norm): LayerNorm((1024,), eps=1e-05, elementwise_affine=True)\n",
      "          (encoder_attn): BartAttention(\n",
      "            (k_proj): Linear(in_features=1024, out_features=1024, bias=True)\n",
      "            (v_proj): Linear(in_features=1024, out_features=1024, bias=True)\n",
      "            (q_proj): Linear(in_features=1024, out_features=1024, bias=True)\n",
      "            (out_proj): Linear(in_features=1024, out_features=1024, bias=True)\n",
      "          )\n",
      "          (encoder_attn_layer_norm): LayerNorm((1024,), eps=1e-05, elementwise_affine=True)\n",
      "          (fc1): Linear(in_features=1024, out_features=4096, bias=True)\n",
      "          (fc2): Linear(in_features=4096, out_features=1024, bias=True)\n",
      "          (final_layer_norm): LayerNorm((1024,), eps=1e-05, elementwise_affine=True)\n",
      "        )\n",
      "      )\n",
      "      (layernorm_embedding): LayerNorm((1024,), eps=1e-05, elementwise_affine=True)\n",
      "    )\n",
      "  )\n",
      "  (lm_head): Linear(in_features=1024, out_features=50265, bias=False)\n",
      ")\n",
      "\n",
      "Configuring optimizer and scheduler...\n",
      "\n",
      "Configuring criterion...\n",
      "\n",
      "Training the model...\n",
      "\n",
      "DEVICE - cpu || EPOCHS - 50 || LEARNING RATE - 0.0.\n",
      "\n",
      "EPOCH - 1/50 || START AT - 17:55:01 24|11|2023 || LEARNING RATE - 0.0\n",
      "\n"
     ]
    }
   ],
   "source": [
    "mt_model = CodeMixedModel(\n",
    "    train_data_loader=train_data_laoder,\n",
    "    validation_data_loader=validation_data_loader,\n",
    "    test_data_loader=test_data_loader,\n",
    "    trainable_layers=[\n",
    "        \"model.shared.weight\",\n",
    "        # \"model.encoder.embed_positions.weight\",\n",
    "        # \"model.decoder.embed_positions.weight\"\n",
    "    ]\n",
    ")\n",
    "trained_mt_model, best_trained_mt_model = mt_model.fit()"
   ]
  },
  {
   "cell_type": "code",
   "execution_count": null,
   "id": "552df5e7-e547-4ce2-b432-587345d072fd",
   "metadata": {},
   "outputs": [],
   "source": []
  }
 ],
 "metadata": {
  "kernelspec": {
   "display_name": "Python 3 (ipykernel)",
   "language": "python",
   "name": "python3"
  },
  "language_info": {
   "codemirror_mode": {
    "name": "ipython",
    "version": 3
   },
   "file_extension": ".py",
   "mimetype": "text/x-python",
   "name": "python",
   "nbconvert_exporter": "python",
   "pygments_lexer": "ipython3",
   "version": "3.9.18"
  }
 },
 "nbformat": 4,
 "nbformat_minor": 5
}
